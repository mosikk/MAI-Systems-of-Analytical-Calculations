{
 "cells": [
  {
   "cell_type": "markdown",
   "metadata": {},
   "source": [
    "# Лабораторная работа 2.\n",
    "## Часть 1 - метод дихотомии, метод Ньютона.\n",
    "\n",
    "1. Реализовать функции для метода дихотомии и метода Ньютона.\n",
    "2. Сделать ползунок для перебора значений входных параметров.\n",
    "3. Сделать вывод 6 кадров нахождения решения и оформить их через массив графиков.\n",
    "4. Сравнить полученный результат с функцией solve().\n",
    "\n",
    "Функция: $y=x^3-9x^2+23x-15$"
   ]
  },
  {
   "cell_type": "code",
   "execution_count": 1,
   "metadata": {},
   "outputs": [],
   "source": [
    "y(x) = x**3 - 9 * x**2 + 23 * x - 15"
   ]
  },
  {
   "cell_type": "code",
   "execution_count": 2,
   "metadata": {},
   "outputs": [
    {
     "data": {
      "text/html": [
       "<html><script type=\"math/tex; mode=display\">\\newcommand{\\Bold}[1]{\\mathbf{#1}}x^{3} - 9 \\, x^{2} + 23 \\, x - 15</script></html>"
      ],
      "text/latex": [
       "\\begin{math}\n",
       "\\newcommand{\\Bold}[1]{\\mathbf{#1}}x^{3} - 9 \\, x^{2} + 23 \\, x - 15\n",
       "\\end{math}"
      ],
      "text/plain": [
       "x^3 - 9*x^2 + 23*x - 15"
      ]
     },
     "metadata": {},
     "output_type": "display_data"
    }
   ],
   "source": [
    "show(y(x))"
   ]
  },
  {
   "cell_type": "code",
   "execution_count": 3,
   "metadata": {},
   "outputs": [
    {
     "data": {
      "image/png": "[encoded data removed]",
      "text/plain": [
       "Graphics object consisting of 1 graphics primitive"
      ]
     },
     "execution_count": 3,
     "metadata": {},
     "output_type": "execute_result"
    }
   ],
   "source": [
    "plot(y, (x, 0, 6), ymin=-4, ymax=5)"
   ]
  },
  {
   "cell_type": "markdown",
   "metadata": {},
   "source": [
    "### Метод дихотомии."
   ]
  },
  {
   "cell_type": "code",
   "execution_count": 4,
   "metadata": {},
   "outputs": [],
   "source": [
    "def diсhotomy(func, left, right, eps=1e-15, visualization=False):\n",
    "    '''\n",
    "    func - функция, к которой применяем метод дихотомии\n",
    "    left, right - границы интервала поиска решения\n",
    "    eps - точность\n",
    "    visualization - нужна ли визуализация?\n",
    "    \n",
    "    Возвращает: n(left) - численное решение уравнения func=0\n",
    "                (n(left), plots_array) - решение уравнения и массив графиков для визуализации (если visualization == True)\n",
    "    '''\n",
    "    \n",
    "    func_plot = plot(y, (x, 0, 6), ymin=-4, ymax=5) # график функции\n",
    "    plots_array = [] # массив графиков для визуализации\n",
    "    \n",
    "    while abs(right - left) > eps:\n",
    "        mid = (left + right) / 2\n",
    "        if func(x=left) * func(x=mid) > 0:\n",
    "            left = mid\n",
    "        elif func(x=right) * func(x=right) > 0:\n",
    "            right = mid\n",
    "        \n",
    "        if visualization:\n",
    "            plots_array.append(((point((mid, func(mid)), color=\"red\", size=100)) + func_plot)\n",
    "                + text((r\"$x={}, y={}$\").format(mid, func(mid)), (2, -5), fontsize=14, color=\"black\"))\n",
    "        \n",
    "    if visualization:\n",
    "        # добавим график с результатом\n",
    "        plots_array.append(((point((left, func(left)), color=\"red\", size=100)) + func_plot)\n",
    "                + text((r\"$x={}, y={}$\").format(left, func(left)), (2, -5), fontsize=14, color=\"black\"))\n",
    "        return (n(left), plots_array)\n",
    "    else:\n",
    "        return n(left)"
   ]
  },
  {
   "cell_type": "markdown",
   "metadata": {},
   "source": [
    "Проверим работу функции на следующих интервалах:\n",
    "1. $[-1; 2.5]$\n",
    "2. $[2,5; 4]$\n",
    "3. $[4; 6]$"
   ]
  },
  {
   "cell_type": "code",
   "execution_count": 5,
   "metadata": {},
   "outputs": [
    {
     "data": {
      "text/plain": [
       "1.00000000000000"
      ]
     },
     "execution_count": 5,
     "metadata": {},
     "output_type": "execute_result"
    }
   ],
   "source": [
    "diсhotomy(y, -1, 2.5)"
   ]
  },
  {
   "cell_type": "code",
   "execution_count": 6,
   "metadata": {},
   "outputs": [
    {
     "data": {
      "text/plain": [
       "3.00000000000000"
      ]
     },
     "execution_count": 6,
     "metadata": {},
     "output_type": "execute_result"
    }
   ],
   "source": [
    "diсhotomy(y, 2.5, 4)"
   ]
  },
  {
   "cell_type": "code",
   "execution_count": 7,
   "metadata": {},
   "outputs": [
    {
     "data": {
      "text/plain": [
       "5.00000000000000"
      ]
     },
     "execution_count": 7,
     "metadata": {},
     "output_type": "execute_result"
    }
   ],
   "source": [
    "diсhotomy(y, 4, 6)"
   ]
  },
  {
   "cell_type": "markdown",
   "metadata": {},
   "source": [
    "### Визуализация метода дихотомии."
   ]
  },
  {
   "cell_type": "markdown",
   "metadata": {},
   "source": [
    "Сгенерируем массив графиков для визуализации. Функция будет выводить столько графиков, сколько было совершено итераций при поиске ответа.\n",
    "\n",
    "*Примечания:*\n",
    "1. *graphics_array требует, чтобы количество графиков в строке было одинаковым, поэтому в случае нечетного количества графиков будем выводить последний два раза.*\n",
    "2. *Так как количество итераций может быть довольно большим, точность искомого результата на графиках снижена. Это ускорит работу функции и не повлияет на визуализацию.*"
   ]
  },
  {
   "cell_type": "code",
   "execution_count": 8,
   "metadata": {},
   "outputs": [
    {
     "data": {
      "application/vnd.jupyter.widget-view+json": {
       "model_id": "2c8f43c48cae4b78b15c42af315439bd",
       "version_major": 2,
       "version_minor": 0
      },
      "text/plain": [
       "Interactive function <function diсhotomy_interactive at 0x6fff444dbef0> with 2 widgets\n",
       "  left: FloatSlider(val…"
      ]
     },
     "metadata": {},
     "output_type": "display_data"
    }
   ],
   "source": [
    "@interact\n",
    "def diсhotomy_interactive(left=(-1, 6, 0.5), right=(-1, 6, 0.5)):\n",
    "    result, plots = diсhotomy(y, left, right, eps=1e-1, visualization=True)\n",
    "    print('ANSWER:', result)\n",
    "    graphics_array([[plots[i], plots[i + 1]] if i + 1 < len(plots) else [plots[i], plots[i]] for i in range(0, len(plots), 2)]).show(figsize=15)"
   ]
  },
  {
   "cell_type": "markdown",
   "metadata": {},
   "source": [
    "### Метод Ньютона."
   ]
  },
  {
   "cell_type": "code",
   "execution_count": 9,
   "metadata": {},
   "outputs": [],
   "source": [
    "def newton(func, left, right, eps=1e-15, visualization=False):\n",
    "    '''\n",
    "    func - функция, к которой применяем метод Ньютона\n",
    "    left, right - границы интервала поиска решения\n",
    "    eps - точность\n",
    "    visualization - нужна ли визуализация?\n",
    "    \n",
    "    Возвращает: next - численное решение уравнения func=0\n",
    "                (next, plots_array) - решение уравнения и массив графиков для визуализации (если visualization == True)\n",
    "    '''\n",
    "    \n",
    "    func_plot = plot(y, (x, 0, 6), ymin=-4, ymax=5) # график функции\n",
    "    plots_array = [] # массив графиков для визуализации\n",
    "    \n",
    "    df = func.derivative()\n",
    "    cur = left\n",
    "    next = (left + right) / 2\n",
    "    \n",
    "    while abs(next - cur) > eps:\n",
    "        if visualization:\n",
    "            tangent = func(x=cur) + df(x=cur) * (x - cur) # уравнение касательной в точке\n",
    "            plots_array.append(((plot(tangent, (x, 0, 6), ymin=-9, ymax=5, color=\"red\")) + func_plot)\n",
    "                               + text((r\"$y={}$\" + \"\\n\" + r\"$cur={}, next={}$\").format(latex(tangent), cur, next), (2, -5), fontsize=14, color=\"black\"))\n",
    "        \n",
    "        cur = next\n",
    "        next = cur - func(x=cur) / df(x=cur)\n",
    "    \n",
    "    if visualization:\n",
    "        # добавим график с результатом\n",
    "        tangent = func(x=cur) + df(x=cur) * (x - cur)\n",
    "        plots_array.append(((plot(tangent, (x, 0, 6), ymin=-9, ymax=5, color=\"red\")) + func_plot)\n",
    "                               + text((r\"$y={}$\" + \"\\n\" + r\"$cur={}, next={}$\").format(latex(tangent), cur, next), (2, -5), fontsize=14, color=\"black\"))\n",
    "        return (next, plots_array)\n",
    "    else:\n",
    "        return next    "
   ]
  },
  {
   "cell_type": "markdown",
   "metadata": {},
   "source": [
    "Проверим работу функции на тех же интервалах."
   ]
  },
  {
   "cell_type": "code",
   "execution_count": 10,
   "metadata": {},
   "outputs": [
    {
     "data": {
      "text/plain": [
       "1.00000000000000"
      ]
     },
     "execution_count": 10,
     "metadata": {},
     "output_type": "execute_result"
    }
   ],
   "source": [
    "newton(y, -1, 2.5)"
   ]
  },
  {
   "cell_type": "code",
   "execution_count": 11,
   "metadata": {},
   "outputs": [
    {
     "data": {
      "text/plain": [
       "3.00000000000000"
      ]
     },
     "execution_count": 11,
     "metadata": {},
     "output_type": "execute_result"
    }
   ],
   "source": [
    "newton(y, 2.5, 4)"
   ]
  },
  {
   "cell_type": "code",
   "execution_count": 12,
   "metadata": {},
   "outputs": [
    {
     "data": {
      "text/plain": [
       "5"
      ]
     },
     "execution_count": 12,
     "metadata": {},
     "output_type": "execute_result"
    }
   ],
   "source": [
    "newton(y, 4, 6)"
   ]
  },
  {
   "cell_type": "markdown",
   "metadata": {},
   "source": [
    "### Визуализация метода Ньютона."
   ]
  },
  {
   "cell_type": "markdown",
   "metadata": {},
   "source": [
    "Сгенерируем массив графиков для визуализации. Функция будет выводить столько графиков, сколько было совершено итераций при поиске ответа.\n",
    "\n",
    "*Примечания:*\n",
    "1. *graphics_array требует, чтобы количество графиков в строке было одинаковым, поэтому в случае нечетного количества графиков будем выводить последний два раза.*\n",
    "2. *Так как количество итераций может быть довольно большим, точность искомого результата на графиках снижена. Это ускорит работу функции и не повлияет на визуализацию.*"
   ]
  },
  {
   "cell_type": "code",
   "execution_count": 13,
   "metadata": {
    "scrolled": false
   },
   "outputs": [
    {
     "data": {
      "application/vnd.jupyter.widget-view+json": {
       "model_id": "4b9c22e59d234429b666c49a5113e262",
       "version_major": 2,
       "version_minor": 0
      },
      "text/plain": [
       "Interactive function <function newton_interactive at 0x6fff3fcc6d40> with 2 widgets\n",
       "  left: FloatSlider(value=…"
      ]
     },
     "metadata": {},
     "output_type": "display_data"
    }
   ],
   "source": [
    "@interact\n",
    "def newton_interactive(left=(-1, 6, 0.5), right=(-1, 6, 0.5)):\n",
    "    result, plots = newton(y, left, right, eps=1e-2, visualization=True)\n",
    "    print('ANSWER:', result)\n",
    "    graphics_array([[plots[i], plots[i + 1]] if i + 1 < len(plots) else [plots[i], plots[i]] for i in range(0, len(plots), 2)]).show(figsize=15)"
   ]
  },
  {
   "cell_type": "markdown",
   "metadata": {},
   "source": [
    "Сравним полученные результаты с результатом функции solve()."
   ]
  },
  {
   "cell_type": "code",
   "execution_count": 14,
   "metadata": {},
   "outputs": [
    {
     "data": {
      "text/plain": [
       "[x == 1, x == 5, x == 3]"
      ]
     },
     "execution_count": 14,
     "metadata": {},
     "output_type": "execute_result"
    }
   ],
   "source": [
    "solve(y, x)"
   ]
  },
  {
   "cell_type": "markdown",
   "metadata": {},
   "source": [
    "Результаты совпали. Все функции реализованы корректно."
   ]
  },
  {
   "cell_type": "markdown",
   "metadata": {},
   "source": [
    "## Часть 2 - полиномы, НОД.\n",
    "\n",
    "1. Реализовать расширенный алгоритм Евклида.\n",
    "2. Рассчитать НОД, сравнить его с результатом функции gcd().\n",
    "3. Получить представление НОД в виде $u * f + v * g$ (тождество Безу).\n",
    "\n",
    "Вариант 1.  \n",
    "$f = x^4 - 4x^3 + 7x^2 - 5x + 1$  \n",
    "$g = x^5 - x^4 - x^3 + x^2 + 5x - 5$"
   ]
  },
  {
   "cell_type": "code",
   "execution_count": 15,
   "metadata": {},
   "outputs": [],
   "source": [
    "R.<x> = PolynomialRing(QQ) # Будем работать в кольце рациональных чисел\n",
    "f = x**4 - 4*x**3 + 7*x**2 - 5*x + 1\n",
    "g = x**5 - x**4 - x**3 + x**2 + 5*x - 5"
   ]
  },
  {
   "cell_type": "code",
   "execution_count": 16,
   "metadata": {},
   "outputs": [
    {
     "data": {
      "text/html": [
       "<html><script type=\"math/tex; mode=display\">\\newcommand{\\Bold}[1]{\\mathbf{#1}}x^{4} - 4 x^{3} + 7 x^{2} - 5 x + 1</script></html>"
      ],
      "text/latex": [
       "\\begin{math}\n",
       "\\newcommand{\\Bold}[1]{\\mathbf{#1}}x^{4} - 4 x^{3} + 7 x^{2} - 5 x + 1\n",
       "\\end{math}"
      ],
      "text/plain": [
       "x^4 - 4*x^3 + 7*x^2 - 5*x + 1"
      ]
     },
     "metadata": {},
     "output_type": "display_data"
    }
   ],
   "source": [
    "show(f)"
   ]
  },
  {
   "cell_type": "code",
   "execution_count": 17,
   "metadata": {},
   "outputs": [
    {
     "data": {
      "text/html": [
       "<html><script type=\"math/tex; mode=display\">\\newcommand{\\Bold}[1]{\\mathbf{#1}}x^{5} - x^{4} - x^{3} + x^{2} + 5 x - 5</script></html>"
      ],
      "text/latex": [
       "\\begin{math}\n",
       "\\newcommand{\\Bold}[1]{\\mathbf{#1}}x^{5} - x^{4} - x^{3} + x^{2} + 5 x - 5\n",
       "\\end{math}"
      ],
      "text/plain": [
       "x^5 - x^4 - x^3 + x^2 + 5*x - 5"
      ]
     },
     "metadata": {},
     "output_type": "display_data"
    }
   ],
   "source": [
    "show(g)"
   ]
  },
  {
   "cell_type": "markdown",
   "metadata": {},
   "source": [
    "Для начала рассчитаем НОД при помощи встроенной функции gcd()."
   ]
  },
  {
   "cell_type": "code",
   "execution_count": 18,
   "metadata": {},
   "outputs": [
    {
     "data": {
      "text/html": [
       "<html><script type=\"math/tex; mode=display\">\\newcommand{\\Bold}[1]{\\mathbf{#1}}x - 1</script></html>"
      ],
      "text/latex": [
       "\\begin{math}\n",
       "\\newcommand{\\Bold}[1]{\\mathbf{#1}}x - 1\n",
       "\\end{math}"
      ],
      "text/plain": [
       "x - 1"
      ]
     },
     "metadata": {},
     "output_type": "display_data"
    }
   ],
   "source": [
    "gcd_auto = gcd(f, g)\n",
    "show(gcd_auto)"
   ]
  },
  {
   "cell_type": "markdown",
   "metadata": {},
   "source": [
    "### Расширенный алгоритм Евклида. Тождество Безу."
   ]
  },
  {
   "cell_type": "code",
   "execution_count": 19,
   "metadata": {},
   "outputs": [],
   "source": [
    "def ext_euclid(f, g):\n",
    "    '''\n",
    "    f,g - полиномы\n",
    "    \n",
    "    Функция возвращает тройку чисел (gcd, u, v):\n",
    "    gcd - НОД полиномов f и g\n",
    "    u, v - коэффициенты в разложении Безу\n",
    "    '''\n",
    "    u, uu, v, vv = 1, 0, 0, 1\n",
    "    while g != 0:\n",
    "        quotient = f // g\n",
    "        remainder = f % g\n",
    "        q = quotient\n",
    "        f, g = g, remainder\n",
    "        u, uu = uu, u - uu*q\n",
    "        v, vv = vv, v - vv*q\n",
    "    return (f, u, v) "
   ]
  },
  {
   "cell_type": "code",
   "execution_count": 20,
   "metadata": {},
   "outputs": [
    {
     "data": {
      "text/html": [
       "<html><script type=\"math/tex; mode=display\">\\newcommand{\\Bold}[1]{\\mathbf{#1}}\\verb|GCD|\\phantom{\\verb!x!}\\verb|=| \\frac{1936}{441} x - \\frac{1936}{441}</script></html>"
      ],
      "text/latex": [
       "\\begin{math}\n",
       "\\newcommand{\\Bold}[1]{\\mathbf{#1}}\\verb|GCD|\\phantom{\\verb!x!}\\verb|=| \\frac{1936}{441} x - \\frac{1936}{441}\n",
       "\\end{math}"
      ],
      "text/plain": [
       "'GCD = ' 1936/441*x - 1936/441"
      ]
     },
     "metadata": {},
     "output_type": "display_data"
    },
    {
     "data": {
      "text/html": [
       "<html><script type=\"math/tex; mode=display\">\\newcommand{\\Bold}[1]{\\mathbf{#1}}\\verb|u|\\phantom{\\verb!x!}\\verb|=| -\\frac{16}{21} x^{3} - \\frac{128}{441} x^{2} + \\frac{656}{441} x + \\frac{1264}{441}</script></html>"
      ],
      "text/latex": [
       "\\begin{math}\n",
       "\\newcommand{\\Bold}[1]{\\mathbf{#1}}\\verb|u|\\phantom{\\verb!x!}\\verb|=| -\\frac{16}{21} x^{3} - \\frac{128}{441} x^{2} + \\frac{656}{441} x + \\frac{1264}{441}\n",
       "\\end{math}"
      ],
      "text/plain": [
       "'u = ' -16/21*x^3 - 128/441*x^2 + 656/441*x + 1264/441"
      ]
     },
     "metadata": {},
     "output_type": "display_data"
    },
    {
     "data": {
      "text/html": [
       "<html><script type=\"math/tex; mode=display\">\\newcommand{\\Bold}[1]{\\mathbf{#1}}\\verb|v|\\phantom{\\verb!x!}\\verb|=| \\frac{16}{21} x^{2} - \\frac{880}{441} x + \\frac{640}{441}</script></html>"
      ],
      "text/latex": [
       "\\begin{math}\n",
       "\\newcommand{\\Bold}[1]{\\mathbf{#1}}\\verb|v|\\phantom{\\verb!x!}\\verb|=| \\frac{16}{21} x^{2} - \\frac{880}{441} x + \\frac{640}{441}\n",
       "\\end{math}"
      ],
      "text/plain": [
       "'v = ' 16/21*x^2 - 880/441*x + 640/441"
      ]
     },
     "metadata": {},
     "output_type": "display_data"
    }
   ],
   "source": [
    "gcd_euclid, u, v = ext_euclid(f, g)\n",
    "show(\"GCD = \", gcd_euclid(x))\n",
    "show(\"u = \", u(x))\n",
    "show(\"v = \", v(x))"
   ]
  },
  {
   "cell_type": "markdown",
   "metadata": {},
   "source": [
    "Нормируем полученные многочлены для последующей работы с ними: домножим все выражения на $\\large{\\frac{441}{1936}}$."
   ]
  },
  {
   "cell_type": "code",
   "execution_count": 21,
   "metadata": {
    "scrolled": true
   },
   "outputs": [
    {
     "data": {
      "text/html": [
       "<html><script type=\"math/tex; mode=display\">\\newcommand{\\Bold}[1]{\\mathbf{#1}}\\verb|GCD|\\phantom{\\verb!x!}\\verb|=| x - 1</script></html>"
      ],
      "text/latex": [
       "\\begin{math}\n",
       "\\newcommand{\\Bold}[1]{\\mathbf{#1}}\\verb|GCD|\\phantom{\\verb!x!}\\verb|=| x - 1\n",
       "\\end{math}"
      ],
      "text/plain": [
       "'GCD = ' x - 1"
      ]
     },
     "metadata": {},
     "output_type": "display_data"
    },
    {
     "data": {
      "text/html": [
       "<html><script type=\"math/tex; mode=display\">\\newcommand{\\Bold}[1]{\\mathbf{#1}}\\verb|u|\\phantom{\\verb!x!}\\verb|=| -\\frac{21}{121} x^{3} - \\frac{8}{121} x^{2} + \\frac{41}{121} x + \\frac{79}{121}</script></html>"
      ],
      "text/latex": [
       "\\begin{math}\n",
       "\\newcommand{\\Bold}[1]{\\mathbf{#1}}\\verb|u|\\phantom{\\verb!x!}\\verb|=| -\\frac{21}{121} x^{3} - \\frac{8}{121} x^{2} + \\frac{41}{121} x + \\frac{79}{121}\n",
       "\\end{math}"
      ],
      "text/plain": [
       "'u = ' -21/121*x^3 - 8/121*x^2 + 41/121*x + 79/121"
      ]
     },
     "metadata": {},
     "output_type": "display_data"
    },
    {
     "data": {
      "text/html": [
       "<html><script type=\"math/tex; mode=display\">\\newcommand{\\Bold}[1]{\\mathbf{#1}}\\verb|v|\\phantom{\\verb!x!}\\verb|=| \\frac{21}{121} x^{2} - \\frac{5}{11} x + \\frac{40}{121}</script></html>"
      ],
      "text/latex": [
       "\\begin{math}\n",
       "\\newcommand{\\Bold}[1]{\\mathbf{#1}}\\verb|v|\\phantom{\\verb!x!}\\verb|=| \\frac{21}{121} x^{2} - \\frac{5}{11} x + \\frac{40}{121}\n",
       "\\end{math}"
      ],
      "text/plain": [
       "'v = ' 21/121*x^2 - 5/11*x + 40/121"
      ]
     },
     "metadata": {},
     "output_type": "display_data"
    }
   ],
   "source": [
    "gcd_euclid_norm = gcd_euclid * 441/1936\n",
    "u_norm = u * 441/1936\n",
    "v_norm = v * 441/1936\n",
    "show(\"GCD = \", gcd_euclid_norm(x))\n",
    "show(\"u = \", u_norm(x))\n",
    "show(\"v = \", v_norm(x))"
   ]
  },
  {
   "cell_type": "markdown",
   "metadata": {},
   "source": [
    "Результат, полученный при помощи алгоритма Евклида, совпал с результатом, полученным с помощью функции gcd(). Следовательно НОД полиномов $f$ и $g$ равен $x-1$.\n",
    "\n",
    "При помощи расширенного алгоритма Евклида вычислили коэффициенты в разложении Безу. Проверим корректность найденных коэффициентов."
   ]
  },
  {
   "cell_type": "code",
   "execution_count": 22,
   "metadata": {},
   "outputs": [
    {
     "data": {
      "text/plain": [
       "x - 1"
      ]
     },
     "execution_count": 22,
     "metadata": {},
     "output_type": "execute_result"
    }
   ],
   "source": [
    "u_norm * f + v_norm * g"
   ]
  },
  {
   "cell_type": "markdown",
   "metadata": {},
   "source": [
    "Полученный результат совпал с НОД, значит найденные коэффициенты верны. Алгоритм работает корректно."
   ]
  }
 ],
 "metadata": {
  "kernelspec": {
   "display_name": "SageMath 9.2",
   "language": "sage",
   "name": "sagemath"
  },
  "language_info": {
   "codemirror_mode": {
    "name": "ipython",
    "version": 3
   },
   "file_extension": ".py",
   "mimetype": "text/x-python",
   "name": "python",
   "nbconvert_exporter": "python",
   "pygments_lexer": "ipython3",
   "version": "3.7.7"
  }
 },
 "nbformat": 4,
 "nbformat_minor": 4
}
