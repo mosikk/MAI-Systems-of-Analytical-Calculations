{
 "cells": [
  {
   "cell_type": "markdown",
   "metadata": {},
   "source": [
    "# Лабораторная работа 7\n",
    "## Матрицы, СЛАУ (Wolfram)\n",
    "\n",
    "Взять задание Sage лабы 2.3 (приведение уравнения поверхности в пространстве к каноническому виду)\n",
    "\tи выполнить без части по LaTeX.\n",
    "\t\n",
    "Должно быть:\n",
    "* задание системы уравнений для поиска собственных чисел в общем виде,\n",
    "* получение СЛАУ не вручную, а через матричные операции умножения,\n",
    "* решение этой системы,\n",
    "* получение характеристического полинома через определитель,\n",
    "* автоматизированное сравнение с характеричтическим полиномом по встроенным функциям Wolfram,\n",
    "* решение характеристического полинома и получение таким образом собственных чисел,\n",
    "* автоматизированная проверка собственных чисел с встроенными в Wolfram функциями по получению собственных чисел,\n",
    "* аналогично для собственных векторов.\n",
    "* График для исходного уравнения,\n",
    "* график для уравнения в каноническом виде.\n",
    "\n",
    "\n",
    "Вариант 1.  \n",
    "$f = 7x^2 + 8xy + 3y^2 + 8xz + 6yz + 3z^2 + 6x + y + 7$\n",
    "\n",
    "*Алгоритм и все формулы взяты отсюда: http://mathhelpplanet.com/static.php?p=privedenie-uravneniya-poverhnosti-k-kanonicheskomu-vidu*"
   ]
  },
  {
   "cell_type": "code",
   "execution_count": 1,
   "metadata": {},
   "outputs": [
    {
     "data": {
      "text/html": [
       "<div><img alt=\"Output\" src=\"data:image/png;base64,iVBORw0KGgoAAAANSUhEUgAAARYAAAARCAIAAACXXRQUAAAAznpUWHRSYXcgcHJvZmlsZSB0eXBlIGV4aWYAAHjadU/bbQMxDPv3FB1BL1P2OL7EAbJBx690dlC4QAmcSNGUDirz+/0qXwlhKla9oQMUsG5dRohGC4uZ+l1Xg6349At/AiOs+vuAuf3r9B2Lpf1ZRLKE5h9Cq+2BvUhl+TxWf+28jNbORUoH7HMW/9OrCyrYLaoJuaOHbiVkEKpQdbzwACLIeArZI3jCPcbgmdCRgwmZfqZngYbxzBM0P9YRXO8KSUdCs2pUU5IrfL1f85wfDr1agvZXeFMAAAAJcEhZcwAACxMAAAsTAQCanBgAAAA8dEVYdFNvZnR3YXJlAENyZWF0ZWQgd2l0aCB0aGUgV29sZnJhbSBMYW5ndWFnZSA6IHd3dy53b2xmcmFtLmNvbVyipoUAAAAhdEVYdENyZWF0aW9uIFRpbWUAMjAyMTowNTowNiAyMjoxMzo0MEVFLU4AAANqSURBVGiB7Vo7cuMwDIUyexQlhSYnkE/gdZMq7XZ0qTTpcgM3dJkybSo3pk4Qn0DjQuRduIVkWbFAEqQ+jid6lYcW8YAHQwSYRFprmDFjRiju/Lfk6yiKomixVcO7M2NgzMkyYTBlvEtIbcsnrbUWjy+bvCf5jJExJ8uEAZWJghu5fL0oX7+yuB//jEkwJ8uE/soENHInJM+rOSW3gjlZJvRW5q5pCiusiadavt49eJeu2i6ia7TmV+KtaamS0i36xhGUrDbhgCGMCm99QpTp1IsWQugagrHmsw2CAe3BzraUS60lT6sPE+EqvIIBBKlkhuSMS13FQbccmCw9SgijwlefMGU69QKICw4/06Ye/Rw4R3b6TU+DK/COXKyCEY2HJ2vy99yQIOjTQ5mWDcbltxLCKqhiqt/hjCiqFFxgj0meAjCBRugiqkOul/FaGIG3pXSKKG1glDwFxhieH4KkpkBOBjiac4pEyK6AENxcYbpRowjSx+ESssHKcq4X6Kyg3Ixz+hvJcppZewMXUfuAFshjw/PK06qUBmkwxurnJ8S5eOmMpEDAWB0uiYYLwcoVphs5ihB9XC4FOFl/3dzIqf0xwa8m4tVzWsCKNHUppZSSACCVUupyplPbXSIlL/7i856LKH54PBnKy+9T4Ei8cZZlMSilIL780s6YJq/LJUCcvTEoyg6nmdFuFmD5rrXk6cHw1wyLRF30CsHKFayb03KwPhaXuiA4ea6XP6cleYSHzGjz8LlXmbOI1HazOQJAURSPmyMAJK/v501q++8z+cji+EvC4n6TZ+9LT6L7JC1KBUspIWvvHZVXKYi7PwQrI8DhKAHscmGMLrMV4uyNvexwqyaJkLh6h2DnCtLNYbmnPqhLyGMUlla9NAegqc0RjIuqJZXEM9BwAn4b65HewE0keZpyIfBRYBTeZgHviiyMVSuB9/KuSF33OparJIdEZC5XCA6uMN0olinbUX0cLnmytOoFOistG4JBS0dGzYt1qgKATqtKJrLPyIPz1o01stPF2Gy9kJUWqXk+QY1eEntdpHmHQODqoZvDsm27VR+nS35OtusFDM/8SEiPt+svxZQSjcd1U4luZqGfjHy9KJ8+oNyvMvO49rsxpUTjcd1konv8j9yUOHzu9iv3fcZvxpQSjcd1g4n+D1IZDhCZObzfAAAAAElFTkSuQmCC\"></div>"
      ],
      "text/plain": [
       "FormBox[RowBox[{RowBox[{\"7\", \" \", SuperscriptBox[\"x\", \"2\"]}], \"+\", \n",
       "\n",
       " \n",
       ">        RowBox[{\"8\", \" \", \"x\", \" \", \"y\"}], \"+\", RowBox[{\"8\", \" \", \"x\", \" \", \"z\"}], \"+\",\\\n",
       " \n",
       ">    \n",
       "     RowBox[{\"6\", \" \", \"x\"}], \"+\", RowBox[{\"3\", \" \", SuperscriptBox[\"y\", \"2\"]}],\\\n",
       " \n",
       ">    \"+\", \n",
       "     RowBox[{\"6\", \" \", \"y\", \" \", \"z\"}], \"+\", \"y\", \"+\", \n",
       "\n",
       " \n",
       ">        RowBox[{\"3\", \" \", SuperscriptBox[\"z\", \"2\"]}], \"+\", \"7\"}], TraditionalForm]\n"
      ]
     },
     "execution_count": 2,
     "metadata": {
      "text/html": [],
      "text/plain": []
     },
     "output_type": "execute_result"
    }
   ],
   "source": [
    "f := 7*x^2 + 8*x*y + 3*y^2 + 8*x*z + 6*y*z + 3*z^2 + 6*x + y + 7;\n",
    "f // TraditionalForm"
   ]
  },
  {
   "cell_type": "markdown",
   "metadata": {},
   "source": [
    "Построим поверхность по исходному уравнению."
   ]
  },
  {
   "cell_type": "code",
   "execution_count": 3,
   "metadata": {},
   "outputs": [],
   "source": [
    "initial[a_, b_, c_] := f /. {x->a, y->b, z->c}"
   ]
  },
  {
   "cell_type": "code",
   "execution_count": 4,
   "metadata": {},
   "outputs": [
    {
     "data": {
      "text/html": [
       "<div><img alt=\"Output\" src=\"data:image/png;base64,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\"></div>"
      ],
      "text/plain": [
       "-Graphics3D-"
      ]
     },
     "execution_count": 4,
     "metadata": {
      "text/html": [],
      "text/plain": []
     },
     "output_type": "execute_result"
    }
   ],
   "source": [
    "ContourPlot3D[initial[x, y, z] == 0, {x, -10, 10}, {y, -10, 10}, {z, -10, 10}]"
   ]
  },
  {
   "cell_type": "markdown",
   "metadata": {},
   "source": [
    "Составим матрицу квадратичной формы"
   ]
  },
  {
   "cell_type": "code",
   "execution_count": 5,
   "metadata": {},
   "outputs": [
    {
     "data": {
      "text/html": [
       "<div><img alt=\"Output\" src=\"data:image/png;base64,iVBORw0KGgoAAAANSUhEUgAAAD0AAAAwCAIAAAAtnuVgAAAAz3pUWHRSYXcgcHJvZmlsZSB0eXBlIGV4aWYAAHjabU9bDsMgDPvnFDsCJMGB49CWSrvBjr8E6KZOs0RsnBeE/nqe4eGgFINkLahANEiVSs1EiROTU6wjDvCxcunuB778Zlb+JtCXv919xWQqP4MirU2+wTTLaliDmKaf2rxvq55aKfdB15MWpHye/v/OSshIKhaFoiqq6RJMGiFTzIoTO2CFCQdF2Y07VK0N6hXcvNFBXe/VPYDNOPwL7CdxM84jgtwh04nZojDRZj6PrH/nDVV6WrQ5hiNqAAAACXBIWXMAAAsTAAALEwEAmpwYAAAAPHRFWHRTb2Z0d2FyZQBDcmVhdGVkIHdpdGggdGhlIFdvbGZyYW0gTGFuZ3VhZ2UgOiB3d3cud29sZnJhbS5jb21coqaFAAAAIXRFWHRDcmVhdGlvbiBUaW1lADIwMjE6MDU6MDYgMjI6MTM6NDKrS0xiAAACv0lEQVRoge2aP2/aQBjGj6oS3syGRwaoTigDM/kE0KVT1jKZkSzZIrHwAcyE4sXqhJTFmWD0RMUGQ1TLNRJiMqOZMNN1oEp8Z3N+DxGbJDybL88dv/uDed97kyOEoHeoL1kDHCkA97ido9Ueg4Ze9K/hZlE/gLvxQF41UlG9WgEMPG5XHq/UOgjiGD+JqNvtRhv3crU6UkeH/spMT3PBdq5/MBhEO7DcpmnOZjPu6FAK+DT5ftu2Pc9jGtlzMp/Pa7Va7M4s+j1dve+Uk3e8iUaTZB/UjzGeTqdsa3gSnufFbgoh+7WALLarRc8orx/Ib5rmdrsNt1DchmEsl8vY4UcqAh5Vhkmk00G/bduGYYRbqHPiOE6pVIrZqkW/p9e1uwZk299CGGPHccItX0H9yp0J6Yh/XLkzEfox5vmDIAg/Uuu9Xq/FwFKULMvhR4pbkqR0YQS02+3CjxR3sVhMF0ZAzFmguDebTbowx4vi9n0/Kw5RfeA49iz1CbjhcX0o07juL07vRwLcInH9S6bhauj2ZzKJqB+Bucft5rP2664Kc1O6+gaOaAX8IO49NTyiftn5yuON+wCJxkT9sLxYLA9A6HXn7/9UQN8IUX8y96Lf05He3C/H7W+kN+FfHoQaP1T0/BfqFvAncpc7k0hcD1/88ZNev/kO3yqw/y3e36HXWq/qJk9S1I8QovPLVqsFT6pSFsP2CX4vz0oX7nR14U5XH4JbUZSsOERFcefzeY4127yBuduhuFerFWfsbPMG5m6H4i4UCgeps84bmLsd0D3bOeQNvHMiyzJz7fmfOuu8wfd95l6Tigcty7Isi47DROsHjKAlIb7fsiym6sTWpTjFNPH6wamwCVNsINE4VpKkmKMiphPnDUEQYIzZTsw8eKWpjDQcDpmiFImut6IoMZPLVBjj6IsuRy7/D5Gm/gFvsVQnokrJLQAAAABJRU5ErkJggg==\"></div>"
      ],
      "text/plain": [
       "7   4   4\n",
       "\n",
       "4   3   3\n",
       "\n",
       "4   3   3"
      ]
     },
     "execution_count": 6,
     "metadata": {
      "text/html": [],
      "text/plain": []
     },
     "output_type": "execute_result"
    }
   ],
   "source": [
    "A = {\n",
    "        {7, 4, 4},\n",
    "        {4, 3, 3},\n",
    "        {4, 3, 3}\n",
    "    };\n",
    "\n",
    "A // MatrixForm"
   ]
  },
  {
   "cell_type": "markdown",
   "metadata": {},
   "source": [
    "Составим характеристический многочлен."
   ]
  },
  {
   "cell_type": "code",
   "execution_count": 7,
   "metadata": {},
   "outputs": [
    {
     "data": {
      "text/html": [
       "<div><img alt=\"Output\" src=\"data:image/png;base64,iVBORw0KGgoAAAANSUhEUgAAAFsAAAARCAIAAAA9l0fEAAAAz3pUWHRSYXcgcHJvZmlsZSB0eXBlIGV4aWYAAHjabU9ZbkQhDPvnFHOEbDhwHN4MI/UGPf4kD9SKqpaIHWcByvz+epdHQpiKVW/oAAWsW5cRotHCYqZ+xxv12jU+/cJb8Air/hYwt3+dvmOxtD+LSJbQvCG02h7Yi1SWz2Pl1+6X0dq5SOmAtZ+n/5+rCyrYLaIJuaOHbiVkEKpQdbzxBKKR8RKyZ/CEe4zBs0NHDiZk+tk9CzSMV35B87CO4HpHSDoSmlUjmqpc4etdze98AFQqWrQyxBUxAAAACXBIWXMAAAsTAAALEwEAmpwYAAAAPHRFWHRTb2Z0d2FyZQBDcmVhdGVkIHdpdGggdGhlIFdvbGZyYW0gTGFuZ3VhZ2UgOiB3d3cud29sZnJhbS5jb21coqaFAAAAIXRFWHRDcmVhdGlvbiBUaW1lADIwMjE6MDU6MDYgMjI6MTM6NDPcTHz0AAAB5klEQVRYhe2XMZKCMBSGX3Y8SrRwOAGegLWh8gixhMZuy+1oQmlpuxXNJidwT8BYkNwlWwhIAoGEcWnWv3I0vO+fP+G9iJRS8FJHb64LZb5DCCG0y+Vf+jHEj4tDnROB/UUppVjw9b2YO5lX8R2aZnwpKCgvCUqZ3xNPESMhFQux3M8I8CNC6zQtltuth7aHPV6KNR6YoCEAENb9gsw4JYKGRhUAABjeeRPKyBxkD9pQJ6CTbw0jegSMep/f2klbRlBCxYDjQSgjljWeUMXIPQsrtYZOJdJ4Y6Q+U8/Zrrb4YLwNtDlKM7ka9JGsJZIGOtFHeFEGcQQA0bl+8BzZ1kqec58xJPMqviYD7aGF4uTaGrZz3WBV2XzEmwDKynTaQscT4UV5ODlbqW6Vs0N+ROs0fR+6aPhB3RVu1yN+WugKAKTUbGGMu8tceryUEkAAgJBSq2BVdFbqlO/WacYTffv9oEO2Z6gDXYHMs+zW/XV7OicYAGT+WR4uDpimQlmWQXbrVJgQTj5IWpi1PKE92xbWJvgpBAC+v0BB3F2qQ8f6UkgZc7+RNSNkssl1mpn5pTd03FA4PGuMfq5DrYkIRiAkzGPS2hPRB9VjgvQy8ofa1Z+OlvuIAUXq9d9Xl8ct/p/olYipX12jPW7r1m6lAAAAAElFTkSuQmCC\"></div>"
      ],
      "text/plain": [
       "FormBox[RowBox[{RowBox[{\"-\", RowBox[{SuperscriptBox[\"l\", \"3\"]}]}], \"+\", \n",
       "\n",
       " \n",
       ">        RowBox[{\"13\", \" \", SuperscriptBox[\"l\", \"2\"]}], \"-\", RowBox[{\"10\", \" \", \"l\"}]}],\\\n",
       " \n",
       ">    \n",
       "   TraditionalForm]\n"
      ]
     },
     "execution_count": 8,
     "metadata": {
      "text/html": [],
      "text/plain": []
     },
     "output_type": "execute_result"
    }
   ],
   "source": [
    "myCharPoly = Det[A - IdentityMatrix[3] * l];\n",
    "myCharPoly // TraditionalForm"
   ]
  },
  {
   "cell_type": "markdown",
   "metadata": {},
   "source": [
    "Сравним полученный характеристический многочлен с многочленом, построенным при помощи стандартной функции Wolfram."
   ]
  },
  {
   "cell_type": "code",
   "execution_count": 9,
   "metadata": {},
   "outputs": [
    {
     "data": {
      "text/html": [
       "<div><img alt=\"Output\" src=\"data:image/png;base64,iVBORw0KGgoAAAANSUhEUgAAAGgAAAAPCAIAAACHjx0UAAAAznpUWHRSYXcgcHJvZmlsZSB0eXBlIGV4aWYAAHjabU9bjgMhDPvnFD1CSIIDx2E6jLQ32OM3GVhtqWqJ2HEeQBq/P1d6BDhT0mIVDSCHNm3cXVSamJyp3fEG/mp59xNdy+9ulbeBsfxj9w2TuX4u4ikkbnAtugbWIuHp5z7zY/Vzr3VfJLRB/5/+PRdjFGRTj8pkhua6JpdOKEzFcOEJeGPGyaRP5wEzH4NFh/QYDPCwvXskiBtnfEHiZOnO5Y7gcNh1FvGoIny4L3c1vvMCX0lav9/8tl4AAAAJcEhZcwAACxMAAAsTAQCanBgAAAA8dEVYdFNvZnR3YXJlAENyZWF0ZWQgd2l0aCB0aGUgV29sZnJhbSBMYW5ndWFnZSA6IHd3dy53b2xmcmFtLmNvbVyipoUAAAAhdEVYdENyZWF0aW9uIFRpbWUAMjAyMTowNTowNiAyMjoxMzo0M9xMfPQAAAH1SURBVFiF7Vc7ctswEH3M6CigCo9OAJ0ATqOKrTqgNBt3Kd2pgUqqS8tKTYgTRCfgsODiLuuCNPUJRRMSM+NR8ioOBnhvd7G7WIIfE2S1lFJqSxPxFVpKKaUuWkJMw/vlQETMTFbKqULX0FqpC2Zm/obHhBCi+VjMxVSc3rtNtVgpAMD0gXMmamDc5Nxhin67qX5kaipCT4QnlPt2bURyAkCboGdrAK4VAll5fiSsHC4VC92ZP1aRrL6vwfW70NXqcMY5E63x8xindjFOFw0jJXk8bWL1KkJlnd1I11s/giZOd2W+Xi6XZsT2z+G3xhhjzLpKXhUAzAa3q4wV4LdnNu130pICAP8rP+Cwd5kKrQfvHJTq6T59ihcY07VUxpwF2jQI8ZKd8wX3OF+XjenORHGeWI2yDr9SquuwA23bifOEbula06PJOO9Pfe9epOtwJnpGwb+VM2mg4ocWeT9OC8AxhZyJIlPwncEL9vdPzAB4T0Sni0NMYr5A+vxmiV9Em3+rAN1Wq64qzOc3WK1WGm+1R1+ZB9pwxC2RmwEQQgWcVCuN8um7AAC3SQ+6CLn9D626jnt73Gdw+51M6L7RLMzfaxh8kk/GAADdiDA0jlw+iP1DSWGvjAq9isPTyDjFAIwijJj5rsD/q3jUX66/jv+BuxHv7YPo6jOzqawAAAAASUVORK5CYII=\"></div>"
      ],
      "text/plain": [
       "            2    3\n",
       "-10 l + 13 l  - l"
      ]
     },
     "execution_count": 9,
     "metadata": {
      "text/html": [],
      "text/plain": []
     },
     "output_type": "execute_result"
    }
   ],
   "source": [
    "autoCharPoly = CharacteristicPolynomial[A, l]"
   ]
  },
  {
   "cell_type": "code",
   "execution_count": 10,
   "metadata": {},
   "outputs": [
    {
     "data": {
      "text/html": [
       "<div><img alt=\"Output\" src=\"data:image/png;base64,iVBORw0KGgoAAAANSUhEUgAAABwAAAAPCAIAAAB4LTj2AAAAznpUWHRSYXcgcHJvZmlsZSB0eXBlIGV4aWYAAHjabU/trQMhDPvPFB0hJMGBcbgrJ3WDjt/kQK14epaIHecDSOP9utIjwJmSFqtoADm0aePuotLE5EztjjM5Vy3vfqJr+d2t8itgLP/YfcNkrn8X8RQSN7gWXQNrkfD0c5/5sfq517ovEtqg9fv0/3MxRkE29ahMZmiua3LphMJUDBdOwBsznkx6Og+Y+RgsOqTHYICH7d0jQdx4xhckTpbuXO4IDoddZxGPKsKH+3JX4zsflzpa5d4mLjIAAAAJcEhZcwAACxMAAAsTAQCanBgAAAA8dEVYdFNvZnR3YXJlAENyZWF0ZWQgd2l0aCB0aGUgV29sZnJhbSBMYW5ndWFnZSA6IHd3dy53b2xmcmFtLmNvbVyipoUAAAAhdEVYdENyZWF0aW9uIFRpbWUAMjAyMTowNTowNiAyMjoxMzo0M9xMfPQAAADGSURBVDiN5ZMhEoMwEEX/dnqUconmBImqqq0LEkwdN6hJJHG1qCpygnICBgG5SyoInYmAKVNMp19lfnbe5u9syHuPrbXbnPhbUKcZxWLafUv1QbWErP02mo1vU0r1O0VqJ8+O106z6BzVLc3UVLiHFOZh57snXTHFhWDaLUJlkR0AALz0JZ8pcn0LI8JDhQEA7BegH2nomqManqH9qLUr1fYOgNOXvBkNfpJNfouHswrKrwp5QkRJdVZyMstBtSLaR/rvv/8CrnuckB3i8l4AAAAASUVORK5CYII=\"></div>"
      ],
      "text/plain": [
       "True"
      ]
     },
     "execution_count": 10,
     "metadata": {
      "text/html": [],
      "text/plain": []
     },
     "output_type": "execute_result"
    }
   ],
   "source": [
    "SameQ[myCharPoly, autoCharPoly]"
   ]
  },
  {
   "cell_type": "markdown",
   "metadata": {},
   "source": [
    "Резлультаты совпали, значит характеристический многочлен найден верно.\n",
    "\n",
    "Найдем теперь собственные числа."
   ]
  },
  {
   "cell_type": "code",
   "execution_count": 11,
   "metadata": {},
   "outputs": [
    {
     "data": {
      "text/html": [
       "<div><img alt=\"Output\" src=\"data:image/png;base64,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\"></div>"
      ],
      "text/plain": [
       "                 13 - Sqrt[129]         13 + Sqrt[129]\n",
       "{{l -> 0}, {l -> --------------}, {l -> --------------}}\n",
       "                       2                      2"
      ]
     },
     "execution_count": 11,
     "metadata": {
      "text/html": [],
      "text/plain": []
     },
     "output_type": "execute_result"
    }
   ],
   "source": [
    "sols = Solve[myCharPoly == 0, l]"
   ]
  },
  {
   "cell_type": "code",
   "execution_count": 12,
   "metadata": {},
   "outputs": [
    {
     "data": {
      "text/html": [
       "<div><img alt=\"Output\" src=\"data:image/png;base64,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\"></div>"
      ],
      "text/plain": [
       "    13 - Sqrt[129]  13 + Sqrt[129]\n",
       "{0, --------------, --------------}\n",
       "          2               2"
      ]
     },
     "execution_count": 12,
     "metadata": {
      "text/html": [],
      "text/plain": []
     },
     "output_type": "execute_result"
    }
   ],
   "source": [
    "myEigenValues = l /. sols"
   ]
  },
  {
   "cell_type": "markdown",
   "metadata": {},
   "source": [
    "Сравним найденные собственные числа с собственными числами, полученными встроенной функцией Wolfram."
   ]
  },
  {
   "cell_type": "code",
   "execution_count": 13,
   "metadata": {},
   "outputs": [
    {
     "data": {
      "text/html": [
       "<div><img alt=\"Output\" src=\"data:image/png;base64,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\"></div>"
      ],
      "text/plain": [
       " 13 + Sqrt[129]  13 - Sqrt[129]\n",
       "{--------------, --------------, 0}\n",
       "       2               2"
      ]
     },
     "execution_count": 13,
     "metadata": {
      "text/html": [],
      "text/plain": []
     },
     "output_type": "execute_result"
    }
   ],
   "source": [
    "autoEigenValues = Eigenvalues[A]"
   ]
  },
  {
   "cell_type": "markdown",
   "metadata": {},
   "source": [
    "Чтобы сравнить два списка, нужно отсортировать числа в них."
   ]
  },
  {
   "cell_type": "code",
   "execution_count": 14,
   "metadata": {},
   "outputs": [],
   "source": [
    "myEigenValues = Sort[myEigenValues];\n",
    "autoEigenValues = Sort[autoEigenValues];"
   ]
  },
  {
   "cell_type": "code",
   "execution_count": 16,
   "metadata": {},
   "outputs": [
    {
     "data": {
      "text/html": [
       "<div><img alt=\"Output\" src=\"data:image/png;base64,iVBORw0KGgoAAAANSUhEUgAAABwAAAAPCAIAAAB4LTj2AAAAznpUWHRSYXcgcHJvZmlsZSB0eXBlIGV4aWYAAHjabU/trQMhDPvPFB0hJMGBcbgrJ3WDjt/kQK14epaIHecDSOP9utIjwJmSFqtoADm0aePuotLE5EztjjM5Vy3vfqJr+d2t8itgLP/YfcNkrn8X8RQSN7gWXQNrkfD0c5/5sfq517ovEtqg9fv0/3MxRkE29ahMZmiua3LphMJUDBdOwBsznkx6Og+Y+RgsOqTHYICH7d0jQdx4xhckTpbuXO4IDoddZxGPKoUP9+Wuxnc+l1pa57x0FBsAAAAJcEhZcwAACxMAAAsTAQCanBgAAAA8dEVYdFNvZnR3YXJlAENyZWF0ZWQgd2l0aCB0aGUgV29sZnJhbSBMYW5ndWFnZSA6IHd3dy53b2xmcmFtLmNvbVyipoUAAAAhdEVYdENyZWF0aW9uIFRpbWUAMjAyMTowNTowNiAyMjoxMzo0NTUv2cEAAADGSURBVDiN5ZMhEoMwEEX/dnqUconmBImqqq0LEkwdN6hJJHG1qCpygnICBgG5SyoInYmAKVNMp19lfnbe5u9syHuPrbXbnPhbUKcZxWLafUv1QbWErP02mo1vU0r1O0VqJ8+O106z6BzVLc3UVLiHFOZh57snXTHFhWDaLUJlkR0AALz0JZ8pcn0LI8JDhQEA7BegH2nomqManqH9qLUr1fYOgNOXvBkNfpJNfouHswrKrwp5QkRJdVZyMstBtSLaR/rvv/8CrnuckB3i8l4AAAAASUVORK5CYII=\"></div>"
      ],
      "text/plain": [
       "True"
      ]
     },
     "execution_count": 16,
     "metadata": {
      "text/html": [],
      "text/plain": []
     },
     "output_type": "execute_result"
    }
   ],
   "source": [
    "SameQ[myEigenValues, autoEigenValues]"
   ]
  },
  {
   "cell_type": "markdown",
   "metadata": {},
   "source": [
    "Резлультаты совпали, значит собственные числа найдены верно.\n",
    "\n",
    "Теперь ищем собственные векторы."
   ]
  },
  {
   "cell_type": "code",
   "execution_count": 17,
   "metadata": {},
   "outputs": [],
   "source": [
    "X = {x, y, z}; (* вектор неизвестных *)"
   ]
  },
  {
   "cell_type": "markdown",
   "metadata": {},
   "source": [
    "Составим СЛАУ для нахождения первого собственного вектора."
   ]
  },
  {
   "cell_type": "code",
   "execution_count": 18,
   "metadata": {},
   "outputs": [],
   "source": [
    "A1 = A - IdentityMatrix[3] * l /. l -> myEigenValues[[1]];\n",
    "A1X = A1.X;"
   ]
  },
  {
   "cell_type": "markdown",
   "metadata": {},
   "source": [
    "Стандартная функция Eigensystem находит СВ, у которых переменная z равна единице. Будем искать СВ вручную с тем же условием."
   ]
  },
  {
   "cell_type": "code",
   "execution_count": 20,
   "metadata": {},
   "outputs": [
    {
     "data": {
      "text/html": [
       "<div><pre style=\"&#102;&#111;&#110;&#116;&#45;&#102;&#97;&#109;&#105;&#108;&#121;&#58;&#32;&#34;&#67;&#111;&#117;&#114;&#105;&#101;&#114;&#32;&#78;&#101;&#119;&#34;&#44;&#67;&#111;&#117;&#114;&#105;&#101;&#114;&#44;&#109;&#111;&#110;&#111;&#115;&#112;&#97;&#99;&#101;&#59;\">&#123;&#48;&#44;&#32;&#45;&#49;&#44;&#32;&#49;&#125;</pre></div>"
      ],
      "text/plain": [
       "{0, -1, 1}"
      ]
     },
     "execution_count": 21,
     "metadata": {
      "text/html": [],
      "text/plain": []
     },
     "output_type": "execute_result"
    }
   ],
   "source": [
    "myEigenVector1 = Solve[A1X == 0 /. z->1];\n",
    "myEigenVector1 = {x, y, 1} /. myEigenVector1[[1]]"
   ]
  },
  {
   "cell_type": "markdown",
   "metadata": {},
   "source": [
    "Получили первый собственный вектор. Аналогично найдём остальные два."
   ]
  },
  {
   "cell_type": "code",
   "execution_count": 22,
   "metadata": {},
   "outputs": [
    {
     "data": {
      "text/html": [
       "<div><img alt=\"Output\" src=\"data:image/png;base64,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\"></div>"
      ],
      "text/plain": [
       " 4 (-13 + Sqrt[129])\n",
       "{-------------------, 1, 1}\n",
       "  -29 + 3 Sqrt[129]"
      ]
     },
     "execution_count": 25,
     "metadata": {
      "text/html": [],
      "text/plain": []
     },
     "output_type": "execute_result"
    }
   ],
   "source": [
    "A2 = A - IdentityMatrix[3] * l /. l -> myEigenValues[[2]];\n",
    "A2X = A2.X;\n",
    "\n",
    "myEigenVector2 = Solve[A2X == 0 /. z->1];\n",
    "myEigenVector2 = {x, y, 1} /. myEigenVector2[[1]]"
   ]
  },
  {
   "cell_type": "code",
   "execution_count": 26,
   "metadata": {},
   "outputs": [
    {
     "data": {
      "text/html": [
       "<div><img alt=\"Output\" src=\"data:image/png;base64,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\"></div>"
      ],
      "text/plain": [
       " 4 (13 + Sqrt[129])\n",
       "{------------------, 1, 1}\n",
       "  29 + 3 Sqrt[129]"
      ]
     },
     "execution_count": 29,
     "metadata": {
      "text/html": [],
      "text/plain": []
     },
     "output_type": "execute_result"
    }
   ],
   "source": [
    "A3 = A - IdentityMatrix[3] * l /. l -> myEigenValues[[3]];\n",
    "A3X = A3.X;\n",
    "\n",
    "myEigenVector3 = Solve[A3X == 0 /. z->1];\n",
    "myEigenVector3 = {x, y, 1} /. myEigenVector3[[1]]"
   ]
  },
  {
   "cell_type": "markdown",
   "metadata": {},
   "source": [
    "Найдем собственные векторы с помощью функции Eigensystem. Сравним ее результат с СВ, вычисленными вручную."
   ]
  },
  {
   "cell_type": "code",
   "execution_count": 30,
   "metadata": {},
   "outputs": [
    {
     "data": {
      "text/html": [
       "<div><img alt=\"Output\" src=\"data:image/png;base64,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\"></div>"
      ],
      "text/plain": [
       "  13 + Sqrt[129]  13 - Sqrt[129]\n",
       "{{--------------, --------------, 0}, \n",
       "        2               2\n",
       " \n",
       "      1 + Sqrt[129]          1 - Sqrt[129]\n",
       ">   {{-------------, 1, 1}, {-------------, 1, 1}, {0, -1, 1}}}\n",
       "            8                      8"
      ]
     },
     "execution_count": 30,
     "metadata": {
      "text/html": [],
      "text/plain": []
     },
     "output_type": "execute_result"
    }
   ],
   "source": [
    "autoEigenSystem = Eigensystem[A]"
   ]
  },
  {
   "cell_type": "markdown",
   "metadata": {},
   "source": [
    "Отсортировать такую штуку нелегко, поэтому будем подбирать индексы для сравнения вручную. Последние два СВ будем сравнивать в численном виде."
   ]
  },
  {
   "cell_type": "code",
   "execution_count": 31,
   "metadata": {},
   "outputs": [
    {
     "data": {
      "text/html": [
       "<style>\n",
       "\t\t\t\t\t\t\t\t\t\t\t\t\t.grid-container {\n",
       "\t\t\t\t\t\t\t\t\t\t\t\t\t\tdisplay: inline-grid;\n",
       "\t\t\t\t\t\t\t\t\t\t\t\t\t\tgrid-template-columns: auto;\n",
       "\t\t\t\t\t\t\t\t\t\t\t\t\t}\n",
       "\t\t\t\t\t\t\t\t\t\t\t\t</style>\n",
       "\n",
       "\t\t\t\t\t\t\t\t\t\t\t\t<div><div class=\"grid-container\"><div class=\"grid-item\"><img alt=\"Output\" src=\"data:image/png;base64,iVBORw0KGgoAAAANSUhEUgAAABwAAAAPCAIAAAB4LTj2AAAAznpUWHRSYXcgcHJvZmlsZSB0eXBlIGV4aWYAAHjabU/trQMhDPvPFB0hJMGBcbgrJ3WDjt/kQK14epaIHecDSOP9utIjwJmSFqtoADm0aePuotLE5EztjjM5Vy3vfqJr+d2t8itgLP/YfcNkrn8X8RQSN7gWXQNrkfD0c5/5sfq517ovEtqg9fv0/3MxRkE29ahMZmiua3LphMJUDBdOwBsznkx6Og+Y+RgsOqTHYICH7d0jQdx4xhckTpbuXO4IDoddZxGP6s7hvtzV+M4Hl2pa6FlaUpkAAAAJcEhZcwAACxMAAAsTAQCanBgAAAA8dEVYdFNvZnR3YXJlAENyZWF0ZWQgd2l0aCB0aGUgV29sZnJhbSBMYW5ndWFnZSA6IHd3dy53b2xmcmFtLmNvbVyipoUAAAAhdEVYdENyZWF0aW9uIFRpbWUAMjAyMTowNTowNiAyMjoxMzo0NqwmiHsAAADGSURBVDiN5ZMhEoMwEEX/dnqUconmBImqqq0LEkwdN6hJJHG1qCpygnICBgG5SyoInYmAKVNMp19lfnbe5u9syHuPrbXbnPhbUKcZxWLafUv1QbWErP02mo1vU0r1O0VqJ8+O106z6BzVLc3UVLiHFOZh57snXTHFhWDaLUJlkR0AALz0JZ8pcn0LI8JDhQEA7BegH2nomqManqH9qLUr1fYOgNOXvBkNfpJNfouHswrKrwp5QkRJdVZyMstBtSLaR/rvv/8CrnuckB3i8l4AAAAASUVORK5CYII=\"></div><div class=\"grid-item\"><img alt=\"Output\" src=\"data:image/png;base64,iVBORw0KGgoAAAANSUhEUgAAABwAAAAPCAIAAAB4LTj2AAAAznpUWHRSYXcgcHJvZmlsZSB0eXBlIGV4aWYAAHjabU9ZrgMhDPvnFD1CFnDgOMyUkXqDHr/JgFrx9CwRO84CpPF+XekREKaUi1U0gBy55SbdRaWJyUztjjM5V413P9G1/O5W+RUwln/svmGy1L+LZAqNG1xrXgNrkcr0uc/8WP3Sa90XKW3I9fv0/3M1QQFb9piFzNBc1+TSCUWoGC6cgDcynkL5dB4w8zFYdGiPwYAM27tHgrrxjC9oHNbuXO4ICUdcs6rHeMzhvt7V+M4Hl3pa6enZ9YwAAAAJcEhZcwAACxMAAAsTAQCanBgAAAA8dEVYdFNvZnR3YXJlAENyZWF0ZWQgd2l0aCB0aGUgV29sZnJhbSBMYW5ndWFnZSA6IHd3dy53b2xmcmFtLmNvbVyipoUAAAAhdEVYdENyZWF0aW9uIFRpbWUAMjAyMTowNTowNiAyMjoxMzo0N9shuO0AAADGSURBVDiN5ZMhEoMwEEX/dnqUconmBImqqq0LEkwdN6hJJHG1qCpygnICBgG5SyoInYmAKVNMp19lfnbe5u9syHuPrbXbnPhbUKcZxWLafUv1QbWErP02mo1vU0r1O0VqJ8+O106z6BzVLc3UVLiHFOZh57snXTHFhWDaLUJlkR0AALz0JZ8pcn0LI8JDhQEA7BegH2nomqManqH9qLUr1fYOgNOXvBkNfpJNfouHswrKrwp5QkRJdVZyMstBtSLaR/rvv/8CrnuckB3i8l4AAAAASUVORK5CYII=\"></div><div class=\"grid-item\"><img alt=\"Output\" src=\"data:image/png;base64,iVBORw0KGgoAAAANSUhEUgAAABwAAAAPCAIAAAB4LTj2AAAAznpUWHRSYXcgcHJvZmlsZSB0eXBlIGV4aWYAAHjabU9ZrgMhDPvnFD1CFnDgOMyUkXqDHr/JgFrx9CwRO84CpPF+XekREKaUi1U0gBy55SbdRaWJyUztjjM5V413P9G1/O5W+RUwln/svmGy1L+LZAqNG1xrXgNrkcr0uc/8WP3Sa90XKW3I9fv0/3M1QQFb9piFzNBc1+TSCUWoGC6cgDcynkL5dB4w8zFYdGiPwYAM27tHgrrxjC9oHNbuXO4ICUdcs6rHeMzhvt7V+M4Hl3pa6enZ9YwAAAAJcEhZcwAACxMAAAsTAQCanBgAAAA8dEVYdFNvZnR3YXJlAENyZWF0ZWQgd2l0aCB0aGUgV29sZnJhbSBMYW5ndWFnZSA6IHd3dy53b2xmcmFtLmNvbVyipoUAAAAhdEVYdENyZWF0aW9uIFRpbWUAMjAyMTowNTowNiAyMjoxMzo0N9shuO0AAADGSURBVDiN5ZMhEoMwEEX/dnqUconmBImqqq0LEkwdN6hJJHG1qCpygnICBgG5SyoInYmAKVNMp19lfnbe5u9syHuPrbXbnPhbUKcZxWLafUv1QbWErP02mo1vU0r1O0VqJ8+O106z6BzVLc3UVLiHFOZh57snXTHFhWDaLUJlkR0AALz0JZ8pcn0LI8JDhQEA7BegH2nomqManqH9qLUr1fYOgNOXvBkNfpJNfouHswrKrwp5QkRJdVZyMstBtSLaR/rvv/8CrnuckB3i8l4AAAAASUVORK5CYII=\"></div></div></div>"
      ],
      "text/plain": [
       "True\n",
       "True\n",
       "True"
      ]
     },
     "execution_count": 31,
     "metadata": {
      "text/html": [],
      "text/plain": []
     },
     "output_type": "execute_result"
    }
   ],
   "source": [
    "SameQ[autoEigenSystem[[2, 3]], myEigenVector1]\n",
    "SameQ[N[autoEigenSystem[[2, 2]]], N[myEigenVector2]]\n",
    "SameQ[N[autoEigenSystem[[2, 1]]], N[myEigenVector3]]"
   ]
  },
  {
   "cell_type": "markdown",
   "metadata": {},
   "source": [
    "Результаты совпали, все собственные векторы найдены верно.\n",
    "\n",
    "Составим матрицу из собственных векторов. Предварительно векторы нужно нормализовать. Это можно сделать при помощи встроенной функции."
   ]
  },
  {
   "cell_type": "code",
   "execution_count": 34,
   "metadata": {},
   "outputs": [
    {
     "data": {
      "text/html": [
       "<div><img alt=\"Output\" src=\"data:image/png;base64,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\"></div>"
      ],
      "text/plain": [
       "0.          -0.675261   0.737579\n",
       "\n",
       "-0.707107   0.521547    0.477482\n",
       "\n",
       "0.707107    0.521547    0.477482"
      ]
     },
     "execution_count": 35,
     "metadata": {
      "text/html": [],
      "text/plain": []
     },
     "output_type": "execute_result"
    }
   ],
   "source": [
    "S = Transpose[{\n",
    "    Normalize[myEigenVector1], \n",
    "    Normalize[myEigenVector2],\n",
    "    Normalize[myEigenVector3]\n",
    "}];\n",
    "\n",
    "N[S] // MatrixForm"
   ]
  },
  {
   "cell_type": "markdown",
   "metadata": {},
   "source": [
    "Теперь нам необходимо создать вектор-столбец коэффициентов линейной формы,"
   ]
  },
  {
   "cell_type": "code",
   "execution_count": 36,
   "metadata": {},
   "outputs": [
    {
     "data": {
      "text/html": [
       "<div><img alt=\"Output\" src=\"data:image/png;base64,iVBORw0KGgoAAAANSUhEUgAAACsAAAAwCAIAAAAHLhTPAAAA0HpUWHRSYXcgcHJvZmlsZSB0eXBlIGV4aWYAAHjabY/rDcMgDIT/M0VHANucYRySEKkbdPzaQFql6kmxj8+PQOiv5xkeLkoxSNaCCkSTVKnUzJQ4NXOKdcQh2lYt3XngizdD+VtAX3y7c8VaWH4WRZqG/Q/mWdbAWsQ0eWrzvK1+aqXcF11XWpLyufr/MyshI6lYFIqqqOZLMGsJmWJWnNgBa0w4KMpuuUPVxqDewc0HXdT13t0D2MDhT2D/EjfLeUSQEzKfmC0KF9qM86j6c95Rblq3p96tYQAAAAlwSFlzAAALEwAACxMBAJqcGAAAADx0RVh0U29mdHdhcmUAQ3JlYXRlZCB3aXRoIHRoZSBXb2xmcmFtIExhbmd1YWdlIDogd3d3LndvbGZyYW0uY29tXKKmhQAAACF0RVh0Q3JlYXRpb24gVGltZQAyMDIxOjA1OjA2IDIyOjEzOjQ4S56lfAAAAodJREFUWIXtmCGP4kAUx2cul1BXHJUIIM2GT1A+QVmDqka1EsxpEOvWdBUUU0mC6ZqjsgospgkpJSGoIouiqFnB7dHOLvRNIZDL8ZeTeTO/ee+18+ZhQgi6q37cd/uLCGwNf6r2trwAgVwsX5eQpPtZzb/xQbfbZT5HtVICzOr3++k+sCxrNpvB6MfqYQmwA+bzeRAE1CBN0Ol0YKtRJOoYNteyLGokEYXNZiMIAnMI5IaK3AU4GaMoOhkF0zRXq1UWH7AEwjTNkz7wPK9YLMJOEvsYX578SQuSiQghURQ9z4uP/IQZfpVsEGJksqSiQOdBViAG8Tx/koDjuBsQ7Pf7kwSFQuEGBJSnEwTb7fYGBJQSBGEY3pngLnoQQAmWbzVQMXKchzHGmn0tAlsrt6uHu89XRuWUhY+3pCFficB+H0j6LxkhhJa/R1M0eAedDap0guXCPZRAtobLI0VPu4kHdbbiEZqJtobraEwmrcq5WaXW5E8EfB210+IFJShVqmhQf3nyiSHHPJJm9axIsLIF4AO5oSJJeS4hhJD92p6qjb8ZZmunUt5+bU8/jS4mQLLhK6Myxhjjuqv7xxRfLtzkzOPXWHd1aNkSL5iazSZzicYuapd/5Z/4IHgQ/GcEWR6N1yXI5XIMptCyhRb1KkkQrNdr8DpsZUtc1KskQZDP58EA2csW6lWS8dXGWrac2SVBwPM83V44K1jZklAYhtTLNXE3Oo7jOA7oghur6NhA8nUJ2sZxHIfqU2XuI8UaJyx9JKqBQgihOxgcx0VRBEgI2fAXtTJuo4MvJpDKPIoiURTpUYooCIJerwc7D7OGw+Fut6MG6b+yIAjfYF5Joih+9S4mj976BxMYpUxUOcOGAAAAAElFTkSuQmCC\"></div>"
      ],
      "text/plain": [
       "3\n",
       "\n",
       "0.5\n",
       "\n",
       "0"
      ]
     },
     "execution_count": 37,
     "metadata": {
      "text/html": [],
      "text/plain": []
     },
     "output_type": "execute_result"
    }
   ],
   "source": [
    "a = {3, 0.5, 0};\n",
    "\n",
    "a // MatrixForm"
   ]
  },
  {
   "cell_type": "markdown",
   "metadata": {},
   "source": [
    "вектор $S^T*a$"
   ]
  },
  {
   "cell_type": "code",
   "execution_count": 38,
   "metadata": {},
   "outputs": [
    {
     "data": {
      "text/html": [
       "<div><img alt=\"Output\" src=\"data:image/png;base64,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\"></div>"
      ],
      "text/plain": [
       "-0.353553\n",
       "\n",
       "-1.76501\n",
       "\n",
       "2.45148"
      ]
     },
     "execution_count": 39,
     "metadata": {
      "text/html": [],
      "text/plain": []
     },
     "output_type": "execute_result"
    }
   ],
   "source": [
    "a1 = Transpose[S].a;\n",
    "\n",
    "N[a1] // MatrixForm"
   ]
  },
  {
   "cell_type": "markdown",
   "metadata": {},
   "source": [
    "и выделим свободный член уравнения."
   ]
  },
  {
   "cell_type": "code",
   "execution_count": 40,
   "metadata": {},
   "outputs": [],
   "source": [
    "a0 = 7;"
   ]
  },
  {
   "cell_type": "markdown",
   "metadata": {},
   "source": [
    "Начнем составлять канонический вид уравнения."
   ]
  },
  {
   "cell_type": "code",
   "execution_count": 86,
   "metadata": {},
   "outputs": [
    {
     "data": {
      "text/html": [
       "<div><img alt=\"Output\" src=\"data:image/png;base64,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\"></div>"
      ],
      "text/plain": [
       "                                                  2                                   2\n",
       "                               (13 - Sqrt[129]) y1                 (13 + Sqrt[129]) z1\n",
       "7 - 0.707107 x1 - 3.53002 y1 + -------------------- + 4.90295 z1 + --------------------\n",
       "                                        2                                   2"
      ]
     },
     "execution_count": 86,
     "metadata": {
      "text/html": [],
      "text/plain": []
     },
     "output_type": "execute_result"
    }
   ],
   "source": [
    "fCanonical = myEigenValues[[1]] * x1^2 + myEigenValues[[2]] * y1^2 + myEigenValues[[3]] * z1^2 + 2 * a1[[1]] * x1 + 2 * a1[[2]] * y1 + 2 * a1[[3]] * z1 + a0"
   ]
  },
  {
   "cell_type": "code",
   "execution_count": 87,
   "metadata": {
    "scrolled": true
   },
   "outputs": [
    {
     "data": {
      "text/html": [
       "<div><img alt=\"Output\" src=\"data:image/png;base64,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\"></div>"
      ],
      "text/plain": [
       "                                           2                          2\n",
       "7. - 0.707107 x1 - 3.53002 y1 + 0.821092 y1  + 4.90295 z1 + 12.1789 z1"
      ]
     },
     "execution_count": 87,
     "metadata": {
      "text/html": [],
      "text/plain": []
     },
     "output_type": "execute_result"
    }
   ],
   "source": [
    "ExpandAll[FullSimplify[fCanonical]]"
   ]
  },
  {
   "cell_type": "markdown",
   "metadata": {},
   "source": [
    "В уравнении есть ненулевые коэффициенты при $x_1, y_1, z_1$, от которых нужно избавиться. Так как для $y_1$ и $z_1$ в уравнении есть ненулевые коэффициенты при квадратах этих переменных, то мы можем дополнить эти члены до полного квадрата и сделать замену.\n",
    "\n",
    "Чтобы выполнить сложную замену, нужно явно выделить заменяемую часть в формуле. Для этого прежде выполним тождественные замены."
   ]
  },
  {
   "cell_type": "code",
   "execution_count": 88,
   "metadata": {},
   "outputs": [
    {
     "data": {
      "text/html": [
       "<div><img alt=\"Output\" src=\"data:image/png;base64,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\"></div>"
      ],
      "text/plain": [
       "                                          2                      2\n",
       "                       (13 - Sqrt[129]) y1    (13 + Sqrt[129]) z1\n",
       "2.7125 - 0.707107 x1 + -------------------- + --------------------\n",
       "                                2                      2"
      ]
     },
     "execution_count": 94,
     "metadata": {
      "text/html": [],
      "text/plain": []
     },
     "output_type": "execute_result"
    }
   ],
   "source": [
    "(* Тождественные замены. Они ничего не меняют и нужны только для того, \n",
    "    чтобы явно выделить те куски формулы, которые мы будем заменять далее *)\n",
    "fCanonical = fCanonical /. (myEigenValues[[2]] * y1^2 + 2 * a1[[2]] * y1) -> (myEigenValues[[2]] * (y1 + a1[[2]] / myEigenValues[[2]])^2 - myEigenValues[[2]] * (a1[[2]] / myEigenValues[[2]])^2);\n",
    "fCanonical = fCanonical /. (myEigenValues[[3]] * z1^2 + 2 * a1[[3]] * z1) -> (myEigenValues[[3]] * (z1 + a1[[3]] / myEigenValues[[3]])^2 - myEigenValues[[3]] * (a1[[3]] / myEigenValues[[3]])^2);\n",
    "\n",
    "(* Вот тут уже непосредственно производится замена *)\n",
    "fCanonical = fCanonical /. (y1 + a1[[2]] / myEigenValues[[2]]) -> y1;\n",
    "fCanonical = fCanonical /. (z1 + a1[[3]] / myEigenValues[[3]]) -> z1;\n",
    "fCanonical"
   ]
  },
  {
   "cell_type": "code",
   "execution_count": 95,
   "metadata": {},
   "outputs": [
    {
     "data": {
      "text/html": [
       "<div><img alt=\"Output\" src=\"data:image/png;base64,iVBORw0KGgoAAAANSUhEUgAAATUAAAAPCAIAAAAK688sAAAAzXpUWHRSYXcgcHJvZmlsZSB0eXBlIGV4aWYAAHjadU/bDQMhDPtnio6QBzgwDtdyUjfo+E0OqopKtURsnJeSxut5pltAmFIuVtEAcuSWm3QXlSYmM7UrXtCyFO9+onMK7m6VbwJj+cfuGyZL/R0ka1NscK15NaxBKtPnPv/Hqpde6z5IaUP+nMV//mqCArbsMQuZobmuyaUTilAxnLgDXsh4COW784CZt8GiQns0BmTYXj0S1I1HnKDxWLtzuSIkHHEtah5ZWQ739crGOW9YAVq6OJ/QVgAAAAlwSFlzAAALEwAACxMBAJqcGAAAADx0RVh0U29mdHdhcmUAQ3JlYXRlZCB3aXRoIHRoZSBXb2xmcmFtIExhbmd1YWdlIDogd3d3LndvbGZyYW0uY29tXKKmhQAAACF0RVh0Q3JlYXRpb24gVGltZQAyMDIxOjA1OjA2IDIyOjI3OjExh/cEGgAAA/dJREFUaIHtWj1y8jAQXeUshiLDCcQJcBoqWjq5hCYdJR2NKaFLS5UG+QRwAoYC6y76CmOsX2tl5guZiV+V2HpPu2+1RhYQKSX06PErILbZ/HCB0exrt0heHcxLYDpA+v7s8WsghEiSRGzHc/g6/ckONR14e3VAPXo8kCT3nhwN/2Jzgu1A3589fhfEdnNd7SavDuOFUB14qy6MSYXxVvh5RUZ0ZEUtOFb/Va+pms0la3RE7E+FatOfTMpLR6XRzQOsCUZ4j8ncdGQRVU1lLD4kS12dUWyzDXx27U50Cki6r7hOV522xAdsOiBlmVPGpZRSljkFmpcSA87uQ6s/ypzCXeWuZGsaYzqAMwBFFymmhtpOb08KT8fE09kNvAmcNXcfsTlLg85XHdKk22EJuWbkDAAopZRShlyG7YIRgQWLoq4Ny1W3LfEBWw6AScGtGSsPf2KN5tP9qWRe5hRwsTazhuiBpKLpd7uVuqmFC7lRcu4scoQJVgPaUhobka+6OJ2i1hLSG8Nok/gl4bMlKIha2166csPlasCWyr8H/J5b0N4/xe0CbIrYXBSbJeSfqF2IoblPY3dButRomAAUGRkcZjmDyy2o0oQaogeS6kKf7CRn+zQrAIosveRlxKFkebt1CUNFsjjJ1XVACCHfU2nN3V5u70T77/pdYb13snTNZLFi58OxilEcD2e2euZk1mNLEOi17YRaXI+rbbYki9Ojd2leRuzflf4sssFyxBFcsV3vkSZrmk2UZQ7LgXObLjS4JUkKXJ4WQ8T8dqg+OjKpaPpkV+aXlJAUOLo569zLJ00Q2zFJgUspOaTmIxFXbnOiOh1CyBxmzBrt0pxM6wYVxwP2ue5KJ2hLSxrIte2eWCuuy9V2Wxqd8fc07nujN31OVHfOcR+eLZrJx4y6nvtClBr0AclwBPt0/V7K3UR5vmNDbaMjknqGTin13XJEXZlwu15vz5kgjoczqxblZMfZeblRT4hC5fZN9HjKnj5A98CrOfnM4XAUUGyWo84fnu22tBHxa9vD14rrcdVnS4MiG3Q4mK53x649sPb6pFxzjDW30V7Nhwj2IMrg1TQjDlSoXjouqVi6SrKPJ0KvXjz3GIQ2QZ3TOKYLvmS1T2SqB8otq31dzqwh8e+fXlvcglFr23uGYCo6XHXd1mXcCz7gAJjvrkowjuMHx+yc2XS3pnK1S3MqMVkSuFA9dGRSEXRVRjtjoXnpFTe5/oWINkGtg5WCeh2fb3NJfxCEMjL7AWdChC34dej0qsUBs7gOV522uBkPM1EO9L/v6/EjKDKyfo85H+sB0P/+tseP4H7M9Kd/FtQJ/e/7evxfFBkhJL1EfavQo8Y/8DpZd+0o6k4AAAAASUVORK5CYII=\"></div>"
      ],
      "text/plain": [
       "                                  2             2\n",
       "2.7125 - 0.707107 x1 + 0.821092 y1  + 12.1789 z1"
      ]
     },
     "execution_count": 95,
     "metadata": {
      "text/html": [],
      "text/plain": []
     },
     "output_type": "execute_result"
    }
   ],
   "source": [
    "ExpandAll[FullSimplify[fCanonical]]"
   ]
  },
  {
   "cell_type": "markdown",
   "metadata": {},
   "source": [
    "Осталось разобраться с коэффициентом при $x_1$. Сделаем такую замену переменной, при которой свободный член станет равен нулю.\n",
    "\n",
    "Сначала нужно найти этот самый свободный член. Это можно сделать, занулив все переменные."
   ]
  },
  {
   "cell_type": "code",
   "execution_count": 96,
   "metadata": {},
   "outputs": [
    {
     "data": {
      "text/html": [
       "<div><pre style=\"&#102;&#111;&#110;&#116;&#45;&#102;&#97;&#109;&#105;&#108;&#121;&#58;&#32;&#34;&#67;&#111;&#117;&#114;&#105;&#101;&#114;&#32;&#78;&#101;&#119;&#34;&#44;&#67;&#111;&#117;&#114;&#105;&#101;&#114;&#44;&#109;&#111;&#110;&#111;&#115;&#112;&#97;&#99;&#101;&#59;\">&#50;&#46;&#55;&#49;&#50;&#53;</pre></div>"
      ],
      "text/plain": [
       "2.7125"
      ]
     },
     "execution_count": 96,
     "metadata": {
      "text/html": [],
      "text/plain": []
     },
     "output_type": "execute_result"
    }
   ],
   "source": [
    "newa0 = fCanonical /. {x1->0, y1->0, z1->0}"
   ]
  },
  {
   "cell_type": "markdown",
   "metadata": {},
   "source": [
    "Теперь выполняем саму замену. Как и в прошлый раз, сначала выполним тождественное преобразование."
   ]
  },
  {
   "cell_type": "code",
   "execution_count": 97,
   "metadata": {},
   "outputs": [
    {
     "data": {
      "text/html": [
       "<div><img alt=\"Output\" src=\"data:image/png;base64,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\"></div>"
      ],
      "text/plain": [
       "                                  2                      2\n",
       "               (13 - Sqrt[129]) y1    (13 + Sqrt[129]) z1\n",
       "-0.707107 x1 + -------------------- + --------------------\n",
       "                        2                      2"
      ]
     },
     "execution_count": 101,
     "metadata": {
      "text/html": [],
      "text/plain": []
     },
     "output_type": "execute_result"
    }
   ],
   "source": [
    "(* Тождественная замена *)\n",
    "fCanonical = fCanonical /. (2 * a1[[1]] * x1 + newa0) -> (2 * a1[[1]] * (x1 + newa0 / (2 * a1[[1]])));\n",
    "\n",
    "(* Непосредственно замена *)\n",
    "fCanonical = fCanonical /. (x1 + newa0 / (2 * a1[[1]])) -> x1;\n",
    "fCanonical"
   ]
  },
  {
   "cell_type": "code",
   "execution_count": 102,
   "metadata": {},
   "outputs": [
    {
     "data": {
      "text/html": [
       "<div><img alt=\"Output\" src=\"data:image/png;base64,iVBORw0KGgoAAAANSUhEUgAAAQUAAAAPCAIAAABiGE0UAAAAzXpUWHRSYXcgcHJvZmlsZSB0eXBlIGV4aWYAAHjadU/bDQMhDPtnio6QBzgwDtdyUjfo+E0OqopKtUTsOA+UNF7PM90CwpRysYoGkCO33KS7qDQxmaldcaIsxbuf6JyCu1vlW8BY/rH7hslSfxfJFBo/uNa8BtYilelzn/mx+qXXui9S2pA/Z/GfXE1QwJY9ZiEzNNc1uXRCESqGE3fAGxkPoXx3HjDzMVh0aI/BgAzbu0eCuvGIEzQea3cuV4SEI65FzSOryuG+XtU45w1Ts1q5le9LnQAAAAlwSFlzAAALEwAACxMBAJqcGAAAADx0RVh0U29mdHdhcmUAQ3JlYXRlZCB3aXRoIHRoZSBXb2xmcmFtIExhbmd1YWdlIDogd3d3LndvbGZyYW0uY29tXKKmhQAAACF0RVh0Q3JlYXRpb24gVGltZQAyMDIxOjA1OjA2IDIyOjI3OjEzafllNgAAA6NJREFUaIHtWjt26jAQHWUtJkUOKxArsF9DlZZOLqFJR0lHI0ro0lKlQV4BrIBDgbQXvcLY6P8hBecE34rYc0czVxpboxhJKWHAi0Js6tn+DOPP7+28eHYwT4GpABrq4YUhhCiKQmwmM/g+vmRFmAq8PTugAU9EUdxqYPz+isUAtgJDPbw6xGZ9WW7LZ4fxRKgKxOpBbCaoxWQj/GZNjXTUjYfus+xMuz9z6UlppBn72DERjPD6wdz0tHw1n4ptekiWd3VEsanX8PVoNSSnkEj3Ta5TVacs+QGbCsgQGAEgTEopJae4+xkDI4ApT6GrlphywyidnhJPRgIWPVEERu53+9g4xQr7Fm9yvqrJPV2nz2gW1oiMAADGGGNMUnxEHWYEFp0UdW1YqrplyQ/YUiBYD8pInGKApPV0HzBGt8SwYs2j39JTdFKFitUDZ8wpaoYI1oK3XWnshHzVxeB0avo0FqKxLPMfCj5Zog6twLLoyg2XqhFZWv16+DW3ENovieu5bTOaGo32n5TA+Rp9NzfrBdCvMoF+t3xodBe93EpGdlXdADR1daY849CEX6+PhKGimB/l8jJCCKGfqbTGFtczkKkvYe9Au59u77naOVm6z2K+JKf9oY1RHPYnsvzNyZFHlijCycagTq5H1ZAsxfzY1wqmPGM/2NaD0GCEVqMKmDzO3xPcic1qp+vvo9uWTmTTyy2n5wqhClhyMXRZc0f64TDMoCaoAialZFCZ++emHi3GLDY15kBdOgihGXwSy9rls5x2BSEO+9AjJ4K4LIE0UpL1DqxNrkvVsCx3P5Ofad458hsACME1dKkX72PYVasPLrel8vwK5TFTntkhum7pxG/oGGPfLUfUbfrXy+WqpR8Pw3R02J9IuwjKLSOnxVrtqCtgMrRAfAP1z7rjP9A18PosvyjsDwKa9WL88MshLEuImJBsmK9NrkdVnyx3NPXogYOz4PZO2ZkZ20Ftp65c0y556Z69pd1fZtFVkt3OxbbOjHqasmQR1DGV35xiT7ip+VreAz57X5hSYpnk9w9eWdwOvYG5Foy3BzQ9OlR13dbduJvsiALhelA7E829o7N0BuakOyyZ8cpTWqkUuupG60kx5V7nJtc/8ckiqH2clYJ6PT3f+yW98GIZmesvTYQMWVwO/YFZWgUUMCfXoapTFjejFzNJgeF7jT+Kpkarj5zzhAEAw/dLfxS3tvyl/+38EIbvNf4amhohVJ2zThkHdPgPHIlfwsRbEMgAAAAASUVORK5CYII=\"></div>"
      ],
      "text/plain": [
       "                          2             2\n",
       "-0.707107 x1 + 0.821092 y1  + 12.1789 z1"
      ]
     },
     "execution_count": 102,
     "metadata": {
      "text/html": [],
      "text/plain": []
     },
     "output_type": "execute_result"
    }
   ],
   "source": [
    "fCanonical = ExpandAll[FullSimplify[fCanonical]]"
   ]
  },
  {
   "cell_type": "markdown",
   "metadata": {},
   "source": [
    "Чтобы поверхность действительна была приведена к каноническому виду, необходимо переименовать координатные оси (т.к. линейный член может быть только по оси Z)."
   ]
  },
  {
   "cell_type": "code",
   "execution_count": 103,
   "metadata": {},
   "outputs": [
    {
     "data": {
      "text/html": [
       "<div><img alt=\"Output\" src=\"data:image/png;base64,iVBORw0KGgoAAAANSUhEUgAAAPwAAAAPCAIAAABPzzWHAAAAz3pUWHRSYXcgcHJvZmlsZSB0eXBlIGV4aWYAAHjabU/trQMhDPvPFB0hJMGBcbgrJ3WDjt/kQK14epaIHecDSOP9utIjwJmSFqtoADm0aePuotLE5Eztjjeuc9Xy7ie6lt/dKr8CxvKP3TdM5vp3EU8hcYNr0TWwFglPP/eZH6ufe637IqENWr9P/z8XYxRkU4/KZIbmuiaXTihMxXDhBLwx48mkp/OAmY/BokN6DAZ42N49EsSNZ3xB4mTpzuWO4HDYNYt5zKJ8uC93Nb7zAeXGWx2WDih6AAAACXBIWXMAAAsTAAALEwEAmpwYAAAAPHRFWHRTb2Z0d2FyZQBDcmVhdGVkIHdpdGggdGhlIFdvbGZyYW0gTGFuZ3VhZ2UgOiB3d3cud29sZnJhbS5jb21coqaFAAAAIXRFWHRDcmVhdGlvbiBUaW1lADIwMjE6MDU6MDYgMjI6Mjc6MTT3nfCVAAADmklEQVRoge1aO3bqMBAdZS0mRQ4rECvAr6FKSyeX0KSjpKORS+jSUqVBXgGswIcCaS96hY2RpZEsw8vhPOBWiT13PlcjolEgWmt4WKg8m25LGH5+r2fJvZO5C14KICCP3fRKJUmi8tEUvvdPuegvBRC83TuBX0WS1Ms8fH/S9X4pgOCxmx4AQOWr42I9vncad8RLARtaay05rX+jXOoQBLswmagf4vT6aWPltbz4NGzjU3K8mxElZyyaH+OwT2IO3VTPLBhVFZWlf8I3KRBZrK8ul+6zjJTaS48qozGGypORZcCPYK01qVKRnBrsOr3qreUOC2SaNC5xn2FgEQUDAEoppbT/wqMlxCeG0l0DjauKy9I/4VsViGwMN40YumkZ1y04PSaflgswudWO8BfndLXr3/qUsRbADWSuOOrU9lkvpNERJqfH4pwZQoSE8zt0E+tDN15gqgZlae83a/f1V8CHHo3Rzq2y66I7iUZ0S4jeGKJ/Blrmb+pUVkNOkZHB9pMzKE8KcCSzvV4cB4QQ8jPRzmWAOpXAJr6zozfQ5qeoDPLlBmVZPsdrLdgmzQqAIktLLm+6lZCn01W8cLFdKFZz4F8V26OqX5ZktmCH7a5aJbXbHtjiF+5l+jRGg0tdXXRTgSuio/Rktm+2DOXSO8bUg2yRkRSE3s/eQyWpfERSEFprASkZ5S0NimwwH4queckONF5LXqaEEEKm8Gkf2Xw+z6wUxA0dr5RSCgDk+Yd4xBXrDZwvN5dGxVQNywLjybnr1W4b6p2uRFrALOIaA60rRHctUVxHV/noZxLqi7fkfQibdPkh9XpsbDDU2W57YNVKj9eCHear4hKGpCB0qAt8gZrtuf8DZvBOn5RSz5soKCWllPJ0PJ6klFJGd31MsWH+1PyU8qjqk6XC+IvDdqegWM2HV3/M1wo0aCvQozGwukJ0SwEM19OLbNB5V9U6PVnn1NbpuX16NH6WnHrOe+5o4glkew/4ND25w2T/E63gwWHIduhNzNLKnw82+CCqYq8tP5Rzhp5r/82ZPr4xMJMA3TMNxXZLcJgSDB9urUFWe2+m3AHCnBScaynzuX235L3DMh61dxdGvxTdmnEol96InfA2PebQn5ijVUABe1kQVVFZsAS7I96C6MbA9yZKRyzjuyV8a2Ytz+USyXL+2F9DeGgUGVl+3DbFPyleTf+fop7xXv9ovQKP/zWEx0OREULSMnAn90IQfwFAkJsXH7VlSwAAAABJRU5ErkJggg==\"></div>"
      ],
      "text/plain": [
       "           2             2\n",
       "0.821092 x1  + 12.1789 y1  - 0.707107 z1"
      ]
     },
     "execution_count": 104,
     "metadata": {
      "text/html": [],
      "text/plain": []
     },
     "output_type": "execute_result"
    }
   ],
   "source": [
    "fCanonical = fCanonical /. {x1->z1, z1->x1};\n",
    "fCanonical = fCanonical /. {x1->y1, y1->x1}"
   ]
  },
  {
   "cell_type": "markdown",
   "metadata": {},
   "source": [
    "Построим поверхность в каноническом виде."
   ]
  },
  {
   "cell_type": "code",
   "execution_count": 105,
   "metadata": {},
   "outputs": [],
   "source": [
    "canonical[a_, b_, c_] := fCanonical /. {x1->a, y1->b, z1->c}"
   ]
  },
  {
   "cell_type": "code",
   "execution_count": 106,
   "metadata": {},
   "outputs": [
    {
     "data": {
      "text/html": [
       "<div><img alt=\"Output\" src=\"data:image/png;base64,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\"></div>"
      ],
      "text/plain": [
       "-Graphics3D-"
      ]
     },
     "execution_count": 106,
     "metadata": {
      "text/html": [],
      "text/plain": []
     },
     "output_type": "execute_result"
    }
   ],
   "source": [
    "ContourPlot3D[canonical[x, y, z] == 0, {x, -10, 10}, {y, -10, 10}, {z, -10, 10}]"
   ]
  },
  {
   "cell_type": "markdown",
   "metadata": {},
   "source": [
    "Полученный канонический вид совпал с тем, что получилось во 2-ой ЛР."
   ]
  },
  {
   "cell_type": "code",
   "execution_count": null,
   "metadata": {},
   "outputs": [],
   "source": []
  }
 ],
 "metadata": {
  "kernelspec": {
   "display_name": "Wolfram Language 12.2",
   "language": "Wolfram Language",
   "name": "wolframlanguage12.2"
  },
  "language_info": {
   "codemirror_mode": "mathematica",
   "file_extension": ".m",
   "mimetype": "application/vnd.wolfram.m",
   "name": "Wolfram Language",
   "pygments_lexer": "mathematica",
   "version": "12.0"
  }
 },
 "nbformat": 4,
 "nbformat_minor": 4
}
