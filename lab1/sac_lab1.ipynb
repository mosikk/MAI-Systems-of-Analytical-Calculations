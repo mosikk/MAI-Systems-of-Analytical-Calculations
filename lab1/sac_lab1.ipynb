{
 "cells": [
  {
   "attachments": {
    "image-2.png": {
     "image/png": "[encoded data removed]"
    }
   },
   "cell_type": "markdown",
   "metadata": {},
   "source": [
    "# Лабораторная работа 1\n",
    "## Часть 1 - квадратик\n",
    "\n",
    "Задать квадрат с помощью матрицы координат, повернуть его и сдвинуть относительно исходного положения (как на картинке). Вывести исходный квадрат и результат.\n",
    "\n",
    "\n",
    "![image-2.png](attachment:image-2.png)"
   ]
  },
  {
   "cell_type": "code",
   "execution_count": 1,
   "metadata": {},
   "outputs": [
    {
     "data": {
      "image/png": "[encoded data removed]",
      "text/plain": [
       "Graphics object consisting of 2 graphics primitives"
      ]
     },
     "metadata": {},
     "output_type": "display_data"
    }
   ],
   "source": [
    "a = 15 # длина стороны\n",
    "alpha = math.radians(50) # угол поворота\n",
    "\n",
    "matrix_rotate = matrix([\n",
    "    [cos(alpha), -sin(alpha)],\n",
    "    [sin(alpha), cos(alpha)]\n",
    "]) # матрица поворота\n",
    "\n",
    "move_x = 30 # смещение по х\n",
    "move_y = 40 # смещение по y\n",
    "\n",
    "# Для перемещения фигуры необходимо прибавить к каждой ее точке величины смещения. Будем делать это через сложение матриц\n",
    "matrix_move = matrix([[move_x, move_y] for _ in range(5)])\n",
    "\n",
    "square_original = matrix([[0, 0], [0, a], [a, a], [a, 0], [0, 0]])\n",
    "square_rotated = square_original * matrix_rotate\n",
    "square_moved = square_rotated + matrix_move\n",
    "\n",
    "show(polygon(square_original, color='green') + polygon(square_moved, color='orange'), \n",
    "     xmin=-50, xmax=50, ymin=-10, ymax=50, aspect_ratio = 1, axes=False)"
   ]
  },
  {
   "cell_type": "markdown",
   "metadata": {},
   "source": [
    "## Часть 2 - исследование функции\n",
    "Для заданной формулой функции найти:\n",
    "1. Область определения функции.\n",
    "2. Является ли функция четной или нечетной, является ли периодической.\n",
    "3. Точки пересечения графика с осями координат.\n",
    "4. Промежутки знакопостоянства.\n",
    "5. Промежутки возрастания и убывания.\n",
    "6. Точки экстремума и значения в этих точках.\n",
    "7. Непрерывность. Наличие точек разрыва и их классификация.\n",
    "8. Асимптоты.\n",
    "\n",
    "Построить график функции, асимптоты, промежутки знакопостоянства.\n",
    "\n",
    "Вариант 6.\n",
    "Функция: $\\Large{\\frac{ln(x - 1)}{(x - 1)^2}}$"
   ]
  },
  {
   "cell_type": "code",
   "execution_count": 2,
   "metadata": {},
   "outputs": [],
   "source": [
    "f = ln(x - 1) / (x - 1)^2"
   ]
  },
  {
   "cell_type": "code",
   "execution_count": 3,
   "metadata": {},
   "outputs": [
    {
     "data": {
      "text/html": [
       "<html><script type=\"math/tex; mode=display\">\\newcommand{\\Bold}[1]{\\mathbf{#1}}\\frac{\\log\\left(x - 1\\right)}{{\\left(x - 1\\right)}^{2}}</script></html>"
      ],
      "text/latex": [
       "\\begin{math}\n",
       "\\newcommand{\\Bold}[1]{\\mathbf{#1}}\\frac{\\log\\left(x - 1\\right)}{{\\left(x - 1\\right)}^{2}}\n",
       "\\end{math}"
      ],
      "text/plain": [
       "log(x - 1)/(x - 1)^2"
      ]
     },
     "metadata": {},
     "output_type": "display_data"
    }
   ],
   "source": [
    "show(f)"
   ]
  },
  {
   "cell_type": "markdown",
   "metadata": {},
   "source": [
    "### График функции"
   ]
  },
  {
   "cell_type": "code",
   "execution_count": 4,
   "metadata": {},
   "outputs": [
    {
     "data": {
      "image/png": "[encoded data removed]",
      "text/plain": [
       "Graphics object consisting of 1 graphics primitive"
      ]
     },
     "execution_count": 4,
     "metadata": {},
     "output_type": "execute_result"
    }
   ],
   "source": [
    "plot_func = plot(f, (x, 1, 10), ymin=-3, ymax=3)\n",
    "plot_func"
   ]
  },
  {
   "cell_type": "markdown",
   "metadata": {},
   "source": [
    "### Область определения\n",
    "\n",
    "$\\begin{aligned}\n",
    "\\begin{cases}\n",
    "   (x - 1)^2 \\neq 0, \n",
    "   \\\\\n",
    "   x - 1 > 0.\n",
    "\\end{cases}\n",
    "\\end{aligned} \\Rightarrow x > 1$"
   ]
  },
  {
   "cell_type": "markdown",
   "metadata": {},
   "source": [
    "### Чётность, периодичность\n",
    "\n",
    "Функция не является ни чётной, ни нечётной из-за несимметричной области определения.\n",
    "\n",
    "Докажем отсутствие периодичности."
   ]
  },
  {
   "cell_type": "code",
   "execution_count": 5,
   "metadata": {},
   "outputs": [
    {
     "data": {
      "text/plain": [
       "[T == -(x*log(x - 1) + sqrt(log(T + x - 1)*log(x - 1))*(x - 1) - log(x - 1))/log(x - 1), T == -(x*log(x - 1) - sqrt(log(T + x - 1)*log(x - 1))*(x - 1) - log(x - 1))/log(x - 1)]"
      ]
     },
     "execution_count": 5,
     "metadata": {},
     "output_type": "execute_result"
    }
   ],
   "source": [
    "var(\"T\")\n",
    "eq = f(x) - f(x + T)\n",
    "solve(eq, T)"
   ]
  },
  {
   "cell_type": "markdown",
   "metadata": {},
   "source": [
    "Явных решений нет, следовательно функция не является периодической."
   ]
  },
  {
   "cell_type": "markdown",
   "metadata": {},
   "source": [
    "### Точки пересечения графика с осями координат"
   ]
  },
  {
   "cell_type": "code",
   "execution_count": 6,
   "metadata": {},
   "outputs": [
    {
     "data": {
      "text/plain": [
       "[x == 2]"
      ]
     },
     "execution_count": 6,
     "metadata": {},
     "output_type": "execute_result"
    }
   ],
   "source": [
    "solve(f, x) # Решаем уравнение f(x) = 0"
   ]
  },
  {
   "cell_type": "code",
   "execution_count": 7,
   "metadata": {},
   "outputs": [
    {
     "data": {
      "text/plain": [
       "0"
      ]
     },
     "execution_count": 7,
     "metadata": {},
     "output_type": "execute_result"
    }
   ],
   "source": [
    "f(2)"
   ]
  },
  {
   "cell_type": "markdown",
   "metadata": {},
   "source": [
    "Получили, что график пересекает ось абсцисс в точке $(2; 0)$. Пересечения с осью ординат отсутствуют из-за области определения функции."
   ]
  },
  {
   "cell_type": "markdown",
   "metadata": {},
   "source": [
    "### Промежутки знакопостоянства\n",
    "\n",
    "Рассмотрим значения функции слева и справа от точки $(2; 0)$."
   ]
  },
  {
   "cell_type": "code",
   "execution_count": 8,
   "metadata": {},
   "outputs": [
    {
     "data": {
      "text/plain": [
       "-0.130074710688675"
      ]
     },
     "execution_count": 8,
     "metadata": {},
     "output_type": "execute_result"
    }
   ],
   "source": [
    "f(2 - 0.1)"
   ]
  },
  {
   "cell_type": "code",
   "execution_count": 9,
   "metadata": {},
   "outputs": [
    {
     "data": {
      "text/plain": [
       "0.0787687436399380"
      ]
     },
     "execution_count": 9,
     "metadata": {},
     "output_type": "execute_result"
    }
   ],
   "source": [
    "f(2 + 0.1)"
   ]
  },
  {
   "cell_type": "markdown",
   "metadata": {},
   "source": [
    "Слева от точки функция принимает отрицательные значения, справа - положительные.\n",
    "\n",
    "Следовательно, функция положительна при $x \\in (2; +\\infty)$, отрицательна при $x \\in (1; 2)$."
   ]
  },
  {
   "cell_type": "markdown",
   "metadata": {},
   "source": [
    "### Промежутки возрастания и убывания. Точки экстремума\n",
    "\n",
    "Найдём точки, производная в которых равна нулю."
   ]
  },
  {
   "cell_type": "code",
   "execution_count": 10,
   "metadata": {},
   "outputs": [
    {
     "data": {
      "text/html": [
       "<html><script type=\"math/tex; mode=display\">\\newcommand{\\Bold}[1]{\\mathbf{#1}}-\\frac{2 \\, \\log\\left(x - 1\\right)}{{\\left(x - 1\\right)}^{3}} + \\frac{1}{{\\left(x - 1\\right)}^{3}}</script></html>"
      ],
      "text/latex": [
       "\\begin{math}\n",
       "\\newcommand{\\Bold}[1]{\\mathbf{#1}}-\\frac{2 \\, \\log\\left(x - 1\\right)}{{\\left(x - 1\\right)}^{3}} + \\frac{1}{{\\left(x - 1\\right)}^{3}}\n",
       "\\end{math}"
      ],
      "text/plain": [
       "-2*log(x - 1)/(x - 1)^3 + 1/(x - 1)^3"
      ]
     },
     "metadata": {},
     "output_type": "display_data"
    }
   ],
   "source": [
    "df = f.derivative()\n",
    "show(df)"
   ]
  },
  {
   "cell_type": "code",
   "execution_count": 11,
   "metadata": {},
   "outputs": [
    {
     "data": {
      "text/plain": [
       "[x == e^(1/2) + 1]"
      ]
     },
     "execution_count": 11,
     "metadata": {},
     "output_type": "execute_result"
    }
   ],
   "source": [
    "solve(df, x)"
   ]
  },
  {
   "cell_type": "markdown",
   "metadata": {},
   "source": [
    "Нашли одну точку экстремума: $x = e^{\\frac{1}{2}} + 1$. Определеим знак производной слева и справа от нее."
   ]
  },
  {
   "cell_type": "code",
   "execution_count": 12,
   "metadata": {},
   "outputs": [],
   "source": [
    "extremum = exp(1/2) + 1"
   ]
  },
  {
   "cell_type": "code",
   "execution_count": 13,
   "metadata": {},
   "outputs": [
    {
     "data": {
      "text/plain": [
       "1/2*e^(-1)"
      ]
     },
     "execution_count": 13,
     "metadata": {},
     "output_type": "execute_result"
    }
   ],
   "source": [
    "f(extremum)"
   ]
  },
  {
   "cell_type": "code",
   "execution_count": 14,
   "metadata": {},
   "outputs": [
    {
     "data": {
      "text/plain": [
       "0.0336883011872103"
      ]
     },
     "execution_count": 14,
     "metadata": {},
     "output_type": "execute_result"
    }
   ],
   "source": [
    "n(df(extremum - 0.1)) # n(...) - выдаёт численное значение"
   ]
  },
  {
   "cell_type": "code",
   "execution_count": 15,
   "metadata": {},
   "outputs": [
    {
     "data": {
      "text/plain": [
       "-0.0220227504514824"
      ]
     },
     "execution_count": 15,
     "metadata": {},
     "output_type": "execute_result"
    }
   ],
   "source": [
    "n(df(extremum + 0.1))"
   ]
  },
  {
   "cell_type": "markdown",
   "metadata": {},
   "source": [
    "Производная слева положительная, а справа - отрицательная. Значит $\\large{(e^{\\frac{1}{2}} + 1; \\frac{1}{2 * e})}$ - точка максимума.\n",
    "\n",
    "Функция возрастает при $x \\in (1; e^{\\frac{1}{2}} + 1)$, убывает при $x \\in (e^{\\frac{1}{2}} + 1; + \\infty)$."
   ]
  },
  {
   "cell_type": "markdown",
   "metadata": {},
   "source": [
    "### Непрерывность\n",
    "\n",
    "Функция непрерывна на всей области определения."
   ]
  },
  {
   "cell_type": "markdown",
   "metadata": {},
   "source": [
    "### Асимптоты\n",
    "\n",
    "Найдём горизонтальную асимптоту:"
   ]
  },
  {
   "cell_type": "code",
   "execution_count": 16,
   "metadata": {},
   "outputs": [
    {
     "data": {
      "text/plain": [
       "0"
      ]
     },
     "execution_count": 16,
     "metadata": {},
     "output_type": "execute_result"
    }
   ],
   "source": [
    "limit(f, x=infinity)"
   ]
  },
  {
   "cell_type": "markdown",
   "metadata": {},
   "source": [
    "Значит, $y = 0$ - горизонтальная асимптота.\n",
    "\n",
    "Найдём вертикальную асимптоту:"
   ]
  },
  {
   "cell_type": "code",
   "execution_count": 17,
   "metadata": {},
   "outputs": [
    {
     "data": {
      "text/plain": [
       "Infinity"
      ]
     },
     "execution_count": 17,
     "metadata": {},
     "output_type": "execute_result"
    }
   ],
   "source": [
    "limit(f, x=1)"
   ]
  },
  {
   "cell_type": "markdown",
   "metadata": {},
   "source": [
    "В точке $x = 1$ функция стремится к бесконечности, значит $x = 1$ - вертикальная асимптота.\n",
    "\n",
    "Найдём наклонную асимптоту."
   ]
  },
  {
   "cell_type": "code",
   "execution_count": 18,
   "metadata": {},
   "outputs": [
    {
     "data": {
      "text/plain": [
       "0"
      ]
     },
     "execution_count": 18,
     "metadata": {},
     "output_type": "execute_result"
    }
   ],
   "source": [
    "limit(f(x) / x, x=infinity)"
   ]
  },
  {
   "cell_type": "markdown",
   "metadata": {},
   "source": [
    "Полученный предел равен 0, значит наклонных асимптот нет.\n",
    "\n",
    "Построим график и его асимптоты."
   ]
  },
  {
   "cell_type": "code",
   "execution_count": 19,
   "metadata": {},
   "outputs": [],
   "source": [
    "plot_asympt1 = plot(0, (x, -1, 10), ymin=-3, ymax=3, color='red')"
   ]
  },
  {
   "cell_type": "code",
   "execution_count": 20,
   "metadata": {},
   "outputs": [],
   "source": [
    "plot_asympt2 = line([(1,x) for x in srange(-4,4,0.1)], color='red')"
   ]
  },
  {
   "cell_type": "code",
   "execution_count": 21,
   "metadata": {},
   "outputs": [
    {
     "data": {
      "image/png": "[encoded data removed]",
      "text/plain": [
       "Graphics object consisting of 3 graphics primitives"
      ]
     },
     "metadata": {},
     "output_type": "display_data"
    }
   ],
   "source": [
    "show(plot_func + plot_asympt1 + plot_asympt2)"
   ]
  }
 ],
 "metadata": {
  "kernelspec": {
   "display_name": "SageMath 9.2",
   "language": "sage",
   "name": "sagemath"
  },
  "language_info": {
   "codemirror_mode": {
    "name": "ipython",
    "version": 3
   },
   "file_extension": ".py",
   "mimetype": "text/x-python",
   "name": "python",
   "nbconvert_exporter": "python",
   "pygments_lexer": "ipython3",
   "version": "3.7.7"
  }
 },
 "nbformat": 4,
 "nbformat_minor": 4
}
