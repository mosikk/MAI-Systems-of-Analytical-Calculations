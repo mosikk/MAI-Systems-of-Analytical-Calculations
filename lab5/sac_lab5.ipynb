{
 "cells": [
  {
   "cell_type": "markdown",
   "metadata": {},
   "source": [
    "# Лабораторная работа 5\n",
    "## Полиномы. НОД. Расширенный алгоритм Евклида (Wolfram)\n",
    "\n",
    "1. Реализовать расширенный алгоритм Евклида.\n",
    "2. Рассчитать НОД, сравнить его с результатом функции gcd().\n",
    "3. Получить представление НОД в виде $u * f + v * g$ (тождество Безу).\n",
    "\n",
    "\n",
    "* Расширенный алгоритм Евклида возвращать должен 3 значения.\n",
    "* Должна быть работа с коэффициентами(нормализация полиномов).\n",
    "* Должны быть составлены условия для проверки:\n",
    "\t1. что ваш НОД = f*u + g*v\n",
    "\t2. что ваш НОД идентичен НОД от wolfram (при условии нормализации результатов)\n",
    "\n",
    "Вариант 1.  \n",
    "$f = x^4 - 4x^3 + 7x^2 - 5x + 1$  \n",
    "$g = x^5 - x^4 - x^3 + x^2 + 5x - 5$"
   ]
  },
  {
   "cell_type": "code",
   "execution_count": 1,
   "metadata": {},
   "outputs": [],
   "source": [
    "f := x^4 - 4*x^3 + 7*x^2 - 5*x + 1\n",
    "g := x^5 - x^4 - x^3 + x^2 + 5*x - 5"
   ]
  },
  {
   "cell_type": "code",
   "execution_count": 3,
   "metadata": {},
   "outputs": [
    {
     "data": {
      "text/html": [
       "<div><img alt=\"Output\" src=\"data:image/png;base64,iVBORw0KGgoAAAANSUhEUgAAAIsAAAAPCAIAAABbWqtmAAAAznpUWHRSYXcgcHJvZmlsZSB0eXBlIGV4aWYAAHjabY9RDgMhCET/PUWPgICgx3G7btIb9PgdqmljUxKZ4QnsmsbzcaVbBGdKWrxaMyOENm3cYSrNmJqpvfNEx7rLO090Ld6ByvfCxuLHzt2mcv1dxNNIfAFedA2sRcKT5z7rY/Vzr3VfJLSF1s+v/6/F2YplV2RlcrcGXxMsxApTcbvsbobGbCeT3qHD3DFmHh3SYzCCh+/dI5kAnPEEiZOlQxUZNQdh+AIWpPEBJ++eeM4Ln8Va61Z7mnsAAAAJcEhZcwAACxMAAAsTAQCanBgAAAA8dEVYdFNvZnR3YXJlAENyZWF0ZWQgd2l0aCB0aGUgV29sZnJhbSBMYW5ndWFnZSA6IHd3dy53b2xmcmFtLmNvbVyipoUAAAAhdEVYdENyZWF0aW9uIFRpbWUAMjAyMTowNDoyMCAyMjo1MDoyOQUSK0EAAAIHSURBVFiF7VgxUsMwEDwzPMVJwfCC4wUJTSpauqMMD6CkSyOX8ROoqJQXJC9gXHD6iyhkZUzss2UhAuPJVrYs72p1Pt2NwU4NrAgRkRSfRU0TIiKSTinHCpG0u4aEvP8DzGydx/PEyImq446mICMi8nxXMDXkee4ubuf5eRSN2W2q29UiEVuxqVbb1fF+ehECcC5ftom2bFCMGW7g432XhKzYVKvvK/dJCgAQlaj1uzXS5bq11mo6MRBCz4p+WIScpVFWEh1zdRFFBABwjGCtJkDFrDA+QmnjIsCtM2AWgHMZGSdNgESBpuqaQak7E02tTuF3IqSp8TFqAmGPWQ+2Qh0ygeTjIH+v0XKSuzDCNBHy6JLQ5JbRlwJaDZkV3g4hHwPPI+xGnFyPuwDC65DqZUzj7tgr+fv13q7rKnc3mz3N7fdCt9iyuptlGZC263Z35cnZmA5yP6l4LenFtp8NkI/0sntaguMx0IloOcldAOFwhIxh5uaAsIsA+f0DPr99Gli0JiDioYf8s6pgPpfITfH4DIrF1kwiF+UaS27ImeK1hEOZlX5gmZWoeH+6c6Pl+t0NEvpkSlDwu4/SOoFZYeQp508C4dkgeQzkUy5Crv+UGyKEdks7Mk6NOtQZnuMoK5Sqa4+HnsUHksdA6hSi5CR3YYSZtTYsZS/4G0zzn8KUcInQf8cX1RckhC0nMRMAAAAASUVORK5CYII=\"></div>"
      ],
      "text/plain": [
       "             2      3    4\n",
       "1 - 5 x + 7 x  - 4 x  + x"
      ]
     },
     "execution_count": 3,
     "metadata": {
      "text/html": [],
      "text/plain": []
     },
     "output_type": "execute_result"
    }
   ],
   "source": [
    "f"
   ]
  },
  {
   "cell_type": "code",
   "execution_count": 4,
   "metadata": {},
   "outputs": [
    {
     "data": {
      "text/html": [
       "<div><img alt=\"Output\" src=\"data:image/png;base64,iVBORw0KGgoAAAANSUhEUgAAAJsAAAAPCAIAAAB89CqOAAAAznpUWHRSYXcgcHJvZmlsZSB0eXBlIGV4aWYAAHjabU/BDQMhDPszRUcISUhgHK7lpG7Q8escqBVVLRE7xskdabyeZ7oFOFPS4tWaGQHatHGHqDQxOVO76oV2rLu8+4nO5XdY5XthY/nH7rtN5vq7iKeQ+AK06BpYi4Snn/vsj5XnXuu+SGiD1s+v/+/F2YplV1RlcrcGXRMkyApTcTvtboZgtgeT3sHD3DFmHgnpMRjg4Xt6JBMYj3iCxMnSwYqKnsNh6AIvnMYHlFyZeM4boT9a7EkjK5sAAAAJcEhZcwAACxMAAAsTAQCanBgAAAA8dEVYdFNvZnR3YXJlAENyZWF0ZWQgd2l0aCB0aGUgV29sZnJhbSBMYW5ndWFnZSA6IHd3dy53b2xmcmFtLmNvbVyipoUAAAAhdEVYdENyZWF0aW9uIFRpbWUAMjAyMTowNDoyMCAyMjo1MDoyOQUSK0EAAAHLSURBVFiF7ZgxUsNADEUFw1GcFExOIE6QSeOKlk4tHIAbpNmUKdNS0SDfgBNkXER7l6VYExzwrtdZzWBMfpXE+c+SlZU0ATcpiSFERDKixGNCRERiJaCnGkRiLZaP8EgEHe5YJCLOPzGtmnqsUauAc2KIiPQq+i20a5iUiqLwLxbzQotpbbWuF+VSibZZ1+W21IF57Q9VVVnbvJtYRQH8M3veKhUAwIrALexfKxXYZl2XerEBQPG4261mM3h7uNv4ovYd6ZZ5cKPItJ8jMaQ2RE+wKm33OPQAABQbuWtF2F/RjPtm2oeLCQCaPUGlrs3MI71dy4v15igbIqKvVUujosKBTTBqZ2qdWyaA7mUmBE+0p2s8wLyU07tuOB42gUt9diYfIVOYHoSn2QdpJMC8lH1F5URd3xODXZNQRETYGA4ao/bPmncf5H541B4A9qf528C8lG8AwFoROdmfih+rf7G6x6eXg4Vl61JjPNQ1zOcBY8TeHF7E9y5LIjxkDwJbQY0UmJly2m8nOgciXSJub3qHGDy36/baB2kkwLyUk+doJKKUOdpZzuOnYjB0hxA80Z6u8QDzUr5yzqW1hIv+hib4n9E/16WiU9MHVNUYhvKQ2P4AAAAASUVORK5CYII=\"></div>"
      ],
      "text/plain": [
       "            2    3    4    5\n",
       "-5 + 5 x + x  - x  - x  + x"
      ]
     },
     "execution_count": 4,
     "metadata": {
      "text/html": [],
      "text/plain": []
     },
     "output_type": "execute_result"
    }
   ],
   "source": [
    "g"
   ]
  },
  {
   "cell_type": "markdown",
   "metadata": {},
   "source": [
    "Для начала рассчитаем НОД при помощи встроенной функции GCD."
   ]
  },
  {
   "cell_type": "code",
   "execution_count": 5,
   "metadata": {},
   "outputs": [
    {
     "data": {
      "text/html": [
       "<div><img alt=\"Output\" src=\"data:image/png;base64,iVBORw0KGgoAAAANSUhEUgAAACUAAAAPCAIAAADsy5EEAAAAznpUWHRSYXcgcHJvZmlsZSB0eXBlIGV4aWYAAHjabY9RDgMhCET/PUWPgICgx3FbN+kNevwOq2lj00mE4QnsmsbreaZbiDMlLV6tmRGkTRt3mEpTM2dqV7zEZd3lnSc6F+9A5XthY/Fj525rYf1dxNNIfAFedA2sRcKT5z7rY/Vzr3VfJLRJ6+fX/9fibMWyK6IyuVuDrwkWyQpTcTvtbobGbA8mvSMPc8eYeXRIj8EQD9+7RzIBeMQTJE6WjqyIqDkIwxewII0POLl64jlvVKRauIHNHbQAAAAJcEhZcwAACxMAAAsTAQCanBgAAAA8dEVYdFNvZnR3YXJlAENyZWF0ZWQgd2l0aCB0aGUgV29sZnJhbSBMYW5ndWFnZSA6IHd3dy53b2xmcmFtLmNvbVyipoUAAAAhdEVYdENyZWF0aW9uIFRpbWUAMjAyMTowNDoyMCAyMjo1MDoyOQUSK0EAAADRSURBVDiN7ZS9EcIwDIWfOEYxDKFMEJags8usIsrQsYQ9AUzAUUTaRRT8XLhLCEUuFa+z5Ofvyb4zuTsW1GpJ2J8H2KEiIkplCV5JtMdJheeBTfLq1s9NmDrDSrGhekm9iymJqDrYHO+nXTdYr1vP8bhLBShpdxU9N2H9SGj9gCFMjvTSy6hmg8a6Vak2RIjZmwBgDcBMVfu7fgU+jd3thu123MjMl/fCp6XCiHm8n0V0rBXBoq7CYFF3/87L8TPpMHWMlyOelEdmsCj5//+cU3eedfgHw5UbEwAAAABJRU5ErkJggg==\"></div>"
      ],
      "text/plain": [
       "-1 + x"
      ]
     },
     "execution_count": 5,
     "metadata": {
      "text/html": [],
      "text/plain": []
     },
     "output_type": "execute_result"
    }
   ],
   "source": [
    "GCDAuto = PolynomialGCD[f,g]"
   ]
  },
  {
   "cell_type": "markdown",
   "metadata": {},
   "source": [
    "### Расширенный алгоритм Евклида. Тождество Безу."
   ]
  },
  {
   "cell_type": "code",
   "execution_count": 6,
   "metadata": {},
   "outputs": [],
   "source": [
    "(*Функция принимает два полинома. Возвращает тройку полиномов (НОД, u, v), где u, v - коэффициенты разложения Безу*)\n",
    "ExtEuclid[aa_, bb_] := Module[\n",
    "    {a = aa, b = bb,\n",
    "    u = 1, u1 = 0,\n",
    "    v = 0, v1 = 1,\n",
    "    quot, rem\n",
    "    },\n",
    "    \n",
    "    While[Not[SameQ[b, 0]],\n",
    "        quot = PolynomialQuotient[a, b, x];\n",
    "        rem = PolynomialRemainder[a, b, x];\n",
    "        {a, b} = {b, rem};\n",
    "        {u, u1} = {u1, (u - u1*quot)//ExpandAll};\n",
    "        {v, v1} = {v1, (v - v1*quot)//ExpandAll};\n",
    "\n",
    "    ];\n",
    "    {a, u, v} (*a - НОД *)\n",
    "];"
   ]
  },
  {
   "cell_type": "code",
   "execution_count": 8,
   "metadata": {},
   "outputs": [
    {
     "data": {
      "text/html": [
       "<style>\n",
       "\t\t\t\t\t\t\t\t\t\t\t\t\t.grid-container {\n",
       "\t\t\t\t\t\t\t\t\t\t\t\t\t\tdisplay: inline-grid;\n",
       "\t\t\t\t\t\t\t\t\t\t\t\t\t\tgrid-template-columns: auto;\n",
       "\t\t\t\t\t\t\t\t\t\t\t\t\t}\n",
       "\t\t\t\t\t\t\t\t\t\t\t\t</style>\n",
       "\n",
       "\t\t\t\t\t\t\t\t\t\t\t\t<div><div class=\"grid-container\"><div class=\"grid-item\"><img alt=\"Output\" src=\"data:image/png;base64,iVBORw0KGgoAAAANSUhEUgAAAJkAAAAgCAIAAACO+01QAAAAzXpUWHRSYXcgcHJvZmlsZSB0eXBlIGV4aWYAAHjabU9REkIhCPz3FB0BARc9jq9spht0/OBpNTbtjCysC0oaz8c9XQKcKWmxigaQQ5s27p5UmpicqZ3xRGvrLu964rfeXSrfC4ylH7tumMz1ZxCtSRIveC66GtYg4annPutj+bnXug8S2qD18/X/tRijIJt6VCYzNM+rrxaEwlQMd1wBN2bcmPTqPGDmbbBwSI/GAA/b3SNBXLjFChInS3dWj15zKOx5cS2UxodncnpinRcdYFqPTMU9/QAAAAlwSFlzAAALEwAACxMBAJqcGAAAADx0RVh0U29mdHdhcmUAQ3JlYXRlZCB3aXRoIHRoZSBXb2xmcmFtIExhbmd1YWdlIDogd3d3LndvbGZyYW0uY29tXKKmhQAAACF0RVh0Q3JlYXRpb24gVGltZQAyMDIxOjA0OjIwIDIyOjUwOjI5BRIrQQAABAZJREFUaIHtWj+aqjAQn+znAfYQQOHnCdgThG2stt0ulNJs94otttsGS+1srV4jOYGcgI8iyV3yClACRFckEnzrr5LJH3/MJDOZISDvDzz2AQBIosgSAiUqcSUDP+a6znXxPTORUkroPcPASAj4Meexr6hKfSra62N47B+F6u//hUmJJxgDBKXiwq54JfcLpy7jeUrmuGyfk3S7a8828xwAAPodQbxpTnAVbsmEhgihkFYPL0tlIkqpbtAobEl3zO2p3fXf4vXE8mutTBwihBByt298hQEABMv8N2/3ghBCDQWZghEmeCUTsg5CCkDDIIt5bdVgYDrmY7AlZfDay5R4xeMsQAgh9A5vRG0ovM+f3D2u8jT6gk3hBGfRu2FrGmRymCqApLX9sQeaDT8CWwoGXl+f5yz2ha72r5AdvFgFPCeQseLt/aNjw3OS5rznP9+Wie/72n9xATTdzYXeK8HjOPm5V2uQXz89KnLNeaI6higDzZw9bsak7HliHp3W7NsyiTvpUzneA0B58C9zA6ilBycSgaqv1gbjYJIQqJ13NaZuq826La/alg/o9GY9XnIA1zaH+0TOGscf27YULLfM4E7heNOmqLClWJZ5DlJS1ENOdMx/lGelV19Mex9ifyfaR9knALF8caNZ5XxXGArrBnAUHjKcKh5ngRFz8vyxL03hCeh3lJJkhWtisdu2hQqcxSb2118GMu3pdLThskNl0QqaAXMiWAbkDy63ZwoAJJEfbJv6b2eV7Hizc81CUK66ABdjE6708/PTwCwKoih6fn7Wt3HGXHxqORtnch5tnu2AOanaFnu5EMsX14jTc5z6SuhgSCHU5eY46tChNHjgwIVocRiWSQdMHG8GWyagtm0cbwZpzs+ZQLAMZvMzJtIp4AIIwWsb+tp5+qDkwPIcPM8ShyswATwnQfC+fK1X4j9i3w3CuTwRMmnoRilJTsZTEMvwW9ng0/nH4jIn6zjYuuIOHBgzFBoGgpSyXo46VotaQm2vnuhYwRsUY+YmJY9Jg57tGl5C+hVFfy/atrRd93GnrfLFAxeiWWWxbUtNWbEbipJVo2zREpaFLWPFqhEQaxeybdtSU1bsAhq62xnxzwtpiN5ho3xhGgA2iNm25Ykv5JeBhkEWbz6mPwh1l6xuiwGIaW5jWLel48GVTrbQTUMXWuHAGISY5lvhRNtxSBQbs/M70jCARC4cAPGDcGAMQ0ww8FrZvaUTtQJ+RRqnizE+acYnUPPgUxdzzGIgYtrbGNZ9LICjvSD4w5jDbTdFF/vVSiMc2N0OREx7G2MEtgTsAb+lTyy+obtRCutg6MzkLK4mduJGcbe9fSOMu1o2OiSJ1iUjKaXRtfaANYzBxz5gBv8AKDmfbaHocF8AAAAASUVORK5CYII=\"></div><div class=\"grid-item\"><img alt=\"Output\" src=\"data:image/png;base64,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\"></div><div class=\"grid-item\"><img alt=\"Output\" src=\"data:image/png;base64,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\"></div></div></div>"
      ],
      "text/plain": [
       "         1936    1936 x\n",
       "GCD = (-(----) + ------)\n",
       "         441      441\n",
       "                         2       3\n",
       "     1264   656 x   128 x    16 x\n",
       "u = (---- + ----- - ------ - -----)\n",
       "     441     441     441      21\n",
       "                       2\n",
       "     640   880 x   16 x\n",
       "v = (--- - ----- + -----)\n",
       "     441    441     21"
      ]
     },
     "execution_count": 9,
     "metadata": {
      "text/html": [],
      "text/plain": []
     },
     "output_type": "execute_result"
    }
   ],
   "source": [
    "{GCDEuclid, u, v} = ExtEuclid[f, g];\n",
    "\"GCD =\" GCDEuclid\n",
    "\"u =\" u\n",
    "\"v =\" v"
   ]
  },
  {
   "cell_type": "markdown",
   "metadata": {},
   "source": [
    "Нормируем полученные многочлены для последующей работы с ними. Для этого найдем старший коэффициент многочлена GCDEuclid."
   ]
  },
  {
   "cell_type": "code",
   "execution_count": 12,
   "metadata": {},
   "outputs": [
    {
     "data": {
      "text/html": [
       "<div><img alt=\"Output\" src=\"data:image/png;base64,iVBORw0KGgoAAAANSUhEUgAAACEAAAAgCAIAAAAT2oadAAAAznpUWHRSYXcgcHJvZmlsZSB0eXBlIGV4aWYAAHjabU9BDsMwCLvnFXsCAQLJc9I1lfaDPX+mzTZlmqVicI1b0ng+jnQLcKakxas1MwK0aeOOptKFizO1s57gyZgXPfFb75DK94WNqW+r7jYD608QzSSJL6AXnQszSPjSc7/mbfq517oGCS3Q+vn1/7M4W7HsiqpM7tbQV5wWZIWpuB12N4Mx286kd/Awd6yZh0N6LAZ4+OoeyQTCHidIPFk6WFExcyiMvkDrIlA2dHJ64pwXBsRaeFF+fr0AAAAJcEhZcwAACxMAAAsTAQCanBgAAAA8dEVYdFNvZnR3YXJlAENyZWF0ZWQgd2l0aCB0aGUgV29sZnJhbSBMYW5ndWFnZSA6IHd3dy53b2xmcmFtLmNvbVyipoUAAAAhdEVYdENyZWF0aW9uIFRpbWUAMjAyMTowNDoyMCAyMjo1MDozMGXVoqQAAAGESURBVEiJ7VYxcsIwENzL8AAeYVNkeIF4AaRJRUsnl3aTLgUFDxAldG6p0sR+AbzAQ4H8F6VQwGdZ2M6QSZHxNrZWp9uT76wTTAWtBADIjHGZxDcquuIglPYZ12mweaG0VoI54yM7b2rQStxI/u4A9WFdI5P1geuDWftCuOIJ7dh/5ACAcrvZV2weERFReFjq3RwAykshlpPPGRER0Wxbch+tGvOdVsWCiIhWWEo+YSN8P4cU2SBwSjZI7Z6myYqrdOwjiI/W2/EFBaaTwAniVaK4WHdCpXFwZU9nzcza8uHPLkOVBbawYcvrqgaZmVs1o1bQd0q3snWjJGNM++d6HF11NWj8P42RfazX69/1myTJeDy270PtDhp/qlFuZ0S3BnSPtIRr1k8jj8LDVIp2Mo9ohZSd6T/RyKNFodK35w5yvjPH2OmMPTWsM2exl+yJkUcBmYkDoOwg+6PZt10I6SYGvMveuwJ4+rn/ntBY3CS7NR75P+xNLkxO2C/aKng4d/vjC0yfbtmE69mlAAAAAElFTkSuQmCC\"></div>"
      ],
      "text/plain": [
       "1936\n",
       "----\n",
       "441"
      ]
     },
     "execution_count": 12,
     "metadata": {
      "text/html": [],
      "text/plain": []
     },
     "output_type": "execute_result"
    }
   ],
   "source": [
    "coef = CoefficientList[GCDEuclid, x]//Last"
   ]
  },
  {
   "cell_type": "markdown",
   "metadata": {},
   "source": [
    "Поделим все многочлены на найденный коэффициент."
   ]
  },
  {
   "cell_type": "code",
   "execution_count": 13,
   "metadata": {},
   "outputs": [
    {
     "data": {
      "text/html": [
       "<style>\n",
       "\t\t\t\t\t\t\t\t\t\t\t\t\t.grid-container {\n",
       "\t\t\t\t\t\t\t\t\t\t\t\t\t\tdisplay: inline-grid;\n",
       "\t\t\t\t\t\t\t\t\t\t\t\t\t\tgrid-template-columns: auto;\n",
       "\t\t\t\t\t\t\t\t\t\t\t\t\t}\n",
       "\t\t\t\t\t\t\t\t\t\t\t\t</style>\n",
       "\n",
       "\t\t\t\t\t\t\t\t\t\t\t\t<div><div class=\"grid-container\"><div class=\"grid-item\"><img alt=\"Output\" src=\"data:image/png;base64,iVBORw0KGgoAAAANSUhEUgAAACUAAAAPCAIAAADsy5EEAAAAz3pUWHRSYXcgcHJvZmlsZSB0eXBlIGV4aWYAAHjabY9RDgMhCET/PUWPgICgx3FbN+kNevwOq2lj00mE4QnsmsbreaZbiDMlLV6tmRGkTRt3mEpTM2dqV7zEZd3lnSc6F+9A5XthY/Fj525rYf1dxNNIfAFedA2sRcKT5z7rY/Vzr3VfJLRJ6+fX/9fibMWyK6IyuVuDrwkWyQpTcTvtbobGbA8mvSMPc8eYeXRIj8EQD9+7RzIBeMQTJE6WjqyIqDkIwxewLgJywMnVE895A1QmWrAByHIqAAAACXBIWXMAAAsTAAALEwEAmpwYAAAAPHRFWHRTb2Z0d2FyZQBDcmVhdGVkIHdpdGggdGhlIFdvbGZyYW0gTGFuZ3VhZ2UgOiB3d3cud29sZnJhbS5jb21coqaFAAAAIXRFWHRDcmVhdGlvbiBUaW1lADIwMjE6MDQ6MjAgMjI6NTA6MzBl1aKkAAAA0UlEQVQ4je2UvRHCMAyFnzhGMQyhTBCWoLPLrCLK0LGEPQFMwFFE2kUU/Fy4SwhFLhWvs+Tn78m+M7k7FtRqSdifB9ihIiJKZQleSbTHSYXngU3y6tbPTZg6w0qxoXpJvYspiag62Bzvp103WK9bz/G4SwUoaXcVPTdh/Uho/YAhTI700suoZoPGulWpNkSI2ZsAYA3ATFX7u34FPo3d7YbtdtzIzJf3wqelwoh5vJ9FdKwVwaKuwmBRd//Oy/Ez6TB1jJcjnpRHZrAo+f//nFN3nnX4B8OVGxMAAAAASUVORK5CYII=\"></div><div class=\"grid-item\"><img alt=\"Output\" src=\"data:image/png;base64,iVBORw0KGgoAAAANSUhEUgAAAJ0AAAAjCAIAAAABhJ+EAAAA0XpUWHRSYXcgcHJvZmlsZSB0eXBlIGV4aWYAAHjabU9BjsQgDLvzinkCJMGB59ApI+0P9vnjFHZXXY2lxo5xUkjz++uVHgEpOVn1hg5kwrp1GRQtLywuuV/1Qj/3Wbn7SXT7g1b9O8Dc/nH3HYul/VuUZQmNP1Cr7YG9SGX5Zaz+2HkZrd0X7Rv9wNrv1T/36oKK4sZqkt3RqVuiJKFKro4XngCDBadke5In3DkGj4SOGAzI9Ht6JiiNM56g8RUdZGNlL+EIdaU3VOkcVHpl4jlvYFVatWNIxgkAAAAJcEhZcwAACxMAAAsTAQCanBgAAAA8dEVYdFNvZnR3YXJlAENyZWF0ZWQgd2l0aCB0aGUgV29sZnJhbSBMYW5ndWFnZSA6IHd3dy53b2xmcmFtLmNvbVyipoUAAAAhdEVYdENyZWF0aW9uIFRpbWUAMjAyMTowNDoyMCAyMjo1MDozMGXVoqQAAAMySURBVHic7Zo9duIwEMdH+3IADoEp8jiBdAJIszegk0vcbJeCIh2NXEK3bao0yCcIJ+BRIN3FW5i15U+MJVter/5NgrD1m2E0I1kWiuMYnCanH7YN+LckQ58QQvxQ2rYEAABk5BNCCPGjkj2x0xMSQsRxLBjGTNi2JZNgmPJ8UylfIx/l5UeF9nuDyWEXkny/SUMPpIJUZ1vB5vN58s9yMddD311ECBEl+Ts4LmW0vy5/rvKtpbiuDkrUOQX86gHIkKzhPiI4rInRMhT53ueSYuUz2sBvwXDDPYbAqVMxp8ePll7JcH99P6weX9jYx+b6fs81CDYJuZPjUgh4hctXcSQ0pzck+c0pZInOKRisQklvGaoML14OaTunoGOKYPjv7WWfakCCUWq2BHMKOUe7OF4uxA1xVXxV2IJhrR+zmtE6rooxRsYXpwAA1aQyiFMAwBhjjE1Ft+TnM44LRimllJatqY1rofu0OmDGjOVrVgaeiWtqTN3XbSUYvndSl/iGQPUqJmtsyvGa5xwZbgJgv7JJZL79Tm74foOL/qohYXwc4bhGCCHkBWc4rvNriEZhrD39ytPnmfLDCgBWB07Pwb5qtWIAVMcPCVoDj5+bqtva03YYKSOmhzX+k3UYM6FvidpBZWemQHXwav/MOF4V14obs0VaPzVJdeY+5aXKEdWKqT3Vq0vPol9GQU3gjG7ScRS7fcQpyu0jTlMurtOUi+s05eI6TfUcVxmV3yA5DaCX5M9ut+vcRRAEs9ms+jtxu3mruuduHWgr+iPpG9CZbsT3slJ7+nvOkVICiNMJ3t485QXXQJJSrROD0i2iM7301K+UQgiA2/UKiwXA4D+tEEJtGI5uEa2q532JKAy97dbKiP2/5dbD05TbR5ymXL5OU2pcqw5NGTte1SBb3DHQ+zIjjWvloSlzx6tqZYs7BnqfZpRfDDYfrnl8ZRfZ4o6B3osZbedXebsALR5SHUC2uGOg65jRbl8i8r1gyePBHbTFHQNdz4zH+drteJW+bHHHQNc340FcZUi8YGklqFa4Y6CbMUOdmlVR3ul41dOyxR0DvUcz3H7TNOX2m6YpF9dp6g8+neitDUREOwAAAABJRU5ErkJggg==\"></div><div class=\"grid-item\"><img alt=\"Output\" src=\"data:image/png;base64,iVBORw0KGgoAAAANSUhEUgAAAG0AAAAjCAIAAAARyBMdAAAA0XpUWHRSYXcgcHJvZmlsZSB0eXBlIGV4aWYAAHjabU9BjsQgDLvzinkCJMGB59ApI+0P9vnjFHa1XY2lxo5xUkjz++uVHgEpOVn1hg5kwrp1GRQtLywuuV/1As59Vu5+Et3+oFX/DMztH3ffsVjav0VZltD4A7XaHtiLVJZfxuqPnZfR2n3RvtEPrP1e/XOvLqgobqwm2R2duiVKEqrk6njhCTBYcEq2J3nCnWPwSOiIwYBMv6dngtI44wkaX9FBNlb2Eo5QV3pDlc5BpVcmnvMGW+dasmk+eeAAAAAJcEhZcwAACxMAAAsTAQCanBgAAAA8dEVYdFNvZnR3YXJlAENyZWF0ZWQgd2l0aCB0aGUgV29sZnJhbSBMYW5ndWFnZSA6IHd3dy53b2xmcmFtLmNvbVyipoUAAAAhdEVYdENyZWF0aW9uIFRpbWUAMjAyMTowNDoyMCAyMjo1MDozMGXVoqQAAAKpSURBVGiB7VkxdqMwEB3tywF8CHCxzycQJ7DdbJXWnVyaA6RwkW4bVMZd2vSBE+yewM8F0l20BRgLECDE8Lxx9BvHEM+f/zUMgiFKKfCYjB/3TuBrQfJ9FEXRnsvGCeLrcQyklEEQSB7t4P3PIbid6KxHySNCyD6rfyeEkKi1GO5pVUFJjWwGmPMvj1ozB0Hp3WoZ1E50+Jjtw48Vo/r3eJUqpZQSzx8hpmJWhFVKva3xojYg+e7yUqSfQLwrnMz2ZAfvIqFDv27G+n15aeWqDEgZ0ESIhF5FFgfKPCjo4idBozBmcSNKGVQpTEPK6ul35NDBLhLGTGkYfLyadiOo/iriJQxJktJrwRTyqjlFY2zb1r2WbfaUAQCllFLacLPlY8quUZs+VguJqKqmxiSndBqp/lvFqPqvCXv2Rn+U/PUEpw0hhJAw/gunDSERh+UKTpvXn0K9rQFkfm612ckIts8UzrnpDkbpyAbWAckjsoF0ZBu2Ze+2WF8orQQNS4oAc/8raUVCp14BXfU+cF1bs1v6qLcyxGta649GE+t3N3fi1j256vatg47sfh+OA/9ciAPvIw68jzjwPuLgUXyUWYb29sQFT8XH8Xh0DhHH8WKxcPjhWNI+IpHn4bpngz1FoE1K8+17pNQLpHrhNBOR+PyE7TaclagPTzPFlVIIoR+YS19JlF8usFzOSdSPR9mHZ5yHh8NdShEAHuc+c288Sj3eG74ecaD7aBr64IyH+mGMhkthRzpBbOWjceiDOR7qgDEaLoUl6TSx7Rd1/cOK4f90gTEaLoUlqVLKRaxtf5T5Gdiv+Qaj/xUcxNrtw8vx9few0UnscD26jYe+KJzFDvgoeRTGq+9jortYvbXqYKnTeGg0jNFwKexIp4n1zzM48M8zOPA+4uAfBHhUeYZAX0UAAAAASUVORK5CYII=\"></div></div></div>"
      ],
      "text/plain": [
       "-1 + x\n",
       "                2       3\n",
       "79    41 x   8 x    21 x\n",
       "--- + ---- - ---- - -----\n",
       "121   121    121     121\n",
       "                2\n",
       "40    5 x   21 x\n",
       "--- - --- + -----\n",
       "121   11     121"
      ]
     },
     "execution_count": 13,
     "metadata": {
      "text/html": [],
      "text/plain": []
     },
     "output_type": "execute_result"
    }
   ],
   "source": [
    "GCDEuclidNorm = (GCDEuclid / coef)//ExpandAll\n",
    "uNorm = (u / coef)//ExpandAll\n",
    "vNorm = (v / coef)//ExpandAll"
   ]
  },
  {
   "cell_type": "markdown",
   "metadata": {},
   "source": [
    "Сравним результаты, полученный встроенной функцией и моей."
   ]
  },
  {
   "cell_type": "code",
   "execution_count": 16,
   "metadata": {},
   "outputs": [
    {
     "data": {
      "text/html": [
       "<div><img alt=\"Output\" src=\"data:image/png;base64,iVBORw0KGgoAAAANSUhEUgAAABwAAAAPCAIAAAB4LTj2AAAAznpUWHRSYXcgcHJvZmlsZSB0eXBlIGV4aWYAAHjabU/BDQMhDPszRUcISUhgHO7KSd2g49cpqBVVLRE7xskdaTwfV7oFOFPS4tWaGQHatHGHqDQxOVN719mc6y7vfqJr+R1W+V7YWP6x+26Tuf4u4ikkvgAtugbWIuHp5z77Y+W517ovEtqg9fPr/3txtmLZFVWZ3K1B1wQJssJU3C47zRDMdmfSEzzMHWPmkZAegwEevqdHMoFxjydInCwdrKjoORyGLvC6CJwDSt6ZeM4Llmpa3VY1Ex8AAAAJcEhZcwAACxMAAAsTAQCanBgAAAA8dEVYdFNvZnR3YXJlAENyZWF0ZWQgd2l0aCB0aGUgV29sZnJhbSBMYW5ndWFnZSA6IHd3dy53b2xmcmFtLmNvbVyipoUAAAAhdEVYdENyZWF0aW9uIFRpbWUAMjAyMTowNDoyMCAyMjo1MDozMGXVoqQAAADGSURBVDiN5ZMhEoMwEEX/dnqUconmBImqqq0LEkwdN6hJJHG1qCpygnICBgG5SyoInYmAKVNMp19lfnbe5u9syHuPrbXbnPhbUKcZxWLafUv1QbWErP02mo1vU0r1O0VqJ8+O106z6BzVLc3UVLiHFOZh57snXTHFhWDaLUJlkR0AALz0JZ8pcn0LI8JDhQEA7BegH2nomqManqH9qLUr1fYOgNOXvBkNfpJNfouHswrKrwp5QkRJdVZyMstBtSLaR/rvv/8CrnuckB3i8l4AAAAASUVORK5CYII=\"></div>"
      ],
      "text/plain": [
       "True"
      ]
     },
     "execution_count": 16,
     "metadata": {
      "text/html": [],
      "text/plain": []
     },
     "output_type": "execute_result"
    }
   ],
   "source": [
    "SameQ[GCDAuto, GCDEuclidNorm]"
   ]
  },
  {
   "cell_type": "markdown",
   "metadata": {},
   "source": [
    "В расширенном алгоритме Евклида были найдены коэффициенты разложения Безу. Запишем разложение Безу."
   ]
  },
  {
   "cell_type": "code",
   "execution_count": 17,
   "metadata": {},
   "outputs": [
    {
     "data": {
      "text/html": [
       "<div><img alt=\"Output\" src=\"data:image/png;base64,iVBORw0KGgoAAAANSUhEUgAAACUAAAAPCAIAAADsy5EEAAAAznpUWHRSYXcgcHJvZmlsZSB0eXBlIGV4aWYAAHjabU/RDUMhCPx3io6AgKDj+Fpf0g06fo+naWPTS4TjOFDTeD3PdAtwpqTFqzUzArRp4w5SaWLmTO2KF7isXt71ROfSO6TybdhY+rHrbmth/V3Ek0jcAC66BtYi4annPutj+bnXui8S2qD18/T/tThbseyKqEzu1sBrAkWywlTcTrubwZjtwaR35GHuGDMPh/QYDPDw3T2SCYRHfEHiZOnIioiaQ2HwAq2LSOYDTC5PfOcNVDZasYvIUHYAAAAJcEhZcwAACxMAAAsTAQCanBgAAAA8dEVYdFNvZnR3YXJlAENyZWF0ZWQgd2l0aCB0aGUgV29sZnJhbSBMYW5ndWFnZSA6IHd3dy53b2xmcmFtLmNvbVyipoUAAAAhdEVYdENyZWF0aW9uIFRpbWUAMjAyMTowNDoyMCAyMjo1MDozMRLSkjIAAADRSURBVDiN7ZS9EcIwDIWfOEYxDKFMEJags8usIsrQsYQ9AUzAUUTaRRT8XLhLCEUuFa+z5Ofvyb4zuTsW1GpJ2J8H2KEiIkplCV5JtMdJheeBTfLq1s9NmDrDSrGhekm9iymJqDrYHO+nXTdYr1vP8bhLBShpdxU9N2H9SGj9gCFMjvTSy6hmg8a6Vak2RIjZmwBgDcBMVfu7fgU+jd3thu123MjMl/fCp6XCiHm8n0V0rBXBoq7CYFF3/87L8TPpMHWMlyOelEdmsCj5//+cU3eedfgHw5UbEwAAAABJRU5ErkJggg==\"></div>"
      ],
      "text/plain": [
       "-1 + x"
      ]
     },
     "execution_count": 17,
     "metadata": {
      "text/html": [],
      "text/plain": []
     },
     "output_type": "execute_result"
    }
   ],
   "source": [
    "Bezout = (uNorm * f + vNorm * g)//ExpandAll"
   ]
  },
  {
   "cell_type": "markdown",
   "metadata": {},
   "source": [
    "Сравним полученный результат с НОД."
   ]
  },
  {
   "cell_type": "code",
   "execution_count": 18,
   "metadata": {},
   "outputs": [
    {
     "data": {
      "text/html": [
       "<div><img alt=\"Output\" src=\"data:image/png;base64,iVBORw0KGgoAAAANSUhEUgAAABwAAAAPCAIAAAB4LTj2AAAAz3pUWHRSYXcgcHJvZmlsZSB0eXBlIGV4aWYAAHjabU/BDQMhDPszRUcISUhgHO7KSd2g49cpqBVVLRE7xskdaTwfV7oFOFPS4tWaGQHatHGHqDQxOVN719mc6y7vfqJr+R1W+V7YWP6x+26Tuf4u4ikkvgAtugbWIuHp5z77Y+W517ovEtqg9fPr/3txtmLZFVWZ3K1B1wQJssJU3C47zRDMdmfSEzzMHWPmkZAegwEevqdHMoFxjydInCwdrKjoORyGLvC6iGQ+oOSdiee8AJZ6Wt4gqroFAAAACXBIWXMAAAsTAAALEwEAmpwYAAAAPHRFWHRTb2Z0d2FyZQBDcmVhdGVkIHdpdGggdGhlIFdvbGZyYW0gTGFuZ3VhZ2UgOiB3d3cud29sZnJhbS5jb21coqaFAAAAIXRFWHRDcmVhdGlvbiBUaW1lADIwMjE6MDQ6MjAgMjI6NTA6MzES0pIyAAAAxklEQVQ4jeWTIRKDMBBF/3Z6lHKJ5gSJqqqtCxJMHTeoSSRxtagqcoJyAgYBuUsqCJ2JgClTTKdfZX523ubvbMh7j62125z4W1CnGcVi2n1L9UG1hKz9NpqNb1NK9TtFaifPjtdOs+gc1S3N1FS4hxTmYee7J10xxYVg2i1CZZEdAAC89CWfKXJ9CyPCQ4UBAOwXoB9p6JqjGp6h/ai1K9X2DoDTl7wZDX6STX6Lh7MKyq8KeUJESXVWcjLLQbUi2kf677//Aq57nJAd4vJeAAAAAElFTkSuQmCC\"></div>"
      ],
      "text/plain": [
       "True"
      ]
     },
     "execution_count": 18,
     "metadata": {
      "text/html": [],
      "text/plain": []
     },
     "output_type": "execute_result"
    }
   ],
   "source": [
    "SameQ[Bezout, GCDEuclidNorm]"
   ]
  },
  {
   "cell_type": "markdown",
   "metadata": {},
   "source": [
    "Результаты совпали. Коэффициенты найдены верно."
   ]
  }
 ],
 "metadata": {
  "kernelspec": {
   "display_name": "Wolfram Language 12.2",
   "language": "Wolfram Language",
   "name": "wolframlanguage12.2"
  },
  "language_info": {
   "codemirror_mode": "mathematica",
   "file_extension": ".m",
   "mimetype": "application/vnd.wolfram.m",
   "name": "Wolfram Language",
   "pygments_lexer": "mathematica",
   "version": "12.0"
  }
 },
 "nbformat": 4,
 "nbformat_minor": 4
}
