{
 "cells": [
  {
   "cell_type": "markdown",
   "metadata": {},
   "source": [
    "# Лабораторная работа 5\n",
    "## Полиномы. НОД. Расширенный алгоритм Евклида (Wolfram)\n",
    "\n",
    "1. Реализовать расширенный алгоритм Евклида.\n",
    "2. Рассчитать НОД, сравнить его с результатом функции gcd().\n",
    "3. Получить представление НОД в виде $u * f + v * g$ (тождество Безу).\n",
    "\n",
    "\n",
    "* Расширенный алгоритм Евклида возвращать должен 3 значения.\n",
    "* Должна быть работа с коэффициентами(нормализация полиномов).\n",
    "* Должны быть составлены условия для проверки:\n",
    "\t1. что ваш НОД = f*u + g*v\n",
    "\t2. что ваш НОД идентичен НОД от wolfram (при условии нормализации результатов)\n",
    "\n",
    "Вариант 1.  \n",
    "$f = x^4 - 4x^3 + 7x^2 - 5x + 1$  \n",
    "$g = x^5 - x^4 - x^3 + x^2 + 5x - 5$"
   ]
  },
  {
   "cell_type": "code",
   "execution_count": 1,
   "metadata": {},
   "outputs": [],
   "source": [
    "f := x^4 - 4*x^3 + 7*x^2 - 5*x + 1\n",
    "g := x^5 - x^4 - x^3 + x^2 + 5*x - 5"
   ]
  },
  {
   "cell_type": "code",
   "execution_count": 6,
   "metadata": {},
   "outputs": [
    {
     "data": {
      "text/html": [
       "<div><img alt=\"Output\" src=\"data:image/png;base64,iVBORw0KGgoAAAANSUhEUgAAAIMAAAARCAIAAABxUYh5AAAA0XpUWHRSYXcgcHJvZmlsZSB0eXBlIGV4aWYAAHjabU/bjQMhEPunipTAPPBAOWyWSNfBlR8TuIs2iiXGxngGSOP355FuEyo5eYmKBmTCmzftFDUvLJbcXnVZts/k6ifZQjqt8j7A2P5x9QOLtX4MyrqEzRuozXfDHmS6fOlrf+y89lqvg/6euuH1/+nf9xaKAglndc0RaNQ1UZJQNJfAA3eAQcGp2e/kgQi2IWbC+myc0BHX9EgwGuf8gs0l1snOqsb7qBu1W2EtVvSgY6/M/M4TFGtalCcmr3sAAAAJcEhZcwAACxMAAAsTAQCanBgAAAA8dEVYdFNvZnR3YXJlAENyZWF0ZWQgd2l0aCB0aGUgV29sZnJhbSBMYW5ndWFnZSA6IHd3dy53b2xmcmFtLmNvbVyipoUAAAAhdEVYdENyZWF0aW9uIFRpbWUAMjAyMTowNDoyNCAwOTo0NTo1NQCS29IAAAI1SURBVFiF7VgxdqMwEB3ty1GwC15OIJ+A0FD5CKJEzXZ7AxpRmm5bVzRIJ0hOwHOBdBel8EJwIgmkBT8X/hWGYf6MvmY0GGmt4YkHwC/XQ1UdcrEtv6oOCCGEDpXalghEfieiQDiUEPmOfmweQPpXa63567nddIVU1WdXIlpuvLkCYVVC5E0mGd6aP4oiAFB9/KeINuUpigQAIMlI1z9kVViUEHmTnZK7RCByhHaUNvfaqfEx3VTzYGgDbmuBcJPNDDjxek8y7EvDSUCMnIRm8x9rYYdkeHRpVGJiGEYtGfaMmjMmvSg4H90vXV7P3TFCMuIZ3EK3eCquc3YKhWjhSObNYBxoEGr2nudEkgzNU/UQ7+bMVXVAbzXUbwghz3lQlLSmu/WHrqh4v2k+oziYSa0lI/h6FQ5OCDfvvyAiyRl3mZl27MoZDR5/ullA5Irf1J0kw0CYb4swOmdcOzqBN9FMb7A+Xi2jEZacZohc8U+VeBlKJT3iM6SnJS1CqZs6vQ6i/yBaSAtnTfoSSQCQSn0nGkzaS2wmXCujLyQZabyIFsT/hZfJ9ce5VcVsu1ZVWV6mN+Lfp/El0VBaU3r9UaOOyXeDQz+irutey8s3ogHyAnu78itkNLXrO9gvJ1oU/wRD4THOCWAmpZRr1LOtO/kTObuTfWxaPSPNifG4mSNa2p1AcjIcRZwAJmydifmnEqFErkyMQqyckf1bYhmRPf5bz0g//4t9DGzyPfFEAJ5KPAo+AUF23HNtASDOAAAAAElFTkSuQmCC\"></div>"
      ],
      "text/plain": [
       "FormBox[RowBox[{SuperscriptBox[\"x\", \"4\"], \"-\", \n",
       "\n",
       " \n",
       ">        RowBox[{\"4\", \" \", SuperscriptBox[\"x\", \"3\"]}], \"+\", \n",
       "\n",
       " \n",
       ">        RowBox[{\"7\", \" \", SuperscriptBox[\"x\", \"2\"]}], \"-\", RowBox[{\"5\", \" \", \"x\"}],\\\n",
       " \n",
       ">    \"+\", \n",
       "     \"1\"}], TraditionalForm]\n"
      ]
     },
     "execution_count": 6,
     "metadata": {
      "text/html": [],
      "text/plain": []
     },
     "output_type": "execute_result"
    }
   ],
   "source": [
    "f//TraditionalForm"
   ]
  },
  {
   "cell_type": "code",
   "execution_count": 7,
   "metadata": {},
   "outputs": [
    {
     "data": {
      "text/html": [
       "<div><img alt=\"Output\" src=\"data:image/png;base64,iVBORw0KGgoAAAANSUhEUgAAAIsAAAARCAIAAABihsiNAAAAznpUWHRSYXcgcHJvZmlsZSB0eXBlIGV4aWYAAHjabU/rjYMhDPvPFDcCeeDAOHwtlbpBxz9T0J2oaonYMUkgabyej/QzoZKTl6hoQCa8edNOUfPCYsntHZd17Ts5/SRbSKdV/i8wtn+dfmCx1o9BWZew+QK1+W7Yg0yXL33l167XXus5yPIBr39f/55bKAoknNE1R6BR10RJQtFcAg/cABYK7pr9Rh6IYBtiVlifjRM64qweCUbjPlewecQ62RnV+B51o3bD8vVitLee6/wCWU5avuhg+fwAAAAJcEhZcwAACxMAAAsTAQCanBgAAAA8dEVYdFNvZnR3YXJlAENyZWF0ZWQgd2l0aCB0aGUgV29sZnJhbSBMYW5ndWFnZSA6IHd3dy53b2xmcmFtLmNvbVyipoUAAAAhdEVYdENyZWF0aW9uIFRpbWUAMjAyMTowNDoyNCAwOTo0NjowNBhXsO8AAAHsSURBVFiF7ZgxloIwEIYn+/YoYMHzBHACnw2VRwglNHZ7A5pQWm5rRWM4gZ7AZ2Fyl9lC8bEaUDf/Wyn8y0C+yUxmMgHBzPTWiPXR+6TJhBBCZA3KlK0SCMxWiRBCiKSyAFrrJ4iGV+8ONZQyM/NqhjHUZGGxw6Dm38zMerre+AfVVsf0RCtKWC5ixW5pSUSxMj2Pn5WWUhsVSw3iMRulcDBm1hLnLVQ9NWTDJTN/HUJI8TdZnaJq8cQTIiyKGpr00WIeIHkwDW+gUdI7s4yKO/ZgZQQtSS3/xNIS7dUt9nNw++xmTZPcMweCfMs5EdkqKSdbWC0Fk0UUQkhNJuqUV0/Ps1UdGWZ05V1jnZvYpj30aAYlPTZvuwX+JPC8EHT7usbSZZWxMsxGydjT5ghoRivtfA1LuxBvMb5B6GCpMySVAuXDi2mD3RNLY2bW0ll+vkE4Y9s+FMwX8Zrmq0cOVWt/3e+C4GbSi2mGiIy1/0EjIpqlsnYM9xu673IH270p7NYbm+f3Vm6rsjx0B6LlyjXplbT9fj8tD/9Fs8c9TdwIl6FHXW6xbUUprSXFyhhjvM+mV9OGziUs7UR0dhnfILRYMlq2PUlLiqXfl/o4aO6YYmkDd0qvINxgBb//bY9b/f+23xqH3js0dv0AZeH2Mkf9n9QAAAAASUVORK5CYII=\"></div>"
      ],
      "text/plain": [
       "FormBox[RowBox[{SuperscriptBox[\"x\", \"5\"], \"-\", SuperscriptBox[\"x\", \"4\"], \"-\", \n",
       "\n",
       " \n",
       ">        SuperscriptBox[\"x\", \"3\"], \"+\", SuperscriptBox[\"x\", \"2\"], \"+\", \n",
       "\n",
       " \n",
       ">        RowBox[{\"5\", \" \", \"x\"}], \"-\", \"5\"}], TraditionalForm]\n"
      ]
     },
     "execution_count": 7,
     "metadata": {
      "text/html": [],
      "text/plain": []
     },
     "output_type": "execute_result"
    }
   ],
   "source": [
    "g//TraditionalForm"
   ]
  },
  {
   "cell_type": "markdown",
   "metadata": {},
   "source": [
    "Для начала рассчитаем НОД при помощи встроенной функции GCD."
   ]
  },
  {
   "cell_type": "code",
   "execution_count": 8,
   "metadata": {},
   "outputs": [
    {
     "data": {
      "text/html": [
       "<div><img alt=\"Output\" src=\"data:image/png;base64,iVBORw0KGgoAAAANSUhEUgAAACUAAAAPCAIAAADsy5EEAAAAz3pUWHRSYXcgcHJvZmlsZSB0eXBlIGV4aWYAAHjabU/RbQUhDPtnio4QkuDAONx7nNQNOn7NgVpR1RKJY5xA0vj6vNPHhGZJXqKiAUJ486adpMrCylnaEx9o2Xf51JPcW++Uyu8FxtavUw/sgfXvIF3E5gvk5rthDzJdeu6rvrZfe63nIJMDXn++/n9toSjI4YyuEoFGXhMpE4pKCdx4ATRmvFX8xTwQwTbEdFifjRM64nSPBKPwnivYPNk6szOq8T3yRu4GxmyiFxV7PHOdb1V+Wrwx5I1XAAAACXBIWXMAAAsTAAALEwEAmpwYAAAAPHRFWHRTb2Z0d2FyZQBDcmVhdGVkIHdpdGggdGhlIFdvbGZyYW0gTGFuZ3VhZ2UgOiB3d3cud29sZnJhbS5jb21coqaFAAAAIXRFWHRDcmVhdGlvbiBUaW1lADIwMjE6MDQ6MjQgMDk6NDY6MTAGIUW3AAAA0UlEQVQ4je2UvRHCMAyFnzhGMQyhTBCWoLPLrCLK0LGEPQFMwFFE2kUU/Fy4SwhFLhWvs+Tn78m+M7k7FtRqSdifB9ihIiJKZQleSbTHSYXngU3y6tbPTZg6w0qxoXpJvYspiag62Bzvp103WK9bz/G4SwUoaXcVPTdh/Uho/YAhTI700suoZoPGulWpNkSI2ZsAYA3ATFX7u34FPo3d7YbtdtzIzJf3wqelwoh5vJ9FdKwVwaKuwmBRd//Oy/Ez6TB1jJcjnpRHZrAo+f//nFN3nnX4B8OVGxMAAAAASUVORK5CYII=\"></div>"
      ],
      "text/plain": [
       "-1 + x"
      ]
     },
     "execution_count": 8,
     "metadata": {
      "text/html": [],
      "text/plain": []
     },
     "output_type": "execute_result"
    }
   ],
   "source": [
    "gcdAuto = PolynomialGCD[f,g]"
   ]
  },
  {
   "cell_type": "markdown",
   "metadata": {},
   "source": [
    "### Расширенный алгоритм Евклида. Тождество Безу."
   ]
  },
  {
   "cell_type": "code",
   "execution_count": 9,
   "metadata": {},
   "outputs": [],
   "source": [
    "(*Функция принимает два полинома. Возвращает тройку полиномов (НОД, u, v), где u, v - коэффициенты разложения Безу*)\n",
    "extEuclid[aa_, bb_] := Module[\n",
    "    {a = aa, b = bb,\n",
    "    u = 1, u1 = 0,\n",
    "    v = 0, v1 = 1,\n",
    "    quot, rem\n",
    "    },\n",
    "    \n",
    "    While[Not[SameQ[b, 0]],\n",
    "        quot = PolynomialQuotient[a, b, x];\n",
    "        rem = PolynomialRemainder[a, b, x];\n",
    "        {a, b} = {b, rem};\n",
    "        {u, u1} = {u1, (u - u1*quot)//ExpandAll};\n",
    "        {v, v1} = {v1, (v - v1*quot)//ExpandAll};\n",
    "\n",
    "    ];\n",
    "    {a, u, v} (*a - НОД *)\n",
    "];"
   ]
  },
  {
   "cell_type": "code",
   "execution_count": 11,
   "metadata": {},
   "outputs": [
    {
     "data": {
      "text/html": [
       "<style>\n",
       "\t\t\t\t\t\t\t\t\t\t\t\t\t.grid-container {\n",
       "\t\t\t\t\t\t\t\t\t\t\t\t\t\tdisplay: inline-grid;\n",
       "\t\t\t\t\t\t\t\t\t\t\t\t\t\tgrid-template-columns: auto;\n",
       "\t\t\t\t\t\t\t\t\t\t\t\t\t}\n",
       "\t\t\t\t\t\t\t\t\t\t\t\t</style>\n",
       "\n",
       "\t\t\t\t\t\t\t\t\t\t\t\t<div><div class=\"grid-container\"><div class=\"grid-item\"><img alt=\"Output\" src=\"data:image/png;base64,iVBORw0KGgoAAAANSUhEUgAAAJkAAAAgCAIAAACO+01QAAAA0XpUWHRSYXcgcHJvZmlsZSB0eXBlIGV4aWYAAHjabU9BbgQhDLvzij4hJMGB5zC7rNQf9Pk1A21FtZYmNsYJkzS+Pl/pY0KzJC9R0QAhvHnTTlFlYXGWdtcbre27fPpJf/xOq/xdYGz/Ov3AYq3/BsmeZPMFavPdsAeZLj/3db52Xnut5yCTA15/f/392UJRkMNZXSUCjbpytUkoKiXwwgNgMOOp4g/yQATbEDNhfTZO6IgzPRKMxnOuYPPL1snOqsb3qBu1G1izmV507M7Mdb4BHmpalrIWa2kAAAAJcEhZcwAACxMAAAsTAQCanBgAAAA8dEVYdFNvZnR3YXJlAENyZWF0ZWQgd2l0aCB0aGUgV29sZnJhbSBMYW5ndWFnZSA6IHd3dy53b2xmcmFtLmNvbVyipoUAAAAhdEVYdENyZWF0aW9uIFRpbWUAMjAyMTowNDoyNCAwOTo0NjoxM58oFA0AAAQGSURBVGiB7Vo/mqowEJ/s5wH2EEDh5wnYE4RtrLbdLpTSbPeKLbbbBkvtbK1eIzmBnICPIsld8gpQAkRXJBJ866+SyR9/zCQzmSEg7w889gEASKLIEgIlKnElAz/mus518T0zkVJK6D3DwEgI+DHnsa+oSn0q2utjeOwfherv/4VJiScYAwSl4sKueCX3C6cu43lK5rhsn5N0u2vPNvMcAAD6HUG8aU5wFW7JhIYIoZBWDy9LZSJKqW7QKGxJd8ztqd313+L1xPJrrUwcIoQQcrdvfIUBAATL/Ddv94IQQg0FmYIRJnglE7IOQgpAwyCLeW3VYGA65mOwJWXw2suUeMXjLEAIIfQOb0RtKLzPn9w9rvI0+oJN4QRn0bthaxpkcpgqgKS1/bEHmg0/AlsKBl5fn+cs9oWu9q+QHbxYBTwnkLHi7f2jY8Nzkua85z/flonv+9p/cQE03c2F3ivB4zj5uVdrkF8/PSpyzXmiOoYoA82cPW7GpOx5Yh6d1uzbMok76VM53gNAefAvcwOopQcnEoGqr9YG42CSEKiddzWmbqvNui2v2pYP6PRmPV5yANc2h/tEzhrHH9u2FCy3zOBO4XjTpqiwpViWeQ5SUtRDTnTMf5RnpVdfTHsfYn8n2kfZJwCxfHGjWeV8VxgK6wZwFB4ynCoeZ4ERc/L8sS9N4Qnod5SSZIVrYrHbtoUKnMUm9tdfBjLt6XS04bJDZdEKmgFzIlgG5A8ut2cKACSRH2yb+m9nlex4s3PNQlCuugAXYxOu9PPz08AsCqIoen5+1rdxxlx8ajkbZ3IebZ7tgDmp2hZ7uRDLF9eI03Oc+kroYEgh1OXmOOrQoTR44MCFaHEYlkkHTBxvBlsmoLZtHG8Gac7PmUCwDGbzMybSKeACCMFrG/raefqg5MDyHDzPEocrMAE8J0HwvnytV+I/Yt8Nwrk8ETJp6EYpSU7GUxDL8FvZ4NP5x+IyJ+s42LriDhwYMxQaBoKUsl6OOlaLWkJtr57oWMEbFGPmJiWPSYOe7RpeQvoVRX8v2ra0Xfdxp63yxQMXolllsW1LTVmxG4qSVaNs0RKWhS1jxaoREGsXsm3bUlNW7AIautsZ8c8LaYjeYaN8YRoANojZtuWJL+SXgYZBFm8+pj8IdZesbosBiGluY1i3pePBlU620E1DF1rhwBiEmOZb4UTbcUgUG7PzO9IwgEQuHADxg3BgDENMMPBa2b2lE7UCfkUap4sxPmnGJ1Dz4FMXc8xiIGLa2xjWfSyAo70g+MOYw203RRf71UojHNjdDkRMextjBLYE7AG/pU8svqG7UQrrYOjM5CyuJnbiRnG3vX0jjLtaNjokidYlIyml0bX2gDWMwcc+YAb/ACg5n22h6HBfAAAAAElFTkSuQmCC\"></div><div class=\"grid-item\"><img alt=\"Output\" src=\"data:image/png;base64,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\"></div><div class=\"grid-item\"><img alt=\"Output\" src=\"data:image/png;base64,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\"></div></div></div>"
      ],
      "text/plain": [
       "         1936    1936 x\n",
       "GCD = (-(----) + ------)\n",
       "         441      441\n",
       "                         2       3\n",
       "     1264   656 x   128 x    16 x\n",
       "u = (---- + ----- - ------ - -----)\n",
       "     441     441     441      21\n",
       "                       2\n",
       "     640   880 x   16 x\n",
       "v = (--- - ----- + -----)\n",
       "     441    441     21"
      ]
     },
     "execution_count": 12,
     "metadata": {
      "text/html": [],
      "text/plain": []
     },
     "output_type": "execute_result"
    }
   ],
   "source": [
    "{gcdEuclid, u, v} = extEuclid[f, g];\n",
    "\"GCD =\" gcdEuclid\n",
    "\"u =\" u\n",
    "\"v =\" v"
   ]
  },
  {
   "cell_type": "markdown",
   "metadata": {},
   "source": [
    "Нормируем полученные многочлены для последующей работы с ними. Для этого найдем старший коэффициент многочлена GCDEuclid."
   ]
  },
  {
   "cell_type": "code",
   "execution_count": 15,
   "metadata": {},
   "outputs": [
    {
     "data": {
      "text/html": [
       "<div><img alt=\"Output\" src=\"data:image/png;base64,iVBORw0KGgoAAAANSUhEUgAAACEAAAAgCAIAAAAT2oadAAAA0HpUWHRSYXcgcHJvZmlsZSB0eXBlIGV4aWYAAHjabU/RjUMhDPtnihshJMGBcXgtlW6DG//Me7QVVS2ROCYxJI2/30f6mdAsyUtUNEAIb960k1S5cOUs7YwndGXWm570qXdK5X2BsfRj1wPLsH4YyXKy+QK5+RpYRqaXnvtVH6tfe627kckGr6+vf68tFAU5nNFVItDIK1ebCUWlBB64AWzMuKv4jXkggmOI2WF9Dk7oiL17JBiF+1zB5snWmZ1Rje+RN3I3MGarelCxs2eu8w8InFqMIPfCGwAAAAlwSFlzAAALEwAACxMBAJqcGAAAADx0RVh0U29mdHdhcmUAQ3JlYXRlZCB3aXRoIHRoZSBXb2xmcmFtIExhbmd1YWdlIDogd3d3LndvbGZyYW0uY29tXKKmhQAAACF0RVh0Q3JlYXRpb24gVGltZQAyMDIxOjA0OjI0IDA5OjQ2OjE4CPrNhQAAAYRJREFUSIntVjFywjAQ3MvwAB5hU2R4gXgBpElFSyeXdpMuBQUPECV0bqnSxH4BvMBDgfwXpVDAZ1nYzpBJkfE2tlan25PvrBNMBa0EAMiMcZnENyq64iCU9hnXabB5obRWgjnjIztvatBK3Ej+7gD1YV0jk/WB64NZ+0K44gnt2H/kAIByu9lXbB4REVF4WOrdHADKSyGWk88ZERHRbFtyH60a851WxYKIiFZYSj5hI3w/hxTZIHBKNkjtnqbJiqt07COIj9bb8QUFppPACeJVorhYd0KlcXBlT2fNzNry4c8uQ5UFtrBhy+uqBpmZWzWjVtB3SreydaMkY0z753ocXXU1aPw/jZF9rNfr3/WbJMl4PLbvQ+0OGn+qUW5nRLcGdI+0hGvWTyOPwsNUinYyj2iFlJ3pP9HIo0Wh0rfnDnK+M8fY6Yw9NawzZ7GX7ImRRwGZiQOg7CD7o9m3XQjpJga8y967Anj6uf+e0FjcJLs1Hvk/7E0uTE7YL9oqeDh3++MLTJ9u2YTr2aUAAAAASUVORK5CYII=\"></div>"
      ],
      "text/plain": [
       "1936\n",
       "----\n",
       "441"
      ]
     },
     "execution_count": 15,
     "metadata": {
      "text/html": [],
      "text/plain": []
     },
     "output_type": "execute_result"
    }
   ],
   "source": [
    "coef = CoefficientList[gcdEuclid, x]//Last"
   ]
  },
  {
   "cell_type": "markdown",
   "metadata": {},
   "source": [
    "Поделим все многочлены на найденный коэффициент."
   ]
  },
  {
   "cell_type": "code",
   "execution_count": 16,
   "metadata": {},
   "outputs": [
    {
     "data": {
      "text/html": [
       "<style>\n",
       "\t\t\t\t\t\t\t\t\t\t\t\t\t.grid-container {\n",
       "\t\t\t\t\t\t\t\t\t\t\t\t\t\tdisplay: inline-grid;\n",
       "\t\t\t\t\t\t\t\t\t\t\t\t\t\tgrid-template-columns: auto;\n",
       "\t\t\t\t\t\t\t\t\t\t\t\t\t}\n",
       "\t\t\t\t\t\t\t\t\t\t\t\t</style>\n",
       "\n",
       "\t\t\t\t\t\t\t\t\t\t\t\t<div><div class=\"grid-container\"><div class=\"grid-item\"><img alt=\"Output\" src=\"data:image/png;base64,iVBORw0KGgoAAAANSUhEUgAAACUAAAAPCAIAAADsy5EEAAAAz3pUWHRSYXcgcHJvZmlsZSB0eXBlIGV4aWYAAHjabU/RbQUhDPtnio4QkuDAONx7nNQNOn7NgVpR1RKJY5xA0vj6vNPHhGZJXqKiAUJ486adpMrCylnaEx9o2Xf51JPcW++Uyu8FxtavUw/sgfXvIF3E5gvk5rthDzJdeu6rvrZfe63nIJMDXn++/n9toSjI4YyuEoFGXhMpE4pKCdx4ATRmvFX8xTwQwTbEdFifjRM64nSPBKPwnivYPNk6szOq8T3yRu4GxmxNLyr2eOY631YOWsX8yjfSAAAACXBIWXMAAAsTAAALEwEAmpwYAAAAPHRFWHRTb2Z0d2FyZQBDcmVhdGVkIHdpdGggdGhlIFdvbGZyYW0gTGFuZ3VhZ2UgOiB3d3cud29sZnJhbS5jb21coqaFAAAAIXRFWHRDcmVhdGlvbiBUaW1lADIwMjE6MDQ6MjQgMDk6NDY6MTl//f0TAAAA0UlEQVQ4je2UvRHCMAyFnzhGMQyhTBCWoLPLrCLK0LGEPQFMwFFE2kUU/Fy4SwhFLhWvs+Tn78m+M7k7FtRqSdifB9ihIiJKZQleSbTHSYXngU3y6tbPTZg6w0qxoXpJvYspiag62Bzvp103WK9bz/G4SwUoaXcVPTdh/Uho/YAhTI700suoZoPGulWpNkSI2ZsAYA3ATFX7u34FPo3d7YbtdtzIzJf3wqelwoh5vJ9FdKwVwaKuwmBRd//Oy/Ez6TB1jJcjnpRHZrAo+f//nFN3nnX4B8OVGxMAAAAASUVORK5CYII=\"></div><div class=\"grid-item\"><img alt=\"Output\" src=\"data:image/png;base64,iVBORw0KGgoAAAANSUhEUgAAAJ0AAAAjCAIAAAABhJ+EAAAA0XpUWHRSYXcgcHJvZmlsZSB0eXBlIGV4aWYAAHjabU/BDQMhDPszRUeAJDgwDtfjpG7Q8WsO2uqqWiI2xgkQ+vNxhNuApBgse0EFImHVqjSKEicmp1jPeqLu6yxd/SC6/EYrfw/Ql79dfcdkKT+Dokyh4wZqtdWwBqlMP7W531ZeWinXQetFb1j5PP3/Xl2QkdxYTaI7KnUJlCRkidlx4A4wmLBLtDu5w51t8JHQNhoHpPs13QOUxj6+oGMlbWRjFeV91JXaFKxJq2x09MyM77wAYj1ayqzKELEAAAAJcEhZcwAACxMAAAsTAQCanBgAAAA8dEVYdFNvZnR3YXJlAENyZWF0ZWQgd2l0aCB0aGUgV29sZnJhbSBMYW5ndWFnZSA6IHd3dy53b2xmcmFtLmNvbVyipoUAAAAhdEVYdENyZWF0aW9uIFRpbWUAMjAyMTowNDoyNCAwOTo0NjoxOX/9/RMAAAMySURBVHic7Zo9duIwEMdH+3IADoEp8jiBdAJIszegk0vcbJeCIh2NXEK3bao0yCcIJ+BRIN3FW5i15U+MJVter/5NgrD1m2E0I1kWiuMYnCanH7YN+LckQ58QQvxQ2rYEAABk5BNCCPGjkj2x0xMSQsRxLBjGTNi2JZNgmPJ8UylfIx/l5UeF9nuDyWEXkny/SUMPpIJUZ1vB5vN58s9yMddD311ECBEl+Ts4LmW0vy5/rvKtpbiuDkrUOQX86gHIkKzhPiI4rInRMhT53ueSYuUz2sBvwXDDPYbAqVMxp8ePll7JcH99P6weX9jYx+b6fs81CDYJuZPjUgh4hctXcSQ0pzck+c0pZInOKRisQklvGaoML14OaTunoGOKYPjv7WWfakCCUWq2BHMKOUe7OF4uxA1xVXxV2IJhrR+zmtE6rooxRsYXpwAA1aQyiFMAwBhjjE1Ft+TnM44LRimllJatqY1rofu0OmDGjOVrVgaeiWtqTN3XbSUYvndSl/iGQPUqJmtsyvGa5xwZbgJgv7JJZL79Tm74foOL/qohYXwc4bhGCCHkBWc4rvNriEZhrD39ytPnmfLDCgBWB07Pwb5qtWIAVMcPCVoDj5+bqtva03YYKSOmhzX+k3UYM6FvidpBZWemQHXwav/MOF4V14obs0VaPzVJdeY+5aXKEdWKqT3Vq0vPol9GQU3gjG7ScRS7fcQpyu0jTlMurtOUi+s05eI6TfUcVxmV3yA5DaCX5M9ut+vcRRAEs9ms+jtxu3mruuduHWgr+iPpG9CZbsT3slJ7+nvOkVICiNMJ3t485QXXQJJSrROD0i2iM7301K+UQgiA2/UKiwXA4D+tEEJtGI5uEa2q532JKAy97dbKiP2/5dbD05TbR5ymXL5OU2pcqw5NGTte1SBb3DHQ+zIjjWvloSlzx6tqZYs7BnqfZpRfDDYfrnl8ZRfZ4o6B3osZbedXebsALR5SHUC2uGOg65jRbl8i8r1gyePBHbTFHQNdz4zH+drteJW+bHHHQNc340FcZUi8YGklqFa4Y6CbMUOdmlVR3ul41dOyxR0DvUcz3H7TNOX2m6YpF9dp6g8+neitDUREOwAAAABJRU5ErkJggg==\"></div><div class=\"grid-item\"><img alt=\"Output\" src=\"data:image/png;base64,iVBORw0KGgoAAAANSUhEUgAAAG0AAAAjCAIAAAARyBMdAAAA0HpUWHRSYXcgcHJvZmlsZSB0eXBlIGV4aWYAAHjabU/BDQMhDPszRUeAJDgwDtfjpG7Q8WsOWvWqWiI2xgkQ+vNxhNuApBgse0EFImHVqjSKEicmp1jPegL7OktXP4guv9HKXw19+dvVd0yW8jMoyhQ6bqBWWw1rkMr0U5v7beWllXIdtF70hpXP0//v1QUZyY3VJLqjUpdASUKWmB0H7gCDCbtEu5M73NkGHwlto3FAul/TPUBp7OMLOlbSRjZWUd5HXalNwZq0ykZHz8z4zgtdz1rHZF/EagAAAAlwSFlzAAALEwAACxMBAJqcGAAAADx0RVh0U29mdHdhcmUAQ3JlYXRlZCB3aXRoIHRoZSBXb2xmcmFtIExhbmd1YWdlIDogd3d3LndvbGZyYW0uY29tXKKmhQAAACF0RVh0Q3JlYXRpb24gVGltZQAyMDIxOjA0OjI0IDA5OjQ2OjE5f/39EwAAAqlJREFUaIHtWTF2ozAQHe3LAXwIcLHPJxAnsN1sldadXJoDpHCRbhtUxl3a9IET7J7AzwXSXbQFGAsQIMTwvHH0G8cQz5//NQyCIUop8JiMH/dO4GtB8n0URdGey8YJ4utxDKSUQRBIHu3g/c8huJ3orEfJI0LIPqt/J4SQqLUY7mlVQUmNbAaY8y+PWjMHQendahnUTnT4mO3DjxWj+vd4lSqllBLPHyGmYlaEVUq9rfGiNiD57vJSpJ9AvCuczPZkB+8ioUO/bsb6fXlp5aoMSBnQRIiEXkUWB8o8KOjiJ0GjMGZxI0oZVClMQ8rq6Xfk0MEuEsZMaRh8vJp2I6j+KuIlDEmS0mvBFPKqOUVjbNvWvZZt9pQBAKWUUtpws+Vjyq5Rmz5WC4moqqbGJKd0Gqn+W8Wo+q8Je/ZGf5T89QSnDSGEkDD+C6cNIRGH5QpOm9efQr2tAWR+brXZyQi2zxTOuekORunIBtYBySOygXRkG7Zl77ZYXyitBA1LigBz/ytpRUKnXgFd9T5wXVuzW/qotzLEa1rrj0YT63c3d+LWPbnq9q2Djux+H44D/1yIA+8jDryPOPA+4uBRfJRZhvb2xAVPxcfxeHQOEcfxYrFw+OFY0j4ikefhumeDPUWgTUrz7Xuk1AukeuE0E5H4/ITtNpyVqA9PM8WVUgihH5hLX0mUXy6wXM5J1I9H2YdnnIeHw11KEQAe5z5zbzxKPd4bvh5xoPtoGvrgjIf6YYyGS2FHOkFs5aNx6IM5HuqAMRouhSXpNLHtF3X9w4rh/3SBMRouhSWpUspFrG1/lPkZ2K/5BqP/FRzE2u3Dy/H197DRSexwPbqNh74onMUO+Ch5FMar72Oiu1i9tepgqdN4aDSM0XAp7EinifXPMzjwzzM48D7i4B8EeFR5hkBfRQAAAABJRU5ErkJggg==\"></div></div></div>"
      ],
      "text/plain": [
       "-1 + x\n",
       "                2       3\n",
       "79    41 x   8 x    21 x\n",
       "--- + ---- - ---- - -----\n",
       "121   121    121     121\n",
       "                2\n",
       "40    5 x   21 x\n",
       "--- - --- + -----\n",
       "121   11     121"
      ]
     },
     "execution_count": 16,
     "metadata": {
      "text/html": [],
      "text/plain": []
     },
     "output_type": "execute_result"
    }
   ],
   "source": [
    "gcdEuclidNorm = (gcdEuclid / coef)//ExpandAll\n",
    "uNorm = (u / coef)//ExpandAll\n",
    "vNorm = (v / coef)//ExpandAll"
   ]
  },
  {
   "cell_type": "markdown",
   "metadata": {},
   "source": [
    "Сравним результаты, полученный встроенной функцией и моей."
   ]
  },
  {
   "cell_type": "code",
   "execution_count": 19,
   "metadata": {},
   "outputs": [
    {
     "data": {
      "text/html": [
       "<div><img alt=\"Output\" src=\"data:image/png;base64,iVBORw0KGgoAAAANSUhEUgAAABwAAAAPCAIAAAB4LTj2AAAAznpUWHRSYXcgcHJvZmlsZSB0eXBlIGV4aWYAAHjabU/RbQUhDPtnio4QkuDAONw9TuoGHb/mgVpR1dLFjnHCkcbX55M+JjRL8hIVDRDCmzftFFUWFmdp77qae5/l00/ybL/TKr8HGNu/Tj+wWOvfRbqEzRuozffAXmS6/NxXf+289lrPRSYHvP78+v+9haIgh7O6SgQadU2UJBSVEnhwAwxmvFT8Jg9EcAwxE9bn4ISOONMjwWi85hNsftk62VnVeB91o3bDdi469s7M53wDmBRa7uONAQQAAAAJcEhZcwAACxMAAAsTAQCanBgAAAA8dEVYdFNvZnR3YXJlAENyZWF0ZWQgd2l0aCB0aGUgV29sZnJhbSBMYW5ndWFnZSA6IHd3dy53b2xmcmFtLmNvbVyipoUAAAAhdEVYdENyZWF0aW9uIFRpbWUAMjAyMTowNDoyNCAwOTo0NjoyNCph0m0AAADGSURBVDiN5ZMhEoMwEEX/dnqUconmBImqqq0LEkwdN6hJJHG1qCpygnICBgG5SyoInYmAKVNMp19lfnbe5u9syHuPrbXbnPhbUKcZxWLafUv1QbWErP02mo1vU0r1O0VqJ8+O106z6BzVLc3UVLiHFOZh57snXTHFhWDaLUJlkR0AALz0JZ8pcn0LI8JDhQEA7BegH2nomqManqH9qLUr1fYOgNOXvBkNfpJNfouHswrKrwp5QkRJdVZyMstBtSLaR/rvv/8CrnuckB3i8l4AAAAASUVORK5CYII=\"></div>"
      ],
      "text/plain": [
       "True"
      ]
     },
     "execution_count": 19,
     "metadata": {
      "text/html": [],
      "text/plain": []
     },
     "output_type": "execute_result"
    }
   ],
   "source": [
    "SameQ[gcdAuto, gcdEuclidNorm]"
   ]
  },
  {
   "cell_type": "markdown",
   "metadata": {},
   "source": [
    "В расширенном алгоритме Евклида были найдены коэффициенты разложения Безу. Запишем разложение Безу."
   ]
  },
  {
   "cell_type": "code",
   "execution_count": 20,
   "metadata": {},
   "outputs": [
    {
     "data": {
      "text/html": [
       "<div><img alt=\"Output\" src=\"data:image/png;base64,iVBORw0KGgoAAAANSUhEUgAAACUAAAAPCAIAAADsy5EEAAAAz3pUWHRSYXcgcHJvZmlsZSB0eXBlIGV4aWYAAHjabU/RbQUhDPtnio4QkuDAONx7nNQNOn7NgVpR1RKJcZwE0vj6vNPHhGZJXqKiAUJ486adpMrCylnaEx9o2bV86knurXdK5beAsfXr1AN7YP07SBexuYHcfDfsQaZLz33dr+3XXus5yOSA15+n/3+3UBTkcEZXiUAjr4mUCUWlBG68ABoz3ir+Yh6IYBtiOqzPxgkdcbpHglF4zy/YPNk6szOqcR95I3fDo4ReVOzxzO98A1YAWsRCdBraAAAACXBIWXMAAAsTAAALEwEAmpwYAAAAPHRFWHRTb2Z0d2FyZQBDcmVhdGVkIHdpdGggdGhlIFdvbGZyYW0gTGFuZ3VhZ2UgOiB3d3cud29sZnJhbS5jb21coqaFAAAAIXRFWHRDcmVhdGlvbiBUaW1lADIwMjE6MDQ6MjQgMDk6NDY6MjezaIPXAAAA0UlEQVQ4je2UvRHCMAyFnzhGMQyhTBCWoLPLrCLK0LGEPQFMwFFE2kUU/Fy4SwhFLhWvs+Tn78m+M7k7FtRqSdifB9ihIiJKZQleSbTHSYXngU3y6tbPTZg6w0qxoXpJvYspiag62Bzvp103WK9bz/G4SwUoaXcVPTdh/Uho/YAhTI700suoZoPGulWpNkSI2ZsAYA3ATFX7u34FPo3d7YbtdtzIzJf3wqelwoh5vJ9FdKwVwaKuwmBRd//Oy/Ez6TB1jJcjnpRHZrAo+f//nFN3nnX4B8OVGxMAAAAASUVORK5CYII=\"></div>"
      ],
      "text/plain": [
       "-1 + x"
      ]
     },
     "execution_count": 20,
     "metadata": {
      "text/html": [],
      "text/plain": []
     },
     "output_type": "execute_result"
    }
   ],
   "source": [
    "bezout = (uNorm * f + vNorm * g)//ExpandAll"
   ]
  },
  {
   "cell_type": "markdown",
   "metadata": {},
   "source": [
    "Сравним полученный результат с НОД."
   ]
  },
  {
   "cell_type": "code",
   "execution_count": 21,
   "metadata": {},
   "outputs": [
    {
     "data": {
      "text/html": [
       "<div><img alt=\"Output\" src=\"data:image/png;base64,iVBORw0KGgoAAAANSUhEUgAAABwAAAAPCAIAAAB4LTj2AAAAz3pUWHRSYXcgcHJvZmlsZSB0eXBlIGV4aWYAAHjabU9RrsMgDPvnFDsCJMGB49COSrvBjj9T0CaenqXGjnFCCf39usJjQFIMlr2gApGwalUaRYkTk1Osd53Nuc7S7od4Lb/Ryr8D9OUfu++YLOXvIplCxw3UamtgLVKZfmqzP1ZeWin7Io0brHx//f9eXZCR3FhNojsqdQmUJGSJ2XHhBBhMeEq0k9zhzjH4SGgbgwPSfU/3AKXxHE/Q8SVtZGMV5X3UldoUt1PkoKN3ZjznA5hUWvKuK4ORAAAACXBIWXMAAAsTAAALEwEAmpwYAAAAPHRFWHRTb2Z0d2FyZQBDcmVhdGVkIHdpdGggdGhlIFdvbGZyYW0gTGFuZ3VhZ2UgOiB3d3cud29sZnJhbS5jb21coqaFAAAAIXRFWHRDcmVhdGlvbiBUaW1lADIwMjE6MDQ6MjQgMDk6NDY6Mjgj155GAAAAxklEQVQ4jeWTIRKDMBBF/3Z6lHKJ5gSJqqqtCxJMHTeoSSRxtagqcoJyAgYBuUsqCJ2JgClTTKdfZX523ubvbMh7j62125z4W1CnGcVi2n1L9UG1hKz9NpqNb1NK9TtFaifPjtdOs+gc1S3N1FS4hxTmYee7J10xxYVg2i1CZZEdAAC89CWfKXJ9CyPCQ4UBAOwXoB9p6JqjGp6h/ai1K9X2DoDTl7wZDX6STX6Lh7MKyq8KeUJESXVWcjLLQbUi2kf677//Aq57nJAd4vJeAAAAAElFTkSuQmCC\"></div>"
      ],
      "text/plain": [
       "True"
      ]
     },
     "execution_count": 21,
     "metadata": {
      "text/html": [],
      "text/plain": []
     },
     "output_type": "execute_result"
    }
   ],
   "source": [
    "SameQ[bezout, gcdEuclidNorm]"
   ]
  },
  {
   "cell_type": "markdown",
   "metadata": {},
   "source": [
    "Результаты совпали. Коэффициенты найдены верно."
   ]
  }
 ],
 "metadata": {
  "kernelspec": {
   "display_name": "Wolfram Language 12.2",
   "language": "Wolfram Language",
   "name": "wolframlanguage12.2"
  },
  "language_info": {
   "codemirror_mode": "mathematica",
   "file_extension": ".m",
   "mimetype": "application/vnd.wolfram.m",
   "name": "Wolfram Language",
   "pygments_lexer": "mathematica",
   "version": "12.0"
  }
 },
 "nbformat": 4,
 "nbformat_minor": 4
}
