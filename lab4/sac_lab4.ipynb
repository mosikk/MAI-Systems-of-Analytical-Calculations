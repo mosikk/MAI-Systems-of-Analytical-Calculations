{
 "cells": [
  {
   "cell_type": "markdown",
   "metadata": {},
   "source": [
    "# Лабораторная работа 4\n",
    "## Исследование функции (Wolfram)\n",
    "\n",
    "Для заданной формулой функции найти:\n",
    "1. Область определения функции.\n",
    "2. Является ли функция четной или нечетной, является ли периодической.\n",
    "3. Точки пересечения графика с осями координат.\n",
    "4. Промежутки знакопостоянства.\n",
    "5. Промежутки возрастания и убывания.\n",
    "6. Точки экстремума и значения в этих точках.\n",
    "7. Непрерывность. Наличие точек разрыва и их классификация.\n",
    "8. Асимптоты.\n",
    "\n",
    "Построить график функции, асимптоты, промежутки знакопостоянства.\n",
    "\n",
    "Вариант 7.\n",
    "Функция: $\\Large{\\frac{ln(x - 1)}{(x - 1)^2}}$"
   ]
  },
  {
   "cell_type": "code",
   "execution_count": 1,
   "metadata": {},
   "outputs": [
    {
     "data": {
      "text/html": [
       "<div><img alt=\"Output\" src=\"data:image/png;base64,iVBORw0KGgoAAAANSUhEUgAAADcAAAAlCAIAAABpp+aBAAAAz3pUWHRSYXcgcHJvZmlsZSB0eXBlIGV4aWYAAHjabU/RbUQhDPtnio4QnODAOLw7TuoGHb/hQVtRnSXi4DgJpPH1+UofE8iSrHhlIyVgzRp6JFUWFmdpd7yhvmv51BPK1ntI5a/AsfXr1J2LUf8NEuxNc0PkarthD1IsPfd1v7YfvdZzkMoBq79Pf39XBwuzW0SDuLNFXlOkQSyQ4nzxQYYx8wmxR/Cge7TRp0P7bJzA8NM9EjWE5/yCzpO1B1tEKPCjQD1i1oYrqnp75ne+ARjaWpDO/oHKAAAACXBIWXMAAAsTAAALEwEAmpwYAAAAPHRFWHRTb2Z0d2FyZQBDcmVhdGVkIHdpdGggdGhlIFdvbGZyYW0gTGFuZ3VhZ2UgOiB3d3cud29sZnJhbS5jb21coqaFAAAAIXRFWHRDcmVhdGlvbiBUaW1lADIwMjE6MDQ6MjIgMjE6Mjc6MTk01VaLAAACbUlEQVRYhe2YsZKqMBSGf3f2IXyAaOHsE4TKkqHZivZ2ocRmu1veziaU3M7KGarbEJ5geYIdC5N3yS1ATSAgOoq7M34VJuHkJ/4k5wBdITkF5VI/CskpmOjqfQEAFNFsVeJhqMSz5leqMaBS6aeS02viF0nRjHgFJP605ieyEfbFOXc0qfAS1Wo7dagk2gc+qfpV4hntnnnr5fgx1lFhNBi+qHx5cohgwOmydu2pW/KmkSWnYJxfY++WLwUzorfWUuVZSRczAPA/OMXXXgGYLVqGUHnWbCJBSL8QxKS1OMpm0IKWO3m4fG32yV0JhK35403ozSYrAGBC+z2xs1zFDZ0qWa93ZsPiI3U8ioW1Li2V/jvD39W6iFMfclfScEMAFNEvbLQ2I5P5G/bWrUWUz3+z8k+uggAg5DiaxGnar6mN3GERHH8dXQGgduHpfTs6pbkFMKG1FuzQLwVDbVzBQBnv3PncCOaY0LAp3Le1zC2E8UocQkjO7nQQSG496CCVklPzdTaf05Z/G6QQ0g46dC3Nf3z8k3Sitb7U2OPjPHu+HT9DZb1fLpfLx+pwMp1Ot9stgKcvb8dT5e14rMo6tT6bMT9SpUr271prLd5W66J/6MhnnRMrL3cxxlqqxJtEvYu1CIPepPjuKs9WsSiif/NzmXvP/8BvlJTZlZcdVrCejwVHulRaCW6Vt1EutZacXfwRpFkfHnJ8Mx3sl9qhcsQqdgit6qwyT54BgdVEgpBmCFJnFWsNJGc8BtRV7IBxNW6VXbHvUcUOwa1y1Cp2CB1OGK+KHULnTjRaFTuEvhNynCp2CM9c/Xb8DJX/AfOfSBZGqs5hAAAAAElFTkSuQmCC\"></div>"
      ],
      "text/plain": [
       "FormBox[FractionBox[RowBox[{\"log\", \"(\", RowBox[{\"x\", \"-\", \"1\"}], \")\"}], \n",
       "\n",
       " \n",
       ">       SuperscriptBox[RowBox[{\"(\", RowBox[{\"x\", \"-\", \"1\"}], \")\"}], \"2\"]],\\\n",
       " \n",
       ">    TraditionalForm]\n"
      ]
     },
     "execution_count": 2,
     "metadata": {
      "text/html": [],
      "text/plain": []
     },
     "output_type": "execute_result"
    }
   ],
   "source": [
    "f[x_] :=  Log[x - 1] / (x - 1)^2;\n",
    "f[x] //TraditionalForm"
   ]
  },
  {
   "cell_type": "markdown",
   "metadata": {},
   "source": [
    "### График функции"
   ]
  },
  {
   "cell_type": "code",
   "execution_count": 3,
   "metadata": {},
   "outputs": [
    {
     "data": {
      "text/html": [
       "<div><img alt=\"Output\" src=\"data:image/png;base64,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\"></div>"
      ],
      "text/plain": [
       "-Graphics-"
      ]
     },
     "execution_count": 3,
     "metadata": {
      "text/html": [],
      "text/plain": []
     },
     "output_type": "execute_result"
    }
   ],
   "source": [
    "plotFunc = Plot[\n",
    "            f[x], \n",
    "            {x, 1, 10}, \n",
    "            PlotRange->{{0, 10}, {-3, 1}}, \n",
    "            PlotStyle->{Thickness[.005]}, \n",
    "            ImageSize->Large\n",
    "        ]"
   ]
  },
  {
   "cell_type": "markdown",
   "metadata": {},
   "source": [
    "### Область определения\n",
    "\n",
    "$\\begin{aligned}\n",
    "\\begin{cases}\n",
    "   (x - 1)^2 \\neq 0, \n",
    "   \\\\\n",
    "   x - 1 > 0.\n",
    "\\end{cases}\n",
    "\\end{aligned} \\Rightarrow x > 1$"
   ]
  },
  {
   "cell_type": "markdown",
   "metadata": {},
   "source": [
    "### Чётность, периодичность\n",
    "\n",
    "Функция не является ни чётной, ни нечётной из-за несимметричной области определения. На всякий случай проверим это при помощи Wolfram."
   ]
  },
  {
   "cell_type": "code",
   "execution_count": 4,
   "metadata": {},
   "outputs": [
    {
     "data": {
      "text/html": [
       "<style>\n",
       "\t\t\t\t\t\t\t\t\t\t\t\t\t.grid-container {\n",
       "\t\t\t\t\t\t\t\t\t\t\t\t\t\tdisplay: inline-grid;\n",
       "\t\t\t\t\t\t\t\t\t\t\t\t\t\tgrid-template-columns: auto;\n",
       "\t\t\t\t\t\t\t\t\t\t\t\t\t}\n",
       "\t\t\t\t\t\t\t\t\t\t\t\t</style>\n",
       "\n",
       "\t\t\t\t\t\t\t\t\t\t\t\t<div><div class=\"grid-container\"><div class=\"grid-item\"><img alt=\"Output\" src=\"data:image/png;base64,iVBORw0KGgoAAAANSUhEUgAAACMAAAAPCAIAAADh1eFDAAAAznpUWHRSYXcgcHJvZmlsZSB0eXBlIGV4aWYAAHjabU9BEsMgCLz7ij5BARd9jknMTH/Q5xfUtJNOd0ZYlgU19NfzDA8HpRgka0EFokGqVGpGSpyYOcU64gDx6qW7HuK59GZS/jbQl77ddcVaWH4X0STsNxhnWQNrEdPUU5v1tvzUSrkvup66IOXz9P81KyEjqVgUiqqoxkswagmZYlac2AEzJhwUZbfcoWpjUHdw80EHdb27ewCbcPgX2E/iZlksEhNdCrGOmGmzLg+Pf+cNUexat5ZMDtgAAAAJcEhZcwAACxMAAAsTAQCanBgAAAA8dEVYdFNvZnR3YXJlAENyZWF0ZWQgd2l0aCB0aGUgV29sZnJhbSBMYW5ndWFnZSA6IHd3dy53b2xmcmFtLmNvbVyipoUAAAAhdEVYdENyZWF0aW9uIFRpbWUAMjAyMTowNDoyMiAyMToyNzoyNRZOSWMAAADnSURBVDiN7VS7DYMwFHxEGQWajGAmgIopTAl70JgST0FlJoAJUArMLpcC8xeQEAmlyDXWe37n050tWwDoEtyukflhpSK0OoTFKaWBf3iIlwHQgn0sQ0T3buEKmXeG/z4205saPciqTd1+0k3bddPQASg+oTGhMYcWjLjarhWflaue4sSEhvE0jpaRvTDlxNWuJefBpD833jY1Sd/wfbmbXhH6tXF39ALsqASAIB+T0s9qlk0Z2VtKbVMPmsmBJwMvgxZM5gUReQGv4mRxuxtBj5fHhOj3l+64WjbHc6ZtJjRg/f+9L/ACGIndlXf9BmMAAAAASUVORK5CYII=\"></div><div class=\"grid-item\"><img alt=\"Output\" src=\"data:image/png;base64,iVBORw0KGgoAAAANSUhEUgAAACMAAAAPCAIAAADh1eFDAAAAznpUWHRSYXcgcHJvZmlsZSB0eXBlIGV4aWYAAHjabU9BEsMgCLz7ij5BARd9jknMTH/Q5xfUtJNOd0ZYlgU19NfzDA8HpRgka0EFokGqVGpGSpyYOcU64gDx6qW7HuK59GZS/jbQl77ddcVaWH4X0STsNxhnWQNrEdPUU5v1tvzUSrkvup66IOXz9P81KyEjqVgUiqqoxkswagmZYlac2AEzJhwUZbfcoWpjUHdw80EHdb27ewCbcPgX2E/iZlksEhNdCrGOmGmzLg+Pf+cNUexat5ZMDtgAAAAJcEhZcwAACxMAAAsTAQCanBgAAAA8dEVYdFNvZnR3YXJlAENyZWF0ZWQgd2l0aCB0aGUgV29sZnJhbSBMYW5ndWFnZSA6IHd3dy53b2xmcmFtLmNvbVyipoUAAAAhdEVYdENyZWF0aW9uIFRpbWUAMjAyMTowNDoyMiAyMToyNzoyNRZOSWMAAADnSURBVDiN7VS7DYMwFHxEGQWajGAmgIopTAl70JgST0FlJoAJUArMLpcC8xeQEAmlyDXWe37n050tWwDoEtyukflhpSK0OoTFKaWBf3iIlwHQgn0sQ0T3buEKmXeG/z4205saPciqTd1+0k3bddPQASg+oTGhMYcWjLjarhWflaue4sSEhvE0jpaRvTDlxNWuJefBpD833jY1Sd/wfbmbXhH6tXF39ALsqASAIB+T0s9qlk0Z2VtKbVMPmsmBJwMvgxZM5gUReQGv4mRxuxtBj5fHhOj3l+64WjbHc6ZtJjRg/f+9L/ACGIndlXf9BmMAAAAASUVORK5CYII=\"></div></div></div>"
      ],
      "text/plain": [
       "False\n",
       "False"
      ]
     },
     "execution_count": 4,
     "metadata": {
      "text/html": [],
      "text/plain": []
     },
     "output_type": "execute_result"
    }
   ],
   "source": [
    "isEven = f[x] == f[-x] //TautologyQ\n",
    "isOdd = f[x] + f[-x] == 0 //TautologyQ"
   ]
  },
  {
   "cell_type": "markdown",
   "metadata": {},
   "source": [
    "Оба выражения ложны. Значит, функция действительно не является ни чётной, ни нечётной.\n",
    "\n",
    "Докажем отсутствие периодичности."
   ]
  },
  {
   "cell_type": "code",
   "execution_count": 6,
   "metadata": {},
   "outputs": [
    {
     "data": {
      "text/html": [
       "<div><pre style=\"&#102;&#111;&#110;&#116;&#45;&#102;&#97;&#109;&#105;&#108;&#121;&#58;&#32;&#34;&#67;&#111;&#117;&#114;&#105;&#101;&#114;&#32;&#78;&#101;&#119;&#34;&#44;&#67;&#111;&#117;&#114;&#105;&#101;&#114;&#44;&#109;&#111;&#110;&#111;&#115;&#112;&#97;&#99;&#101;&#59;\">&#48;</pre></div>"
      ],
      "text/plain": [
       "0"
      ]
     },
     "execution_count": 6,
     "metadata": {
      "text/html": [],
      "text/plain": []
     },
     "output_type": "execute_result"
    }
   ],
   "source": [
    "FunctionPeriod[f[x], x]"
   ]
  },
  {
   "cell_type": "markdown",
   "metadata": {},
   "source": [
    "Получили значение 0, значит периодичность отсутствует.\n",
    "\n",
    "### Точки пересечения графика с осями координат"
   ]
  },
  {
   "cell_type": "code",
   "execution_count": 7,
   "metadata": {},
   "outputs": [
    {
     "data": {
      "text/html": [
       "<div><pre style=\"&#102;&#111;&#110;&#116;&#45;&#102;&#97;&#109;&#105;&#108;&#121;&#58;&#32;&#34;&#67;&#111;&#117;&#114;&#105;&#101;&#114;&#32;&#78;&#101;&#119;&#34;&#44;&#67;&#111;&#117;&#114;&#105;&#101;&#114;&#44;&#109;&#111;&#110;&#111;&#115;&#112;&#97;&#99;&#101;&#59;\">&#123;&#123;&#50;&#44;&#32;&#48;&#125;&#125;</pre></div>"
      ],
      "text/plain": [
       "{{2, 0}}"
      ]
     },
     "execution_count": 8,
     "metadata": {
      "text/html": [],
      "text/plain": []
     },
     "output_type": "execute_result"
    }
   ],
   "source": [
    "sols = Solve[f[x]==0, x];\n",
    "points = {x, 0}/.sols"
   ]
  },
  {
   "cell_type": "code",
   "execution_count": 9,
   "metadata": {},
   "outputs": [
    {
     "data": {
      "text/html": [
       "<div><pre style=\"&#102;&#111;&#110;&#116;&#45;&#102;&#97;&#109;&#105;&#108;&#121;&#58;&#32;&#34;&#67;&#111;&#117;&#114;&#105;&#101;&#114;&#32;&#78;&#101;&#119;&#34;&#44;&#67;&#111;&#117;&#114;&#105;&#101;&#114;&#44;&#109;&#111;&#110;&#111;&#115;&#112;&#97;&#99;&#101;&#59;\">&#48;</pre></div>"
      ],
      "text/plain": [
       "0"
      ]
     },
     "execution_count": 9,
     "metadata": {
      "text/html": [],
      "text/plain": []
     },
     "output_type": "execute_result"
    }
   ],
   "source": [
    "f[2]"
   ]
  },
  {
   "cell_type": "markdown",
   "metadata": {},
   "source": [
    "Получили, что график пересекает ось абсцисс в точке $(2; 0)$. Пересечения с осью ординат отсутствуют из-за области определения функции.\n",
    "\n",
    "### Промежутки знакопостоянства\n",
    "\n",
    "Рассмотрим значения функции слева и справа от точки $(2; 0)$."
   ]
  },
  {
   "cell_type": "code",
   "execution_count": 10,
   "metadata": {},
   "outputs": [
    {
     "data": {
      "text/html": [
       "<div><pre style=\"&#102;&#111;&#110;&#116;&#45;&#102;&#97;&#109;&#105;&#108;&#121;&#58;&#32;&#34;&#67;&#111;&#117;&#114;&#105;&#101;&#114;&#32;&#78;&#101;&#119;&#34;&#44;&#67;&#111;&#117;&#114;&#105;&#101;&#114;&#44;&#109;&#111;&#110;&#111;&#115;&#112;&#97;&#99;&#101;&#59;\">&#45;&#48;&#46;&#49;&#51;&#48;&#48;&#55;&#53;</pre></div>"
      ],
      "text/plain": [
       "-0.130075"
      ]
     },
     "execution_count": 10,
     "metadata": {
      "text/html": [],
      "text/plain": []
     },
     "output_type": "execute_result"
    }
   ],
   "source": [
    "f[2-0.1]"
   ]
  },
  {
   "cell_type": "code",
   "execution_count": 11,
   "metadata": {},
   "outputs": [
    {
     "data": {
      "text/html": [
       "<div><pre style=\"&#102;&#111;&#110;&#116;&#45;&#102;&#97;&#109;&#105;&#108;&#121;&#58;&#32;&#34;&#67;&#111;&#117;&#114;&#105;&#101;&#114;&#32;&#78;&#101;&#119;&#34;&#44;&#67;&#111;&#117;&#114;&#105;&#101;&#114;&#44;&#109;&#111;&#110;&#111;&#115;&#112;&#97;&#99;&#101;&#59;\">&#48;&#46;&#48;&#55;&#56;&#55;&#54;&#56;&#55;</pre></div>"
      ],
      "text/plain": [
       "0.0787687"
      ]
     },
     "execution_count": 11,
     "metadata": {
      "text/html": [],
      "text/plain": []
     },
     "output_type": "execute_result"
    }
   ],
   "source": [
    "f[2+0.1]"
   ]
  },
  {
   "cell_type": "markdown",
   "metadata": {},
   "source": [
    "Слева от точки функция принимает отрицательные значения, справа - положительные.\n",
    "\n",
    "Следовательно, функция положительна при $x \\in (2; +\\infty)$, отрицательна при $x \\in (1; 2)$."
   ]
  },
  {
   "cell_type": "code",
   "execution_count": 12,
   "metadata": {},
   "outputs": [
    {
     "data": {
      "text/html": [
       "<div><img alt=\"Output\" src=\"data:image/png;base64,iVBORw0KGgoAAAANSUhEUgAAAWgAAABHCAIAAAClCkrVAAAAzXpUWHRSYXcgcHJvZmlsZSB0eXBlIGV4aWYAAHjadU/bDQMhDPtnio6QFw6Mw/Wo1A06fsNBpVKploiNcYKS+uv5SLcBYUqWvaACFLBqVVqIQhOTmepVL6AsxbufzKfgFlb+aujLP3bfMVnKzyCSKXT8EFptNaxBKtPnNu/HyksrZR+ktME+a/Gfu7ogg92impA7auiSQgYhC2XHA3cggoxTyO7BHe7RBh8JbaNxQLrv6Z6gYZxjBR2HtQVbVFGRjyPqUVVJjnjVKzPWeQMlTlqS6ADiyQAAAAlwSFlzAAALEwAACxMBAJqcGAAAADx0RVh0U29mdHdhcmUAQ3JlYXRlZCB3aXRoIHRoZSBXb2xmcmFtIExhbmd1YWdlIDogd3d3LndvbGZyYW0uY29tXKKmhQAAACF0RVh0Q3JlYXRpb24gVGltZQAyMDIxOjA0OjIyIDIxOjI3OjMwfz+MrQAAAs9JREFUeJzt3dFV2zAUBmCpp3sgb+JMAszAANC+M0PCJDGTxEyiPgQoBMfk9rSxi7/vyQedA9cy/mNJtpNrrQkg4tvUBQD/H8EBhAkOIExwAGGCAwgTHECY4ADCBAcQJjiAMMEBhAkOIExwAGGCAwj7PnUBzNH9/f1+4+bmZtpKmKfssXo+yjnvN/x7MMhQBQgTHECY4ADCBAcQJjiAsCmXY1/X/E5ndfCvGz8Kg62OAlMux76u+Z3O6uBf5yjwBwxVgLAphypPT08T/nX2Bo/CxcXFSCu4c5QB7hxlnKEKECY4gDDBAYQJDiBMcABhXuTDAKuwjLMcC4QZqgBhggMIExxAmOAAwgQHECY4gDDBAYQdCY6+P2sVM6QH4Lj3wbHZ1KZJOaemqU2TfvyYqKrpdF1drV57oF5fSxD46Pedo3W1yl130FxLydttKuXMZU1js0nX1wc/q6Xk9Tq17RQFwUy9BMfQObNXS8m73VmLmkTXpdVqsGUpPQAnex6q1OOjktz36cOVyNfzSQ9sNmesBebu+enYPDqS7x8expq/hHY0HOvDw+NCxmvwRntkkP49pfTpBcWu635+9TnCdrS16/ufC5wqZtlKKceCI9daU9+nphn7Bet1urr6B4XNSG2akcuuenWV1+szlgOz9i2llEqp46sGS1hTGN3HfHl5rjrgP/A8OTr2cXp3t4Tl2Hx7W4/sZm3bRUQnnOzlBrBS0m43cObc3aXb2/OWNJFS8nb7sQdq2+btdoqCYL7evzqw71PX1cfHlFIuJV1eLuFa4x09ACfwzlEgzNOxQJjgAMIEBxAmOIAwwQGECQ4gTHAAYcPBkXM+cx3zkV9MXQjM18C31S/5nMn59x1xb7eBtw6vOBZ+tix53+F0h8HhzNlbeIDCOJOjA6QGjBMch6QGfGpgcnTJ9hPDr9PDEgQG+XQFwgxVgDDBAYQJDiDsF5EN0V0Nf6MAAAAAAElFTkSuQmCC\"></div>"
      ],
      "text/plain": [
       "-Graphics-"
      ]
     },
     "execution_count": 12,
     "metadata": {
      "text/html": [],
      "text/plain": []
     },
     "output_type": "execute_result"
    }
   ],
   "source": [
    "Show[\n",
    "    Graphics[Line[{{1, 0}, {5, 0}}]],\n",
    "    Graphics[{PointSize[0.03], Point[{1, 0}, VertexColors->Red]}],\n",
    "    Graphics[Text[1, {1, -0.2}]],\n",
    "    Graphics[{PointSize[0.03], Point[{2, 0}, VertexColors->Red]}],\n",
    "    Graphics[Text[2, {2, -0.2}]],\n",
    "    Graphics[Text[Style[\"-\", FontSize -> Scaled[0.1]], {1.5, 0.3}]],\n",
    "    Graphics[Text[Style[\"+\", FontSize -> Scaled[0.1]], {3, 0.3}]]\n",
    "]"
   ]
  },
  {
   "cell_type": "markdown",
   "metadata": {},
   "source": [
    "### Промежутки возрастания и убывания. Точки экстремума\n",
    "\n",
    "Найдём точки, производная в которых равна нулю."
   ]
  },
  {
   "cell_type": "code",
   "execution_count": 13,
   "metadata": {},
   "outputs": [
    {
     "data": {
      "text/html": [
       "<div><img alt=\"Output\" src=\"data:image/png;base64,iVBORw0KGgoAAAANSUhEUgAAAKYAAAAlCAIAAABHzgVWAAAAznpUWHRSYXcgcHJvZmlsZSB0eXBlIGV4aWYAAHjabU/RbUQhDPtnio4QnODAOLw7TuoGHb/hQVtRnSUSx3ECpPH1+UofE8iSrHhlIyVgzRp6kCoLK2dpd7zRuXv51BPK1ntI5a/BsfXr1H0vQv23SLCIzhuCq+2BvUix9NxXfW0/eq3nIpUDVn+f/r5WBwuzW0SDuLMFryloJBZIcb74IMOY+YTYI/Kge4zRp0P7HJzA8NM9EjWE5/yCzpO1R7aIUOBHgXpEVcEVXb098zvfWuFatqSnklcAAAAJcEhZcwAACxMAAAsTAQCanBgAAAA8dEVYdFNvZnR3YXJlAENyZWF0ZWQgd2l0aCB0aGUgV29sZnJhbSBMYW5ndWFnZSA6IHd3dy53b2xmcmFtLmNvbVyipoUAAAAhdEVYdENyZWF0aW9uIFRpbWUAMjAyMTowNDoyMiAyMToyNzozMH8/jK0AAAOASURBVHic7Zs/lqowFMYv77wFzCICxRxXACuINlPZ2pFSGrsppphuGlJqZzvVNJIV6Ao8FuTuJa9Q3yCGmYBGNPCr5siE3HwfCflz8ZRS0HNtEBGAEHKPEfyxVyePPM/zmLBWQzMOcXmeF3HUXNT8WhchZP2Ari+UXGmbYslywbwJLGUa2rl9c5BPdq9KKaVkCsnkcnsrIIZd3JpQ1fVbspzO1Xra4rBWCZmu53T/VzCAzc6oO34PDIW+KJhXoOnYYCYUCqG9vWCFkAQzC8PewH7vYL6F+IX+/n888j/H8jAybId7VQUbbtP9j1kMYbq0+oDLPNf+TucqixdDJo4BmfSzv9eO7kEQzE8GmTJwfPW5iV/XeyXJ9DVOviRAbX8Ri92vxsTuWFAiagvSuUwj3/MgzpTZY9dFy5FHfjLI1Px3wyuhL/Fw6HsJAECYyvnPYiNKefIKMfX8UDDf7SAIqguGYbgxuh9ABy2v6zcZjcPknc/olAAgf1+E4xkA8vdtKg27FQAhtNmC7Vgwz31KtXcQzP8cy/VoFfkRNxrYQVkhi09riTM79dTlbGpcCqx0/XD1uzXh4f1dbuHpbbLMuLlmQmXp/3rPSh9DkmlYjK+6lCXLXSeLi+5kcUlrc8ttUmF5d2fs10N8LWAQ3OOSVIun+g3XJiCP/OQ4ZQpLqyNEISVA1ev3BvwUQW955+gH9s7RW945Duvyt7e3VsOoR5IkT09PDQo+VjOvSFExl97ljTc1u4U7u2+NNzW7hku9vMeIfvrWOR7EchQsiqIoYvpUgS5xsRSPNbAjjz6C9SWHns7QXIoH6eUAAIjiYzcwyGNxn4uk0FouuGkml5XsTMF1t0Mp4Rm2X7fNmHVQCo3lyHMYmaxvbGVn0iDXtJRQSqez8U09d1KKc8txtQvMsj2sZWfSEZRag5wxxhib7Maz243sjkpRPkCXaVrvfF+m4Y9JL1UZHeo70aCcYtAgChs4KsXZ7psE8MsP5+2zM0kAK4TWjpv3OCrF7xuud5Wd2S5uSHFmuQ9wmqfdSnYm5hC0vhpzVIqz6RsJIDdcluw/0fGTDSyG9dcngnnDbbqcEiDTZQqJX/y4RjOm3h5XpdBOMlqeOt3F5E0pR6XQrMvpCPJWvxAWKxi1PqoDgKNS6PfYEbG90+ZWKz/DPSke61il5wo80LFKz3XoLe8c/wCS1Td/nIL1TAAAAABJRU5ErkJggg==\"></div>"
      ],
      "text/plain": [
       "        -3   2 Log[-1 + x]\n",
       "(-1 + x)   - -------------\n",
       "                       3\n",
       "               (-1 + x)"
      ]
     },
     "execution_count": 13,
     "metadata": {
      "text/html": [],
      "text/plain": []
     },
     "output_type": "execute_result"
    }
   ],
   "source": [
    "df = D[f[x], x]"
   ]
  },
  {
   "cell_type": "code",
   "execution_count": 14,
   "metadata": {},
   "outputs": [
    {
     "data": {
      "text/html": [
       "<div><img alt=\"Output\" src=\"data:image/png;base64,iVBORw0KGgoAAAANSUhEUgAAAGMAAAATCAIAAAALeyQDAAAAz3pUWHRSYXcgcHJvZmlsZSB0eXBlIGV4aWYAAHjabU9bDsMgDPvnFDsCeeDAcWhLpd1gx18odBrTLDU2jpNCaK/nGR4dTDFosowCRIcWLVxd5DgwmGK56gXI7NHqB5oNqm6lr4E2/W31DYM5/yyKPIT0P7gWnQNzkfDwqY7zNvNcc14X3Ved0Py5+v+zGCOBTL0qRzMU1zm4dELimAwndsCDhIOj7s4NZj4G6wmpfbCDm63pFiBuHP0J0j+S6qxeWZhvh8W8ihBv3pUr05/zBhLnWoa9kM6RAAAACXBIWXMAAAsTAAALEwEAmpwYAAAAPHRFWHRTb2Z0d2FyZQBDcmVhdGVkIHdpdGggdGhlIFdvbGZyYW0gTGFuZ3VhZ2UgOiB3d3cud29sZnJhbS5jb21coqaFAAAAIXRFWHRDcmVhdGlvbiBUaW1lADIwMjE6MDQ6MjIgMjE6Mjc6MzEIOLw7AAACtElEQVRYhe2Yr3PqQBDH9zoVkcg6KpKIqspOEMUGTP6DVnF1UIGrwD/BRTGpal3nGWrI/QV0kBVMppM7UYlrHLg8wa+83F75Ud6Ux/SjwneP3cveZtlA0jSFDFKCaYKKTt9DkiS5vb0tFouo1fO88/PzbfymS0JWC4VIFXT6ntLtdj8+PtZaKkJWY8idYfrRMmcc7MBFCken7yvv7++FQmGtpaZb96An19KPlFU/4HxvpqRfIoQQynfmMUmSdQtqQ74xU5ySK3gUzNml08FgUC6Xd+lxzuaZ4jRTBZwSUvLVBz2D5D5eMm6Q9usr25/k/FP3Od7e3k5PTxeRaalUKlH6+Q7XY/NMuUEa1u4rlANwWhkyseJ2TbcKVJOsNRBxrDcmSdJqtUajkWqSPu3FAHf9fj8IquILO5gxz5TkfgwuEhDT3UCwYYWQCoRYmmQOsJp2vMVWp18GEPMLhaenp+vr64eHh+nHyWRiGAYAAPAeNO0o8qzZDrwo1lS2Db+wqlX049mmRAx2FdmsRgcAx3FeUIMUQuS1OIIIJLgbzBpy6ieOIrBtAABTnVRubm4AoFAojEajk5OTwWBwcXGxNJ+dLS6tpq7yLRt6PWnV894VfTltMRai05mqhzVwmEgFc8DBBjfVBTrfzWwO1NDAs1hsZYTxeNxoNNI07XQ62ZCasTIfH1+j6Ms+ZU5PTiGvc0oqQ/ZYN8GsPzJoWKs7eq8aICfKKSGEWI0XuK98aVYwDKNYLL6+vk4mk8Wu64EdR8PfV9TnnPuUUs0Pg1L+Wj1zeiF+tDp9n5iWVbvdzhuEEJ+/iOlqVtGPtzzHPcMwjMvLS2TmRJrblhxIpgDA87zM07d7Duq9bz4i/BMymbLiZ7Q36/RDQPJnsJHnE9Nz/S8Msf6m0/9vNrtbkv79n+cPOv4AE59ssyPGmXAAAAAASUVORK5CYII=\"></div>"
      ],
      "text/plain": [
       "{{x -> 1 + Sqrt[E]}}"
      ]
     },
     "execution_count": 14,
     "metadata": {
      "text/html": [],
      "text/plain": []
     },
     "output_type": "execute_result"
    }
   ],
   "source": [
    "Solve[df == 0, x]"
   ]
  },
  {
   "cell_type": "markdown",
   "metadata": {},
   "source": [
    "Нашли одну точку экстремума: $x = \\sqrt{e} + 1$. Определим знак производной слева и справа от нее."
   ]
  },
  {
   "cell_type": "code",
   "execution_count": 15,
   "metadata": {},
   "outputs": [
    {
     "data": {
      "text/html": [
       "<div><img alt=\"Output\" src=\"data:image/png;base64,iVBORw0KGgoAAAANSUhEUgAAACsAAAAPCAIAAADyAqG3AAAAzXpUWHRSYXcgcHJvZmlsZSB0eXBlIGV4aWYAAHjabU/RDUMhCPx3io6AgIeOo32+pBt0/OLTtrHpJcJxHKihPx9nuA1wpKDJMgpADi1auDrJNDFzpHLFC9xWL+56oHPp1aX0baAvve26YS3Mv4t4Ehk3OBddA2uR8NRjnXVbfq4574uENmj+PP1/LcZIiKYelckMxXkOTj0hMSXDiTvgxoiDSe+eO8x8DDYcUsfgAHfb3T1AXDjGF2ScKNWzemRhfiss5lEkcvOuXJ7xnReW9VrjpOe81QAAAAlwSFlzAAALEwAACxMBAJqcGAAAADx0RVh0U29mdHdhcmUAQ3JlYXRlZCB3aXRoIHRoZSBXb2xmcmFtIExhbmd1YWdlIDogd3d3LndvbGZyYW0uY29tXKKmhQAAACF0RVh0Q3JlYXRpb24gVGltZQAyMDIxOjA0OjIyIDIxOjI3OjMxCDi8OwAAAZZJREFUOI21VatywkAUPdupiIzEBUEQKCRDBNi2Jn8AisUVBK6CPyBRDFXUMTUoyBfQiUR0Mkx2BTKOdcRtRZrSIaEJU3LUJvexZ+7jLJFSohgIIYbDoaZpqVbTNOv1OgDIwrBcLg+HQ6bbXUEFALDf71VVzXQrkEFORAy4bRBCCHVullcIkacAEQOHkg7emNW82fUAXNdtt9s5GTzM5Oa5kuXIHYdfwWC325XL5TjUpoZhGJTaKSlyzwHz/ctGIcR4PA6CIGniNl35wMtms5nNnhi1zzudhwHnnHMALD4ksFgsut3ufD6PPsMwVBQFAOCsMKp6nqlHsbrp+WcU7nPczxgDfM9DtQoAlUqiZf1+H4CqqkEQlEol13UbjcbJXKv9HPVRouGxMDCrid76snCsLYtlaMvxeBwMBlLK6XR6Stuz1lbvj9hoFwgh+uADr4//2klFUTRN2263YRjG/yrPs6rvfb53qO04jk0pTQx0pmpehagMk8nk3MAYY+l1yJ6Da8vQarVStChleL5BZAFv469dyMYXYvv3NOHEBr8AAAAASUVORK5CYII=\"></div>"
      ],
      "text/plain": [
       "1 + Sqrt[E]"
      ]
     },
     "execution_count": 15,
     "metadata": {
      "text/html": [],
      "text/plain": []
     },
     "output_type": "execute_result"
    }
   ],
   "source": [
    "extremum = Exp[1/2] + 1"
   ]
  },
  {
   "cell_type": "code",
   "execution_count": 16,
   "metadata": {},
   "outputs": [
    {
     "data": {
      "text/html": [
       "<div><img alt=\"Output\" src=\"data:image/png;base64,iVBORw0KGgoAAAANSUhEUgAAABcAAAAhCAIAAAC9a6dHAAAAznpUWHRSYXcgcHJvZmlsZSB0eXBlIGV4aWYAAHjabU9RbkMhDPvnFDtCcIIDx+G1VNoNevyGQjcxLRKx4zgB0nh+P9LXDGRJVryykRJhzRp6kCorFmZp77wK37186gkfQw+p/DY4tn6dunMh6p9FgkV03hBcbQ/sRYql577qa/vRaz0XqRxh9efp/9fqYGF2i2wQd7bgNQUNYIEU54M3MoyZd4jdAgfdY4w+Hdrn4AwMP90jUUO4zy/oPFl7oEWGAh8F6pFVM67o6tszv/MCEApahAsuGX0AAAAJcEhZcwAACxMAAAsTAQCanBgAAAA8dEVYdFNvZnR3YXJlAENyZWF0ZWQgd2l0aCB0aGUgV29sZnJhbSBMYW5ndWFnZSA6IHd3dy53b2xmcmFtLmNvbVyipoUAAAAhdEVYdENyZWF0aW9uIFRpbWUAMjAyMTowNDoyMiAyMToyNzozMQg4vDsAAAEOSURBVEiJ7ZWxccMwDEWhnAfQEGIKnSegJ1Aqb5AOLsXGvUaAS5cZwtAEWYGFiV2YgnJCSaQdXZpEl9+IpwMfcR/HT/BZOdIAAMj5kpueIK3+ULzC2wB6qBylOfv3tvoW4g5lmdZHgczsGMdl9+ddeO9/3spv8mV9lE34dF23dKcxpizLsP6f9J+iyGlXBO1OshATJf5w+x1p0OQeJ/+XUvnCmMwTx4Raa404OyJBcaTnEEdIRLduGWlUMHO3Pyiz5XMz+XuB47O1eyUiIqD29tqn3Q3+vgD7KWNQXX8u1bGNazYxQpltBqHAXqC2V2ib5FMXmTHSzJngLRIzEyJy7PDCOy0iAFU17Wd9yfABx/SQwIydUKYAAAAASUVORK5CYII=\"></div>"
      ],
      "text/plain": [
       " 1\n",
       "---\n",
       "2 E"
      ]
     },
     "execution_count": 16,
     "metadata": {
      "text/html": [],
      "text/plain": []
     },
     "output_type": "execute_result"
    }
   ],
   "source": [
    "f[extremum]"
   ]
  },
  {
   "cell_type": "code",
   "execution_count": 17,
   "metadata": {},
   "outputs": [
    {
     "data": {
      "text/html": [
       "<div><pre style=\"&#102;&#111;&#110;&#116;&#45;&#102;&#97;&#109;&#105;&#108;&#121;&#58;&#32;&#34;&#67;&#111;&#117;&#114;&#105;&#101;&#114;&#32;&#78;&#101;&#119;&#34;&#44;&#67;&#111;&#117;&#114;&#105;&#101;&#114;&#44;&#109;&#111;&#110;&#111;&#115;&#112;&#97;&#99;&#101;&#59;\">&#45;&#48;&#46;&#48;&#50;&#50;&#48;&#50;&#50;&#56;</pre></div>"
      ],
      "text/plain": [
       "-0.0220228"
      ]
     },
     "execution_count": 17,
     "metadata": {
      "text/html": [],
      "text/plain": []
     },
     "output_type": "execute_result"
    }
   ],
   "source": [
    "df/.x->(extremum + 0.1)"
   ]
  },
  {
   "cell_type": "code",
   "execution_count": 18,
   "metadata": {},
   "outputs": [
    {
     "data": {
      "text/html": [
       "<div><pre style=\"&#102;&#111;&#110;&#116;&#45;&#102;&#97;&#109;&#105;&#108;&#121;&#58;&#32;&#34;&#67;&#111;&#117;&#114;&#105;&#101;&#114;&#32;&#78;&#101;&#119;&#34;&#44;&#67;&#111;&#117;&#114;&#105;&#101;&#114;&#44;&#109;&#111;&#110;&#111;&#115;&#112;&#97;&#99;&#101;&#59;\">&#48;&#46;&#48;&#51;&#51;&#54;&#56;&#56;&#51;</pre></div>"
      ],
      "text/plain": [
       "0.0336883"
      ]
     },
     "execution_count": 18,
     "metadata": {
      "text/html": [],
      "text/plain": []
     },
     "output_type": "execute_result"
    }
   ],
   "source": [
    "df/.x->(extremum - 0.1)"
   ]
  },
  {
   "cell_type": "markdown",
   "metadata": {},
   "source": [
    "Производная слева положительная, а справа - отрицательная. Значит $\\large{(\\sqrt{e} + 1; \\frac{1}{2e})}$ - точка максимума.\n",
    "\n",
    "Функция возрастает при $x \\in (1; \\sqrt{e} + 1)$, убывает при $x \\in (\\sqrt{e} + 1; + \\infty)$."
   ]
  },
  {
   "cell_type": "code",
   "execution_count": 19,
   "metadata": {},
   "outputs": [
    {
     "data": {
      "text/html": [
       "<div><img alt=\"Output\" src=\"data:image/png;base64,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\"></div>"
      ],
      "text/plain": [
       "-Graphics-"
      ]
     },
     "execution_count": 19,
     "metadata": {
      "text/html": [],
      "text/plain": []
     },
     "output_type": "execute_result"
    }
   ],
   "source": [
    "Show[\n",
    "    Graphics[Line[{{1, 0}, {5, 0}}]],\n",
    "    Graphics[{PointSize[0.03], Point[{1, 0}, VertexColors->Red]}],\n",
    "    Graphics[Text[1, {1, -0.2}]],\n",
    "    Graphics[{PointSize[0.03], Point[{2, 0}, VertexColors->Red]}],\n",
    "    Graphics[Text[Sqrt[e]+1, {2, -0.2}]],\n",
    "    Graphics[Arrow[{{Exp[0.5] / 2 + 0.5, 0.1}, {Exp[0.5] / 2 + 0.8, 0.3}}]],\n",
    "    Graphics[Arrow[{{3, 0.3}, {3.5, 0.1}}]]\n",
    "]"
   ]
  },
  {
   "cell_type": "markdown",
   "metadata": {},
   "source": [
    "### Непрерывность\n",
    "\n",
    "Функция непрерывна на всей области определения."
   ]
  },
  {
   "cell_type": "markdown",
   "metadata": {},
   "source": [
    "### Асимптоты\n",
    "\n",
    "Найдём горизонтальную асимптоту:"
   ]
  },
  {
   "cell_type": "code",
   "execution_count": 20,
   "metadata": {},
   "outputs": [
    {
     "data": {
      "text/html": [
       "<div><pre style=\"&#102;&#111;&#110;&#116;&#45;&#102;&#97;&#109;&#105;&#108;&#121;&#58;&#32;&#34;&#67;&#111;&#117;&#114;&#105;&#101;&#114;&#32;&#78;&#101;&#119;&#34;&#44;&#67;&#111;&#117;&#114;&#105;&#101;&#114;&#44;&#109;&#111;&#110;&#111;&#115;&#112;&#97;&#99;&#101;&#59;\">&#48;</pre></div>"
      ],
      "text/plain": [
       "0"
      ]
     },
     "execution_count": 20,
     "metadata": {
      "text/html": [],
      "text/plain": []
     },
     "output_type": "execute_result"
    }
   ],
   "source": [
    "Limit[f[x], x->Infinity]"
   ]
  },
  {
   "cell_type": "markdown",
   "metadata": {},
   "source": [
    "Значит, $y = 0$ - горизонтальная асимптота.\n",
    "\n",
    "Найдём вертикальную асимптоту:"
   ]
  },
  {
   "cell_type": "code",
   "execution_count": 21,
   "metadata": {},
   "outputs": [
    {
     "data": {
      "text/html": [
       "<div><img alt=\"Output\" src=\"data:image/png;base64,iVBORw0KGgoAAAANSUhEUgAAABIAAAAPCAIAAABm5AhFAAAAzXpUWHRSYXcgcHJvZmlsZSB0eXBlIGV4aWYAAHjabU/RbUQhDPtnio4QkuDAOLw7ntQNOn7NQVtRnSXixHECpPH1eaePCc2SvERFA4Tw5k07kyoLi7O0V1yF7l4+9ST31jul8tfA2Pp16oHFWv8v2jfYvIG5+R7Yi0yXnvuqr+3XXuu5yOSA19+nv68tFAU5nNFVItCY18SUhKJSAjceAI0ZTxV/kAciOIaYDutzcEJHnO6RYBSe8ws2T7ZOdkY11R9FLRgJvdi1l2d+5xtO61q0JtetPAAAAAlwSFlzAAALEwAACxMBAJqcGAAAADx0RVh0U29mdHdhcmUAQ3JlYXRlZCB3aXRoIHRoZSBXb2xmcmFtIExhbmd1YWdlIDogd3d3LndvbGZyYW0uY29tXKKmhQAAACF0RVh0Q3JlYXRpb24gVGltZQAyMDIxOjA0OjIyIDIxOjI3OjMz5jbdFwAAAJFJREFUKJHtkjEOwjAMRX9Rj5J44CpZcgoYOUiXdOwtssS9i527mCVFILVBMDDxpi9bX9+WPZgZPuf0hedv22Psdtf5KhRJJIMislAkyULLDWZmpi9YQ1Pih7ykrc4p6QigVlV9DnHONeV3RvCADr0vqetcEIJHmQrOAIXgtUwSFtgbVJm38ZS5rdBNO+a3d7sDU2+IXNMKw+wAAAAASUVORK5CYII=\"></div>"
      ],
      "text/plain": [
       "-Infinity"
      ]
     },
     "execution_count": 21,
     "metadata": {
      "text/html": [],
      "text/plain": []
     },
     "output_type": "execute_result"
    }
   ],
   "source": [
    "Limit[f[x], x->1]"
   ]
  },
  {
   "cell_type": "markdown",
   "metadata": {},
   "source": [
    "В точке $x = 1$ функция стремится к бесконечности, значит $x = 1$ - вертикальная асимптота.\n",
    "\n",
    "Найдём наклонную асимптоту."
   ]
  },
  {
   "cell_type": "code",
   "execution_count": 22,
   "metadata": {},
   "outputs": [
    {
     "data": {
      "text/html": [
       "<div><pre style=\"&#102;&#111;&#110;&#116;&#45;&#102;&#97;&#109;&#105;&#108;&#121;&#58;&#32;&#34;&#67;&#111;&#117;&#114;&#105;&#101;&#114;&#32;&#78;&#101;&#119;&#34;&#44;&#67;&#111;&#117;&#114;&#105;&#101;&#114;&#44;&#109;&#111;&#110;&#111;&#115;&#112;&#97;&#99;&#101;&#59;\">&#48;</pre></div>"
      ],
      "text/plain": [
       "0"
      ]
     },
     "execution_count": 22,
     "metadata": {
      "text/html": [],
      "text/plain": []
     },
     "output_type": "execute_result"
    }
   ],
   "source": [
    "Limit[f[x] / x, x->Infinity]"
   ]
  },
  {
   "cell_type": "markdown",
   "metadata": {},
   "source": [
    "Полученный предел равен 0, значит наклонных асимптот нет.\n",
    "\n",
    "Построим график и его асимптоты."
   ]
  },
  {
   "cell_type": "code",
   "execution_count": 23,
   "metadata": {},
   "outputs": [],
   "source": [
    "plotAsympt1 = Plot[\n",
    "                0, \n",
    "                {x, 0, 10}, \n",
    "                PlotStyle->{Red, Thickness[0.005]}, \n",
    "                ImageSize->Large\n",
    "            ];"
   ]
  },
  {
   "cell_type": "code",
   "execution_count": 24,
   "metadata": {},
   "outputs": [],
   "source": [
    "plotAsympt2 = Graphics[Line[{{1, -5}, {1, 1}}], ImageSize->Large];"
   ]
  },
  {
   "cell_type": "code",
   "execution_count": 25,
   "metadata": {},
   "outputs": [
    {
     "data": {
      "text/html": [
       "<div><img alt=\"Output\" src=\"data:image/png;base64,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\"></div>"
      ],
      "text/plain": [
       "-Graphics-"
      ]
     },
     "execution_count": 25,
     "metadata": {
      "text/html": [],
      "text/plain": []
     },
     "output_type": "execute_result"
    }
   ],
   "source": [
    "Show[\n",
    "    plotFunc,\n",
    "    plotAsympt1,\n",
    "    plotAsympt2\n",
    "]"
   ]
  }
 ],
 "metadata": {
  "kernelspec": {
   "display_name": "Wolfram Language 12.2",
   "language": "Wolfram Language",
   "name": "wolframlanguage12.2"
  },
  "language_info": {
   "codemirror_mode": "mathematica",
   "file_extension": ".m",
   "mimetype": "application/vnd.wolfram.m",
   "name": "Wolfram Language",
   "pygments_lexer": "mathematica",
   "version": "12.0"
  }
 },
 "nbformat": 4,
 "nbformat_minor": 4
}
